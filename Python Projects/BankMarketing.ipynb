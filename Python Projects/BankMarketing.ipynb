{
  "nbformat": 4,
  "nbformat_minor": 2,
  "metadata": {
    "colab": {
      "name": "python_sklearn_tutotrial (1).ipynb",
      "provenance": [],
      "collapsed_sections": []
    },
    "kernelspec": {
      "name": "python3",
      "display_name": "Python 3.7.6 64-bit"
    },
    "language_info": {
      "name": "python",
      "version": "3.7.6",
      "mimetype": "text/x-python",
      "codemirror_mode": {
        "name": "ipython",
        "version": 3
      },
      "pygments_lexer": "ipython3",
      "nbconvert_exporter": "python",
      "file_extension": ".py"
    },
    "interpreter": {
      "hash": "aee8b7b246df8f9039afb4144a1f6fd8d2ca17a180786b69acc140d282b71a49"
    }
  },
  "cells": [
    {
      "cell_type": "markdown",
      "source": [
        "# Bank Marketing\n",
        "\n",
        "In this dataset, we will use basic data analysis using python libraries such as Pandas and Sklearn We will also run Naive Bayes and Decision Tree algorithms before and after feature engineering to compare each of them.\n",
        "\n",
        "1 – **Age**: Age of the customer (numeric).\n",
        "\n",
        "2 - **Job**: Type of job (qualitative).\n",
        "\n",
        "3 - **Marital**: Marital status (qualitative).\n",
        "\n",
        "4 – **Education**: Education of the customer (qualitative).\n",
        "\n",
        "5 - **Default**: Shows whether the customer has credit in default or not (qualitative). \n",
        "\n",
        "6 - **Balance**: Average yearly balance in Euros (numeric).\n",
        "\n",
        "7 - **Housing**: Shows whether the customer has housing loan or not (qualitative).\n",
        "\n",
        "8 - **Loan**: Shows whether the customer has personal loan or not (qualitative/categorical).\n",
        "\n",
        "9 - **Contact**: Shows how the last contact for marketing campaign has been made (qualitative)\n",
        "\n",
        "10 - **Day**: Shows on which day of the month last time customer was contacted (numeric). \n",
        "\n",
        "11 - **Month**: Shows on which month of the year last time customer was contacted (qualitative).\n",
        "\n",
        "12 - **Duration**: Shows the last contact duration in seconds (numeric).\n",
        "\n",
        "13 - **Campaign**: Number of contacts performed during the marketing campaign and for this customer (numeric).\n",
        "\n",
        "14 - **Pdays**: Number of days that passed by after the client was last contacted from a previous campaign (numeric, -1 means client was not previously contacted).\n",
        "\n",
        "15 - **Previous**: Number of contacts performed before this campaign and for this client (numeric).\n",
        "\n",
        "16 – **Poutcome**: Outcome of the previous marketing campaign (qualitative).\n",
        "\n",
        "17 - **y**: People with subscription to term deposit are represented by yes and people with no subscription to the term deposit will be reported by no.\n",
        "\n",
        "The purpose of this assignment is to compare both machine learning models in a complete and selective state, and to see the changes that could be made when tuning a model."
      ],
      "metadata": {
        "id": "1v5-JCJLYhQF"
      }
    },
    {
      "cell_type": "markdown",
      "source": [
        "## Data Exploration:"
      ],
      "metadata": {}
    },
    {
      "cell_type": "code",
      "execution_count": 274,
      "source": [
        "import pandas as pd \n",
        "import numpy as np\n",
        "\n",
        "# importing the dataset:\n",
        "data = pd.read_csv(\"/Users/azamrahman/Desktop/Projects/Python Projects/Bank Marketing - (Decision Trees and Naive Bayes)/bank.csv\")\n",
        "\n",
        "df = data.copy()\n",
        "\n",
        "# Looking at the data types\n",
        "print(df.dtypes)"
      ],
      "outputs": [
        {
          "output_type": "stream",
          "name": "stdout",
          "text": [
            "age           int64\n",
            "job          object\n",
            "marital      object\n",
            "education    object\n",
            "default      object\n",
            "balance       int64\n",
            "housing      object\n",
            "loan         object\n",
            "contact      object\n",
            "day           int64\n",
            "month        object\n",
            "duration      int64\n",
            "campaign      int64\n",
            "pdays         int64\n",
            "previous      int64\n",
            "poutcome     object\n",
            "y            object\n",
            "dtype: object\n"
          ]
        }
      ],
      "metadata": {
        "id": "HKz_hIVQdfSR",
        "colab": {
          "base_uri": "https://localhost:8080/"
        },
        "outputId": "4367b35d-130a-4954-9dff-757b6a50cc03"
      }
    },
    {
      "cell_type": "markdown",
      "source": [
        "Out of the 17 attributes: 7 of them are \"int64\" while 10, including the target variable, are \"objects."
      ],
      "metadata": {}
    },
    {
      "cell_type": "code",
      "execution_count": 275,
      "source": [
        "# displaying first 10 records \n",
        "df.head(10)"
      ],
      "outputs": [
        {
          "output_type": "execute_result",
          "data": {
            "text/plain": [
              "   age            job  marital  education default  balance housing loan  \\\n",
              "0   30     unemployed  married    primary      no     1787      no   no   \n",
              "1   33       services  married  secondary      no     4789     yes  yes   \n",
              "2   35     management   single   tertiary      no     1350     yes   no   \n",
              "3   30     management  married   tertiary      no     1476     yes  yes   \n",
              "4   59    blue-collar  married  secondary      no        0     yes   no   \n",
              "5   35     management   single   tertiary      no      747      no   no   \n",
              "6   36  self-employed  married   tertiary      no      307     yes   no   \n",
              "7   39     technician  married  secondary      no      147     yes   no   \n",
              "8   41   entrepreneur  married   tertiary      no      221     yes   no   \n",
              "9   43       services  married    primary      no      -88     yes  yes   \n",
              "\n",
              "    contact  day month  duration  campaign  pdays  previous poutcome   y  \n",
              "0  cellular   19   oct        79         1     -1         0  unknown  no  \n",
              "1  cellular   11   may       220         1    339         4  failure  no  \n",
              "2  cellular   16   apr       185         1    330         1  failure  no  \n",
              "3   unknown    3   jun       199         4     -1         0  unknown  no  \n",
              "4   unknown    5   may       226         1     -1         0  unknown  no  \n",
              "5  cellular   23   feb       141         2    176         3  failure  no  \n",
              "6  cellular   14   may       341         1    330         2    other  no  \n",
              "7  cellular    6   may       151         2     -1         0  unknown  no  \n",
              "8   unknown   14   may        57         2     -1         0  unknown  no  \n",
              "9  cellular   17   apr       313         1    147         2  failure  no  "
            ],
            "text/html": [
              "<div>\n",
              "<style scoped>\n",
              "    .dataframe tbody tr th:only-of-type {\n",
              "        vertical-align: middle;\n",
              "    }\n",
              "\n",
              "    .dataframe tbody tr th {\n",
              "        vertical-align: top;\n",
              "    }\n",
              "\n",
              "    .dataframe thead th {\n",
              "        text-align: right;\n",
              "    }\n",
              "</style>\n",
              "<table border=\"1\" class=\"dataframe\">\n",
              "  <thead>\n",
              "    <tr style=\"text-align: right;\">\n",
              "      <th></th>\n",
              "      <th>age</th>\n",
              "      <th>job</th>\n",
              "      <th>marital</th>\n",
              "      <th>education</th>\n",
              "      <th>default</th>\n",
              "      <th>balance</th>\n",
              "      <th>housing</th>\n",
              "      <th>loan</th>\n",
              "      <th>contact</th>\n",
              "      <th>day</th>\n",
              "      <th>month</th>\n",
              "      <th>duration</th>\n",
              "      <th>campaign</th>\n",
              "      <th>pdays</th>\n",
              "      <th>previous</th>\n",
              "      <th>poutcome</th>\n",
              "      <th>y</th>\n",
              "    </tr>\n",
              "  </thead>\n",
              "  <tbody>\n",
              "    <tr>\n",
              "      <th>0</th>\n",
              "      <td>30</td>\n",
              "      <td>unemployed</td>\n",
              "      <td>married</td>\n",
              "      <td>primary</td>\n",
              "      <td>no</td>\n",
              "      <td>1787</td>\n",
              "      <td>no</td>\n",
              "      <td>no</td>\n",
              "      <td>cellular</td>\n",
              "      <td>19</td>\n",
              "      <td>oct</td>\n",
              "      <td>79</td>\n",
              "      <td>1</td>\n",
              "      <td>-1</td>\n",
              "      <td>0</td>\n",
              "      <td>unknown</td>\n",
              "      <td>no</td>\n",
              "    </tr>\n",
              "    <tr>\n",
              "      <th>1</th>\n",
              "      <td>33</td>\n",
              "      <td>services</td>\n",
              "      <td>married</td>\n",
              "      <td>secondary</td>\n",
              "      <td>no</td>\n",
              "      <td>4789</td>\n",
              "      <td>yes</td>\n",
              "      <td>yes</td>\n",
              "      <td>cellular</td>\n",
              "      <td>11</td>\n",
              "      <td>may</td>\n",
              "      <td>220</td>\n",
              "      <td>1</td>\n",
              "      <td>339</td>\n",
              "      <td>4</td>\n",
              "      <td>failure</td>\n",
              "      <td>no</td>\n",
              "    </tr>\n",
              "    <tr>\n",
              "      <th>2</th>\n",
              "      <td>35</td>\n",
              "      <td>management</td>\n",
              "      <td>single</td>\n",
              "      <td>tertiary</td>\n",
              "      <td>no</td>\n",
              "      <td>1350</td>\n",
              "      <td>yes</td>\n",
              "      <td>no</td>\n",
              "      <td>cellular</td>\n",
              "      <td>16</td>\n",
              "      <td>apr</td>\n",
              "      <td>185</td>\n",
              "      <td>1</td>\n",
              "      <td>330</td>\n",
              "      <td>1</td>\n",
              "      <td>failure</td>\n",
              "      <td>no</td>\n",
              "    </tr>\n",
              "    <tr>\n",
              "      <th>3</th>\n",
              "      <td>30</td>\n",
              "      <td>management</td>\n",
              "      <td>married</td>\n",
              "      <td>tertiary</td>\n",
              "      <td>no</td>\n",
              "      <td>1476</td>\n",
              "      <td>yes</td>\n",
              "      <td>yes</td>\n",
              "      <td>unknown</td>\n",
              "      <td>3</td>\n",
              "      <td>jun</td>\n",
              "      <td>199</td>\n",
              "      <td>4</td>\n",
              "      <td>-1</td>\n",
              "      <td>0</td>\n",
              "      <td>unknown</td>\n",
              "      <td>no</td>\n",
              "    </tr>\n",
              "    <tr>\n",
              "      <th>4</th>\n",
              "      <td>59</td>\n",
              "      <td>blue-collar</td>\n",
              "      <td>married</td>\n",
              "      <td>secondary</td>\n",
              "      <td>no</td>\n",
              "      <td>0</td>\n",
              "      <td>yes</td>\n",
              "      <td>no</td>\n",
              "      <td>unknown</td>\n",
              "      <td>5</td>\n",
              "      <td>may</td>\n",
              "      <td>226</td>\n",
              "      <td>1</td>\n",
              "      <td>-1</td>\n",
              "      <td>0</td>\n",
              "      <td>unknown</td>\n",
              "      <td>no</td>\n",
              "    </tr>\n",
              "    <tr>\n",
              "      <th>5</th>\n",
              "      <td>35</td>\n",
              "      <td>management</td>\n",
              "      <td>single</td>\n",
              "      <td>tertiary</td>\n",
              "      <td>no</td>\n",
              "      <td>747</td>\n",
              "      <td>no</td>\n",
              "      <td>no</td>\n",
              "      <td>cellular</td>\n",
              "      <td>23</td>\n",
              "      <td>feb</td>\n",
              "      <td>141</td>\n",
              "      <td>2</td>\n",
              "      <td>176</td>\n",
              "      <td>3</td>\n",
              "      <td>failure</td>\n",
              "      <td>no</td>\n",
              "    </tr>\n",
              "    <tr>\n",
              "      <th>6</th>\n",
              "      <td>36</td>\n",
              "      <td>self-employed</td>\n",
              "      <td>married</td>\n",
              "      <td>tertiary</td>\n",
              "      <td>no</td>\n",
              "      <td>307</td>\n",
              "      <td>yes</td>\n",
              "      <td>no</td>\n",
              "      <td>cellular</td>\n",
              "      <td>14</td>\n",
              "      <td>may</td>\n",
              "      <td>341</td>\n",
              "      <td>1</td>\n",
              "      <td>330</td>\n",
              "      <td>2</td>\n",
              "      <td>other</td>\n",
              "      <td>no</td>\n",
              "    </tr>\n",
              "    <tr>\n",
              "      <th>7</th>\n",
              "      <td>39</td>\n",
              "      <td>technician</td>\n",
              "      <td>married</td>\n",
              "      <td>secondary</td>\n",
              "      <td>no</td>\n",
              "      <td>147</td>\n",
              "      <td>yes</td>\n",
              "      <td>no</td>\n",
              "      <td>cellular</td>\n",
              "      <td>6</td>\n",
              "      <td>may</td>\n",
              "      <td>151</td>\n",
              "      <td>2</td>\n",
              "      <td>-1</td>\n",
              "      <td>0</td>\n",
              "      <td>unknown</td>\n",
              "      <td>no</td>\n",
              "    </tr>\n",
              "    <tr>\n",
              "      <th>8</th>\n",
              "      <td>41</td>\n",
              "      <td>entrepreneur</td>\n",
              "      <td>married</td>\n",
              "      <td>tertiary</td>\n",
              "      <td>no</td>\n",
              "      <td>221</td>\n",
              "      <td>yes</td>\n",
              "      <td>no</td>\n",
              "      <td>unknown</td>\n",
              "      <td>14</td>\n",
              "      <td>may</td>\n",
              "      <td>57</td>\n",
              "      <td>2</td>\n",
              "      <td>-1</td>\n",
              "      <td>0</td>\n",
              "      <td>unknown</td>\n",
              "      <td>no</td>\n",
              "    </tr>\n",
              "    <tr>\n",
              "      <th>9</th>\n",
              "      <td>43</td>\n",
              "      <td>services</td>\n",
              "      <td>married</td>\n",
              "      <td>primary</td>\n",
              "      <td>no</td>\n",
              "      <td>-88</td>\n",
              "      <td>yes</td>\n",
              "      <td>yes</td>\n",
              "      <td>cellular</td>\n",
              "      <td>17</td>\n",
              "      <td>apr</td>\n",
              "      <td>313</td>\n",
              "      <td>1</td>\n",
              "      <td>147</td>\n",
              "      <td>2</td>\n",
              "      <td>failure</td>\n",
              "      <td>no</td>\n",
              "    </tr>\n",
              "  </tbody>\n",
              "</table>\n",
              "</div>"
            ]
          },
          "metadata": {},
          "execution_count": 275
        }
      ],
      "metadata": {
        "id": "BTxE5OqBbcWX",
        "colab": {
          "base_uri": "https://localhost:8080/",
          "height": 396
        },
        "outputId": "59a3c320-2cbe-4ed8-9fa1-c26e86a7291c"
      }
    },
    {
      "cell_type": "code",
      "execution_count": 276,
      "source": [
        "# looking at column information about the data, such as null values, non-null values, and type of data:\n",
        "df.info()"
      ],
      "outputs": [
        {
          "output_type": "stream",
          "name": "stdout",
          "text": [
            "<class 'pandas.core.frame.DataFrame'>\n",
            "RangeIndex: 4521 entries, 0 to 4520\n",
            "Data columns (total 17 columns):\n",
            " #   Column     Non-Null Count  Dtype \n",
            "---  ------     --------------  ----- \n",
            " 0   age        4521 non-null   int64 \n",
            " 1   job        4521 non-null   object\n",
            " 2   marital    4521 non-null   object\n",
            " 3   education  4521 non-null   object\n",
            " 4   default    4521 non-null   object\n",
            " 5   balance    4521 non-null   int64 \n",
            " 6   housing    4521 non-null   object\n",
            " 7   loan       4521 non-null   object\n",
            " 8   contact    4521 non-null   object\n",
            " 9   day        4521 non-null   int64 \n",
            " 10  month      4521 non-null   object\n",
            " 11  duration   4521 non-null   int64 \n",
            " 12  campaign   4521 non-null   int64 \n",
            " 13  pdays      4521 non-null   int64 \n",
            " 14  previous   4521 non-null   int64 \n",
            " 15  poutcome   4521 non-null   object\n",
            " 16  y          4521 non-null   object\n",
            "dtypes: int64(7), object(10)\n",
            "memory usage: 600.6+ KB\n"
          ]
        }
      ],
      "metadata": {
        "id": "qB92dsx1KCxP",
        "colab": {
          "base_uri": "https://localhost:8080/"
        },
        "outputId": "dfcdb4ac-ccdb-494e-fd5f-cbba955ba26c"
      }
    },
    {
      "cell_type": "markdown",
      "source": [
        "In this dataset, there are no missing values present."
      ],
      "metadata": {}
    },
    {
      "cell_type": "code",
      "execution_count": 277,
      "source": [
        "# Let's see the information about numeric data, we can also see if there any extreme values\n",
        "df.describe(include = 'all')"
      ],
      "outputs": [
        {
          "output_type": "execute_result",
          "data": {
            "text/plain": [
              "                age         job  marital  education default       balance  \\\n",
              "count   4521.000000        4521     4521       4521    4521   4521.000000   \n",
              "unique          NaN          12        3          4       2           NaN   \n",
              "top             NaN  management  married  secondary      no           NaN   \n",
              "freq            NaN         969     2797       2306    4445           NaN   \n",
              "mean      41.170095         NaN      NaN        NaN     NaN   1422.657819   \n",
              "std       10.576211         NaN      NaN        NaN     NaN   3009.638142   \n",
              "min       19.000000         NaN      NaN        NaN     NaN  -3313.000000   \n",
              "25%       33.000000         NaN      NaN        NaN     NaN     69.000000   \n",
              "50%       39.000000         NaN      NaN        NaN     NaN    444.000000   \n",
              "75%       49.000000         NaN      NaN        NaN     NaN   1480.000000   \n",
              "max       87.000000         NaN      NaN        NaN     NaN  71188.000000   \n",
              "\n",
              "       housing  loan   contact          day month     duration     campaign  \\\n",
              "count     4521  4521      4521  4521.000000  4521  4521.000000  4521.000000   \n",
              "unique       2     2         3          NaN    12          NaN          NaN   \n",
              "top        yes    no  cellular          NaN   may          NaN          NaN   \n",
              "freq      2559  3830      2896          NaN  1398          NaN          NaN   \n",
              "mean       NaN   NaN       NaN    15.915284   NaN   263.961292     2.793630   \n",
              "std        NaN   NaN       NaN     8.247667   NaN   259.856633     3.109807   \n",
              "min        NaN   NaN       NaN     1.000000   NaN     4.000000     1.000000   \n",
              "25%        NaN   NaN       NaN     9.000000   NaN   104.000000     1.000000   \n",
              "50%        NaN   NaN       NaN    16.000000   NaN   185.000000     2.000000   \n",
              "75%        NaN   NaN       NaN    21.000000   NaN   329.000000     3.000000   \n",
              "max        NaN   NaN       NaN    31.000000   NaN  3025.000000    50.000000   \n",
              "\n",
              "              pdays     previous poutcome     y  \n",
              "count   4521.000000  4521.000000     4521  4521  \n",
              "unique          NaN          NaN        4     2  \n",
              "top             NaN          NaN  unknown    no  \n",
              "freq            NaN          NaN     3705  4000  \n",
              "mean      39.766645     0.542579      NaN   NaN  \n",
              "std      100.121124     1.693562      NaN   NaN  \n",
              "min       -1.000000     0.000000      NaN   NaN  \n",
              "25%       -1.000000     0.000000      NaN   NaN  \n",
              "50%       -1.000000     0.000000      NaN   NaN  \n",
              "75%       -1.000000     0.000000      NaN   NaN  \n",
              "max      871.000000    25.000000      NaN   NaN  "
            ],
            "text/html": [
              "<div>\n",
              "<style scoped>\n",
              "    .dataframe tbody tr th:only-of-type {\n",
              "        vertical-align: middle;\n",
              "    }\n",
              "\n",
              "    .dataframe tbody tr th {\n",
              "        vertical-align: top;\n",
              "    }\n",
              "\n",
              "    .dataframe thead th {\n",
              "        text-align: right;\n",
              "    }\n",
              "</style>\n",
              "<table border=\"1\" class=\"dataframe\">\n",
              "  <thead>\n",
              "    <tr style=\"text-align: right;\">\n",
              "      <th></th>\n",
              "      <th>age</th>\n",
              "      <th>job</th>\n",
              "      <th>marital</th>\n",
              "      <th>education</th>\n",
              "      <th>default</th>\n",
              "      <th>balance</th>\n",
              "      <th>housing</th>\n",
              "      <th>loan</th>\n",
              "      <th>contact</th>\n",
              "      <th>day</th>\n",
              "      <th>month</th>\n",
              "      <th>duration</th>\n",
              "      <th>campaign</th>\n",
              "      <th>pdays</th>\n",
              "      <th>previous</th>\n",
              "      <th>poutcome</th>\n",
              "      <th>y</th>\n",
              "    </tr>\n",
              "  </thead>\n",
              "  <tbody>\n",
              "    <tr>\n",
              "      <th>count</th>\n",
              "      <td>4521.000000</td>\n",
              "      <td>4521</td>\n",
              "      <td>4521</td>\n",
              "      <td>4521</td>\n",
              "      <td>4521</td>\n",
              "      <td>4521.000000</td>\n",
              "      <td>4521</td>\n",
              "      <td>4521</td>\n",
              "      <td>4521</td>\n",
              "      <td>4521.000000</td>\n",
              "      <td>4521</td>\n",
              "      <td>4521.000000</td>\n",
              "      <td>4521.000000</td>\n",
              "      <td>4521.000000</td>\n",
              "      <td>4521.000000</td>\n",
              "      <td>4521</td>\n",
              "      <td>4521</td>\n",
              "    </tr>\n",
              "    <tr>\n",
              "      <th>unique</th>\n",
              "      <td>NaN</td>\n",
              "      <td>12</td>\n",
              "      <td>3</td>\n",
              "      <td>4</td>\n",
              "      <td>2</td>\n",
              "      <td>NaN</td>\n",
              "      <td>2</td>\n",
              "      <td>2</td>\n",
              "      <td>3</td>\n",
              "      <td>NaN</td>\n",
              "      <td>12</td>\n",
              "      <td>NaN</td>\n",
              "      <td>NaN</td>\n",
              "      <td>NaN</td>\n",
              "      <td>NaN</td>\n",
              "      <td>4</td>\n",
              "      <td>2</td>\n",
              "    </tr>\n",
              "    <tr>\n",
              "      <th>top</th>\n",
              "      <td>NaN</td>\n",
              "      <td>management</td>\n",
              "      <td>married</td>\n",
              "      <td>secondary</td>\n",
              "      <td>no</td>\n",
              "      <td>NaN</td>\n",
              "      <td>yes</td>\n",
              "      <td>no</td>\n",
              "      <td>cellular</td>\n",
              "      <td>NaN</td>\n",
              "      <td>may</td>\n",
              "      <td>NaN</td>\n",
              "      <td>NaN</td>\n",
              "      <td>NaN</td>\n",
              "      <td>NaN</td>\n",
              "      <td>unknown</td>\n",
              "      <td>no</td>\n",
              "    </tr>\n",
              "    <tr>\n",
              "      <th>freq</th>\n",
              "      <td>NaN</td>\n",
              "      <td>969</td>\n",
              "      <td>2797</td>\n",
              "      <td>2306</td>\n",
              "      <td>4445</td>\n",
              "      <td>NaN</td>\n",
              "      <td>2559</td>\n",
              "      <td>3830</td>\n",
              "      <td>2896</td>\n",
              "      <td>NaN</td>\n",
              "      <td>1398</td>\n",
              "      <td>NaN</td>\n",
              "      <td>NaN</td>\n",
              "      <td>NaN</td>\n",
              "      <td>NaN</td>\n",
              "      <td>3705</td>\n",
              "      <td>4000</td>\n",
              "    </tr>\n",
              "    <tr>\n",
              "      <th>mean</th>\n",
              "      <td>41.170095</td>\n",
              "      <td>NaN</td>\n",
              "      <td>NaN</td>\n",
              "      <td>NaN</td>\n",
              "      <td>NaN</td>\n",
              "      <td>1422.657819</td>\n",
              "      <td>NaN</td>\n",
              "      <td>NaN</td>\n",
              "      <td>NaN</td>\n",
              "      <td>15.915284</td>\n",
              "      <td>NaN</td>\n",
              "      <td>263.961292</td>\n",
              "      <td>2.793630</td>\n",
              "      <td>39.766645</td>\n",
              "      <td>0.542579</td>\n",
              "      <td>NaN</td>\n",
              "      <td>NaN</td>\n",
              "    </tr>\n",
              "    <tr>\n",
              "      <th>std</th>\n",
              "      <td>10.576211</td>\n",
              "      <td>NaN</td>\n",
              "      <td>NaN</td>\n",
              "      <td>NaN</td>\n",
              "      <td>NaN</td>\n",
              "      <td>3009.638142</td>\n",
              "      <td>NaN</td>\n",
              "      <td>NaN</td>\n",
              "      <td>NaN</td>\n",
              "      <td>8.247667</td>\n",
              "      <td>NaN</td>\n",
              "      <td>259.856633</td>\n",
              "      <td>3.109807</td>\n",
              "      <td>100.121124</td>\n",
              "      <td>1.693562</td>\n",
              "      <td>NaN</td>\n",
              "      <td>NaN</td>\n",
              "    </tr>\n",
              "    <tr>\n",
              "      <th>min</th>\n",
              "      <td>19.000000</td>\n",
              "      <td>NaN</td>\n",
              "      <td>NaN</td>\n",
              "      <td>NaN</td>\n",
              "      <td>NaN</td>\n",
              "      <td>-3313.000000</td>\n",
              "      <td>NaN</td>\n",
              "      <td>NaN</td>\n",
              "      <td>NaN</td>\n",
              "      <td>1.000000</td>\n",
              "      <td>NaN</td>\n",
              "      <td>4.000000</td>\n",
              "      <td>1.000000</td>\n",
              "      <td>-1.000000</td>\n",
              "      <td>0.000000</td>\n",
              "      <td>NaN</td>\n",
              "      <td>NaN</td>\n",
              "    </tr>\n",
              "    <tr>\n",
              "      <th>25%</th>\n",
              "      <td>33.000000</td>\n",
              "      <td>NaN</td>\n",
              "      <td>NaN</td>\n",
              "      <td>NaN</td>\n",
              "      <td>NaN</td>\n",
              "      <td>69.000000</td>\n",
              "      <td>NaN</td>\n",
              "      <td>NaN</td>\n",
              "      <td>NaN</td>\n",
              "      <td>9.000000</td>\n",
              "      <td>NaN</td>\n",
              "      <td>104.000000</td>\n",
              "      <td>1.000000</td>\n",
              "      <td>-1.000000</td>\n",
              "      <td>0.000000</td>\n",
              "      <td>NaN</td>\n",
              "      <td>NaN</td>\n",
              "    </tr>\n",
              "    <tr>\n",
              "      <th>50%</th>\n",
              "      <td>39.000000</td>\n",
              "      <td>NaN</td>\n",
              "      <td>NaN</td>\n",
              "      <td>NaN</td>\n",
              "      <td>NaN</td>\n",
              "      <td>444.000000</td>\n",
              "      <td>NaN</td>\n",
              "      <td>NaN</td>\n",
              "      <td>NaN</td>\n",
              "      <td>16.000000</td>\n",
              "      <td>NaN</td>\n",
              "      <td>185.000000</td>\n",
              "      <td>2.000000</td>\n",
              "      <td>-1.000000</td>\n",
              "      <td>0.000000</td>\n",
              "      <td>NaN</td>\n",
              "      <td>NaN</td>\n",
              "    </tr>\n",
              "    <tr>\n",
              "      <th>75%</th>\n",
              "      <td>49.000000</td>\n",
              "      <td>NaN</td>\n",
              "      <td>NaN</td>\n",
              "      <td>NaN</td>\n",
              "      <td>NaN</td>\n",
              "      <td>1480.000000</td>\n",
              "      <td>NaN</td>\n",
              "      <td>NaN</td>\n",
              "      <td>NaN</td>\n",
              "      <td>21.000000</td>\n",
              "      <td>NaN</td>\n",
              "      <td>329.000000</td>\n",
              "      <td>3.000000</td>\n",
              "      <td>-1.000000</td>\n",
              "      <td>0.000000</td>\n",
              "      <td>NaN</td>\n",
              "      <td>NaN</td>\n",
              "    </tr>\n",
              "    <tr>\n",
              "      <th>max</th>\n",
              "      <td>87.000000</td>\n",
              "      <td>NaN</td>\n",
              "      <td>NaN</td>\n",
              "      <td>NaN</td>\n",
              "      <td>NaN</td>\n",
              "      <td>71188.000000</td>\n",
              "      <td>NaN</td>\n",
              "      <td>NaN</td>\n",
              "      <td>NaN</td>\n",
              "      <td>31.000000</td>\n",
              "      <td>NaN</td>\n",
              "      <td>3025.000000</td>\n",
              "      <td>50.000000</td>\n",
              "      <td>871.000000</td>\n",
              "      <td>25.000000</td>\n",
              "      <td>NaN</td>\n",
              "      <td>NaN</td>\n",
              "    </tr>\n",
              "  </tbody>\n",
              "</table>\n",
              "</div>"
            ]
          },
          "metadata": {},
          "execution_count": 277
        }
      ],
      "metadata": {
        "id": "HG4YU8ngbofe",
        "colab": {
          "base_uri": "https://localhost:8080/",
          "height": 297
        },
        "outputId": "1182947c-6972-48fc-d0e5-eb2dcd07ca00"
      }
    },
    {
      "cell_type": "markdown",
      "source": [
        "We can see that there are extreme values present in balance, duration, campaign, pdays, and previous."
      ],
      "metadata": {}
    },
    {
      "cell_type": "markdown",
      "source": [
        "## Data Preparation: Categorical to One-Hot (numeric) Encoding\n",
        "\n",
        "We will create on-hot-encoding of categorical variables using dummy variables--i.e., each value in a categorical variable will become a variable itself and its value will be 1 or 0. This way we can encode categorical data into numerical features."
      ],
      "metadata": {
        "id": "w7p02sK158K4"
      }
    },
    {
      "cell_type": "code",
      "execution_count": 278,
      "source": [
        "# Columns of all categorical variables:\n",
        "cat_cols=[\"job\",\"marital\",\"education\",\"default\",\"housing\",\"loan\",\"contact\",\"month\",\"poutcome\"]"
      ],
      "outputs": [],
      "metadata": {
        "id": "Or8TX20kn_He",
        "colab": {
          "base_uri": "https://localhost:8080/"
        },
        "outputId": "e28513e1-d68f-46cc-cd48-809dfcf89cab"
      }
    },
    {
      "cell_type": "code",
      "execution_count": 279,
      "source": [
        "# Creating a copy of the dataframe\n",
        "df_onehot=df.copy()\n",
        "# Converting  categorical variables to dummy variables to complete encoding\n",
        "df_onehot = pd.get_dummies(df, columns=cat_cols, prefix = cat_cols)\n",
        "\n",
        "df_onehot"
      ],
      "outputs": [
        {
          "output_type": "execute_result",
          "data": {
            "text/plain": [
              "      age  balance  day  duration  campaign  pdays  previous   y  job_admin.  \\\n",
              "0      30     1787   19        79         1     -1         0  no           0   \n",
              "1      33     4789   11       220         1    339         4  no           0   \n",
              "2      35     1350   16       185         1    330         1  no           0   \n",
              "3      30     1476    3       199         4     -1         0  no           0   \n",
              "4      59        0    5       226         1     -1         0  no           0   \n",
              "...   ...      ...  ...       ...       ...    ...       ...  ..         ...   \n",
              "4516   33     -333   30       329         5     -1         0  no           0   \n",
              "4517   57    -3313    9       153         1     -1         0  no           0   \n",
              "4518   57      295   19       151        11     -1         0  no           0   \n",
              "4519   28     1137    6       129         4    211         3  no           0   \n",
              "4520   44     1136    3       345         2    249         7  no           0   \n",
              "\n",
              "      job_blue-collar  ...  month_jun  month_mar  month_may  month_nov  \\\n",
              "0                   0  ...          0          0          0          0   \n",
              "1                   0  ...          0          0          1          0   \n",
              "2                   0  ...          0          0          0          0   \n",
              "3                   0  ...          1          0          0          0   \n",
              "4                   1  ...          0          0          1          0   \n",
              "...               ...  ...        ...        ...        ...        ...   \n",
              "4516                0  ...          0          0          0          0   \n",
              "4517                0  ...          0          0          1          0   \n",
              "4518                0  ...          0          0          0          0   \n",
              "4519                1  ...          0          0          0          0   \n",
              "4520                0  ...          0          0          0          0   \n",
              "\n",
              "      month_oct  month_sep  poutcome_failure  poutcome_other  \\\n",
              "0             1          0                 0               0   \n",
              "1             0          0                 1               0   \n",
              "2             0          0                 1               0   \n",
              "3             0          0                 0               0   \n",
              "4             0          0                 0               0   \n",
              "...         ...        ...               ...             ...   \n",
              "4516          0          0                 0               0   \n",
              "4517          0          0                 0               0   \n",
              "4518          0          0                 0               0   \n",
              "4519          0          0                 0               1   \n",
              "4520          0          0                 0               1   \n",
              "\n",
              "      poutcome_success  poutcome_unknown  \n",
              "0                    0                 1  \n",
              "1                    0                 0  \n",
              "2                    0                 0  \n",
              "3                    0                 1  \n",
              "4                    0                 1  \n",
              "...                ...               ...  \n",
              "4516                 0                 1  \n",
              "4517                 0                 1  \n",
              "4518                 0                 1  \n",
              "4519                 0                 0  \n",
              "4520                 0                 0  \n",
              "\n",
              "[4521 rows x 52 columns]"
            ],
            "text/html": [
              "<div>\n",
              "<style scoped>\n",
              "    .dataframe tbody tr th:only-of-type {\n",
              "        vertical-align: middle;\n",
              "    }\n",
              "\n",
              "    .dataframe tbody tr th {\n",
              "        vertical-align: top;\n",
              "    }\n",
              "\n",
              "    .dataframe thead th {\n",
              "        text-align: right;\n",
              "    }\n",
              "</style>\n",
              "<table border=\"1\" class=\"dataframe\">\n",
              "  <thead>\n",
              "    <tr style=\"text-align: right;\">\n",
              "      <th></th>\n",
              "      <th>age</th>\n",
              "      <th>balance</th>\n",
              "      <th>day</th>\n",
              "      <th>duration</th>\n",
              "      <th>campaign</th>\n",
              "      <th>pdays</th>\n",
              "      <th>previous</th>\n",
              "      <th>y</th>\n",
              "      <th>job_admin.</th>\n",
              "      <th>job_blue-collar</th>\n",
              "      <th>...</th>\n",
              "      <th>month_jun</th>\n",
              "      <th>month_mar</th>\n",
              "      <th>month_may</th>\n",
              "      <th>month_nov</th>\n",
              "      <th>month_oct</th>\n",
              "      <th>month_sep</th>\n",
              "      <th>poutcome_failure</th>\n",
              "      <th>poutcome_other</th>\n",
              "      <th>poutcome_success</th>\n",
              "      <th>poutcome_unknown</th>\n",
              "    </tr>\n",
              "  </thead>\n",
              "  <tbody>\n",
              "    <tr>\n",
              "      <th>0</th>\n",
              "      <td>30</td>\n",
              "      <td>1787</td>\n",
              "      <td>19</td>\n",
              "      <td>79</td>\n",
              "      <td>1</td>\n",
              "      <td>-1</td>\n",
              "      <td>0</td>\n",
              "      <td>no</td>\n",
              "      <td>0</td>\n",
              "      <td>0</td>\n",
              "      <td>...</td>\n",
              "      <td>0</td>\n",
              "      <td>0</td>\n",
              "      <td>0</td>\n",
              "      <td>0</td>\n",
              "      <td>1</td>\n",
              "      <td>0</td>\n",
              "      <td>0</td>\n",
              "      <td>0</td>\n",
              "      <td>0</td>\n",
              "      <td>1</td>\n",
              "    </tr>\n",
              "    <tr>\n",
              "      <th>1</th>\n",
              "      <td>33</td>\n",
              "      <td>4789</td>\n",
              "      <td>11</td>\n",
              "      <td>220</td>\n",
              "      <td>1</td>\n",
              "      <td>339</td>\n",
              "      <td>4</td>\n",
              "      <td>no</td>\n",
              "      <td>0</td>\n",
              "      <td>0</td>\n",
              "      <td>...</td>\n",
              "      <td>0</td>\n",
              "      <td>0</td>\n",
              "      <td>1</td>\n",
              "      <td>0</td>\n",
              "      <td>0</td>\n",
              "      <td>0</td>\n",
              "      <td>1</td>\n",
              "      <td>0</td>\n",
              "      <td>0</td>\n",
              "      <td>0</td>\n",
              "    </tr>\n",
              "    <tr>\n",
              "      <th>2</th>\n",
              "      <td>35</td>\n",
              "      <td>1350</td>\n",
              "      <td>16</td>\n",
              "      <td>185</td>\n",
              "      <td>1</td>\n",
              "      <td>330</td>\n",
              "      <td>1</td>\n",
              "      <td>no</td>\n",
              "      <td>0</td>\n",
              "      <td>0</td>\n",
              "      <td>...</td>\n",
              "      <td>0</td>\n",
              "      <td>0</td>\n",
              "      <td>0</td>\n",
              "      <td>0</td>\n",
              "      <td>0</td>\n",
              "      <td>0</td>\n",
              "      <td>1</td>\n",
              "      <td>0</td>\n",
              "      <td>0</td>\n",
              "      <td>0</td>\n",
              "    </tr>\n",
              "    <tr>\n",
              "      <th>3</th>\n",
              "      <td>30</td>\n",
              "      <td>1476</td>\n",
              "      <td>3</td>\n",
              "      <td>199</td>\n",
              "      <td>4</td>\n",
              "      <td>-1</td>\n",
              "      <td>0</td>\n",
              "      <td>no</td>\n",
              "      <td>0</td>\n",
              "      <td>0</td>\n",
              "      <td>...</td>\n",
              "      <td>1</td>\n",
              "      <td>0</td>\n",
              "      <td>0</td>\n",
              "      <td>0</td>\n",
              "      <td>0</td>\n",
              "      <td>0</td>\n",
              "      <td>0</td>\n",
              "      <td>0</td>\n",
              "      <td>0</td>\n",
              "      <td>1</td>\n",
              "    </tr>\n",
              "    <tr>\n",
              "      <th>4</th>\n",
              "      <td>59</td>\n",
              "      <td>0</td>\n",
              "      <td>5</td>\n",
              "      <td>226</td>\n",
              "      <td>1</td>\n",
              "      <td>-1</td>\n",
              "      <td>0</td>\n",
              "      <td>no</td>\n",
              "      <td>0</td>\n",
              "      <td>1</td>\n",
              "      <td>...</td>\n",
              "      <td>0</td>\n",
              "      <td>0</td>\n",
              "      <td>1</td>\n",
              "      <td>0</td>\n",
              "      <td>0</td>\n",
              "      <td>0</td>\n",
              "      <td>0</td>\n",
              "      <td>0</td>\n",
              "      <td>0</td>\n",
              "      <td>1</td>\n",
              "    </tr>\n",
              "    <tr>\n",
              "      <th>...</th>\n",
              "      <td>...</td>\n",
              "      <td>...</td>\n",
              "      <td>...</td>\n",
              "      <td>...</td>\n",
              "      <td>...</td>\n",
              "      <td>...</td>\n",
              "      <td>...</td>\n",
              "      <td>...</td>\n",
              "      <td>...</td>\n",
              "      <td>...</td>\n",
              "      <td>...</td>\n",
              "      <td>...</td>\n",
              "      <td>...</td>\n",
              "      <td>...</td>\n",
              "      <td>...</td>\n",
              "      <td>...</td>\n",
              "      <td>...</td>\n",
              "      <td>...</td>\n",
              "      <td>...</td>\n",
              "      <td>...</td>\n",
              "      <td>...</td>\n",
              "    </tr>\n",
              "    <tr>\n",
              "      <th>4516</th>\n",
              "      <td>33</td>\n",
              "      <td>-333</td>\n",
              "      <td>30</td>\n",
              "      <td>329</td>\n",
              "      <td>5</td>\n",
              "      <td>-1</td>\n",
              "      <td>0</td>\n",
              "      <td>no</td>\n",
              "      <td>0</td>\n",
              "      <td>0</td>\n",
              "      <td>...</td>\n",
              "      <td>0</td>\n",
              "      <td>0</td>\n",
              "      <td>0</td>\n",
              "      <td>0</td>\n",
              "      <td>0</td>\n",
              "      <td>0</td>\n",
              "      <td>0</td>\n",
              "      <td>0</td>\n",
              "      <td>0</td>\n",
              "      <td>1</td>\n",
              "    </tr>\n",
              "    <tr>\n",
              "      <th>4517</th>\n",
              "      <td>57</td>\n",
              "      <td>-3313</td>\n",
              "      <td>9</td>\n",
              "      <td>153</td>\n",
              "      <td>1</td>\n",
              "      <td>-1</td>\n",
              "      <td>0</td>\n",
              "      <td>no</td>\n",
              "      <td>0</td>\n",
              "      <td>0</td>\n",
              "      <td>...</td>\n",
              "      <td>0</td>\n",
              "      <td>0</td>\n",
              "      <td>1</td>\n",
              "      <td>0</td>\n",
              "      <td>0</td>\n",
              "      <td>0</td>\n",
              "      <td>0</td>\n",
              "      <td>0</td>\n",
              "      <td>0</td>\n",
              "      <td>1</td>\n",
              "    </tr>\n",
              "    <tr>\n",
              "      <th>4518</th>\n",
              "      <td>57</td>\n",
              "      <td>295</td>\n",
              "      <td>19</td>\n",
              "      <td>151</td>\n",
              "      <td>11</td>\n",
              "      <td>-1</td>\n",
              "      <td>0</td>\n",
              "      <td>no</td>\n",
              "      <td>0</td>\n",
              "      <td>0</td>\n",
              "      <td>...</td>\n",
              "      <td>0</td>\n",
              "      <td>0</td>\n",
              "      <td>0</td>\n",
              "      <td>0</td>\n",
              "      <td>0</td>\n",
              "      <td>0</td>\n",
              "      <td>0</td>\n",
              "      <td>0</td>\n",
              "      <td>0</td>\n",
              "      <td>1</td>\n",
              "    </tr>\n",
              "    <tr>\n",
              "      <th>4519</th>\n",
              "      <td>28</td>\n",
              "      <td>1137</td>\n",
              "      <td>6</td>\n",
              "      <td>129</td>\n",
              "      <td>4</td>\n",
              "      <td>211</td>\n",
              "      <td>3</td>\n",
              "      <td>no</td>\n",
              "      <td>0</td>\n",
              "      <td>1</td>\n",
              "      <td>...</td>\n",
              "      <td>0</td>\n",
              "      <td>0</td>\n",
              "      <td>0</td>\n",
              "      <td>0</td>\n",
              "      <td>0</td>\n",
              "      <td>0</td>\n",
              "      <td>0</td>\n",
              "      <td>1</td>\n",
              "      <td>0</td>\n",
              "      <td>0</td>\n",
              "    </tr>\n",
              "    <tr>\n",
              "      <th>4520</th>\n",
              "      <td>44</td>\n",
              "      <td>1136</td>\n",
              "      <td>3</td>\n",
              "      <td>345</td>\n",
              "      <td>2</td>\n",
              "      <td>249</td>\n",
              "      <td>7</td>\n",
              "      <td>no</td>\n",
              "      <td>0</td>\n",
              "      <td>0</td>\n",
              "      <td>...</td>\n",
              "      <td>0</td>\n",
              "      <td>0</td>\n",
              "      <td>0</td>\n",
              "      <td>0</td>\n",
              "      <td>0</td>\n",
              "      <td>0</td>\n",
              "      <td>0</td>\n",
              "      <td>1</td>\n",
              "      <td>0</td>\n",
              "      <td>0</td>\n",
              "    </tr>\n",
              "  </tbody>\n",
              "</table>\n",
              "<p>4521 rows × 52 columns</p>\n",
              "</div>"
            ]
          },
          "metadata": {},
          "execution_count": 279
        }
      ],
      "metadata": {
        "id": "rmK0FMQpm2cm",
        "colab": {
          "base_uri": "https://localhost:8080/",
          "height": 456
        },
        "outputId": "bace576d-1360-4271-eaf5-66d8a998b201"
      }
    },
    {
      "cell_type": "markdown",
      "source": [
        "We have successfully completed the encoding of categorical variables. As you can see, all categories of a variable are now a seperate variable. We do have an issue of certain variables with negative values that will not work with Naive Bayes."
      ],
      "metadata": {}
    },
    {
      "cell_type": "code",
      "execution_count": 280,
      "source": [
        "int_col = []\n",
        "for col in df_onehot.columns:\n",
        "    if df_onehot[col].dtype == 'int':\n",
        "        int_col.append(col)\n",
        "\n",
        "int_df = df_onehot[int_col]\n",
        "\n",
        "int_df.columns[(int_df < 0).any()].tolist()"
      ],
      "outputs": [
        {
          "output_type": "execute_result",
          "data": {
            "text/plain": [
              "['balance', 'pdays']"
            ]
          },
          "metadata": {},
          "execution_count": 280
        }
      ],
      "metadata": {}
    },
    {
      "cell_type": "markdown",
      "source": [
        "We can see here that there are only 2 variables that contain negative values: 'balance' and 'pdays'. For the sake of simplicity, we will change all negative values to 0, this change will also be present in the Decision Tree model."
      ],
      "metadata": {}
    },
    {
      "cell_type": "code",
      "execution_count": 281,
      "source": [
        "df_onehot[\"pdays\"]=df_onehot[\"pdays\"].apply(lambda x: 0 if x<0 else x)\n",
        "\n",
        "df_onehot[\"balance\"]=df_onehot[\"balance\"].apply(lambda x: 0 if x<0 else x)"
      ],
      "outputs": [],
      "metadata": {
        "id": "cndOFmQGOvfj"
      }
    },
    {
      "cell_type": "markdown",
      "source": [
        "## Predictive Modeling (Naive Bayes Complete):\n",
        "\n",
        "Splitting the dataset into Train and Test sets:"
      ],
      "metadata": {}
    },
    {
      "cell_type": "code",
      "execution_count": 282,
      "source": [
        "#train test set split\n",
        "from sklearn.model_selection import train_test_split\n",
        "\n",
        "class_col_name=\"y\"\n",
        "\n",
        "one_hot_feature_names=df_onehot.columns[df_onehot.columns != class_col_name]\n",
        "# Split dataset into training set and test set: 70% training and 30% test\n",
        "X_train, X_test, y_train, y_test = train_test_split(df_onehot.loc[:, one_hot_feature_names], df_onehot[class_col_name], test_size=0.3,random_state=109)"
      ],
      "outputs": [],
      "metadata": {
        "id": "kK0nhbPb7BZb"
      }
    },
    {
      "cell_type": "code",
      "execution_count": 283,
      "source": [
        "# Repeat Naive Bayes modeling\n",
        "from sklearn.naive_bayes import MultinomialNB\n",
        "\n",
        "#Create a MultiNomial NB Classifier\n",
        "nb = MultinomialNB()\n",
        "\n",
        "#Train the model using the training sets\n",
        "nb.fit(X_train, y_train)\n",
        "\n",
        "#Predict the response for test dataset\n",
        "y_pred = nb.predict(X_test)"
      ],
      "outputs": [],
      "metadata": {
        "id": "0dJ6pjJgR-aq",
        "colab": {
          "base_uri": "https://localhost:8080/"
        },
        "outputId": "d984551e-432c-4a35-9e41-370caddafb1d"
      }
    },
    {
      "cell_type": "markdown",
      "source": [
        "Here we are implementing the Naive Bayes model to the train sets, then using the X_test set to create the predictions."
      ],
      "metadata": {}
    },
    {
      "cell_type": "code",
      "execution_count": 284,
      "source": [
        "print(\"Number of features used \",nb.n_features_)\n",
        "print(\"Classes \",nb.classes_)\n",
        "print(\"Number of records for classes \",nb.class_count_)\n",
        "print(\"Log prior probability for classes \", nb.class_log_prior_)\n",
        "print(\"Log conditional probability for each feature given a class\\n\",nb.feature_log_prob_)"
      ],
      "outputs": [
        {
          "output_type": "stream",
          "name": "stdout",
          "text": [
            "Number of features used  51\n",
            "Classes  ['no' 'yes']\n",
            "Number of records for classes  [2812.  352.]\n",
            "Log prior probability for classes  [-0.11794108 -2.19596115]\n",
            "Log conditional probability for each feature given a class\n",
            " [[ -3.77699969  -0.20579945  -4.7182279   -2.06172295  -6.45024974\n",
            "   -3.9085675   -8.26762713  -9.73706738  -9.01080459 -10.71230065\n",
            "  -11.21129181  -9.0557747  -10.57876926 -10.68586739  -9.83608814\n",
            "  -11.6931299   -9.228264   -11.10006618 -12.33975707  -9.65624797\n",
            "   -7.95773043  -8.83365382  -9.36469143  -8.14597861  -8.72638516\n",
            "  -10.72126932  -7.50528054 -11.58065192  -8.38154468  -8.01502254\n",
            "   -7.66820347  -9.29307247  -7.97550103 -10.22131337  -8.62507697\n",
            "  -10.27174422  -9.48537891 -13.23357494 -10.60248578 -10.87692263\n",
            "   -9.28876211  -9.63778591 -12.38627708  -8.60208745  -9.88953597\n",
            "  -12.13496265 -12.48636054  -9.73706738 -10.71230065 -12.06350369\n",
            "   -7.65678444]\n",
            " [ -4.01881151  -0.35254039  -5.00044473  -1.43329375  -6.90624091\n",
            "   -3.55629465  -7.69253715  -9.99248719  -9.62274017 -11.23217808\n",
            "  -11.32748826  -9.13026368  -9.99248719 -11.1451667  -10.49457914\n",
            "  -10.92202315  -9.62274017 -11.23217808 -11.83831388  -9.56963034\n",
            "   -8.4482898   -8.85094986  -9.86887324  -8.50017464  -8.75487603\n",
            "  -11.065124    -7.7894317  -11.32748826  -8.33175599  -8.59312075\n",
            "   -7.84932984 -10.22887597  -7.99171868 -10.26277752  -9.82341086\n",
            "   -9.96651171  -9.67882963 -11.43284878 -10.29786884 -11.1451667\n",
            "   -9.82341086 -10.04655441 -10.99101602  -9.42538073 -10.41119753\n",
            "  -10.45201952 -11.065124    -9.9411939  -10.29786884  -9.65978144\n",
            "   -8.17048784]]\n"
          ]
        }
      ],
      "metadata": {}
    },
    {
      "cell_type": "code",
      "execution_count": 285,
      "source": [
        "from sklearn.metrics import confusion_matrix\n",
        "cf=confusion_matrix(y_test, y_pred)\n",
        "print (\"Confusion Matrix\")\n",
        "print(cf)\n",
        "tn, fp, fn, tp=cf.ravel()\n",
        "print (\"TP: \", tp,\", FP: \", fp,\", TN: \", tn,\", FN:\", fn)"
      ],
      "outputs": [
        {
          "output_type": "stream",
          "name": "stdout",
          "text": [
            "Confusion Matrix\n",
            "[[516 672]\n",
            " [ 46 123]]\n",
            "TP:  123 , FP:  672 , TN:  516 , FN: 46\n"
          ]
        }
      ],
      "metadata": {}
    },
    {
      "cell_type": "markdown",
      "source": [
        "We can see here that the complete Naive Bayes Model has trouble correctly predicting the True Positives as the Confusion Matrix shows that the False Positives severely outweighs the True Positives. On the other hand, the model was able to predict True Negatives very well."
      ],
      "metadata": {}
    },
    {
      "cell_type": "code",
      "execution_count": 286,
      "source": [
        "from sklearn.metrics import classification_report\n",
        "from sklearn import metrics\n",
        "\n",
        "print(classification_report(y_test, y_pred))"
      ],
      "outputs": [
        {
          "output_type": "stream",
          "name": "stdout",
          "text": [
            "              precision    recall  f1-score   support\n",
            "\n",
            "          no       0.92      0.43      0.59      1188\n",
            "         yes       0.15      0.73      0.26       169\n",
            "\n",
            "    accuracy                           0.47      1357\n",
            "   macro avg       0.54      0.58      0.42      1357\n",
            "weighted avg       0.82      0.47      0.55      1357\n",
            "\n"
          ]
        }
      ],
      "metadata": {}
    },
    {
      "cell_type": "markdown",
      "source": [
        "The precision of \"no\" and \"yes\" classes are completely opposites. This may be possible because the dataset could be imbalanced in terms of having enough data when \"y\" = \"yes\" vs. \"no\". As expected, the accuracy of the model hits 47% showing that the model is inadequate of making accurate predictions."
      ],
      "metadata": {}
    },
    {
      "cell_type": "markdown",
      "source": [
        "## Predictive Modeling (Decision Tree Complete Model):"
      ],
      "metadata": {}
    },
    {
      "cell_type": "code",
      "execution_count": 287,
      "source": [
        "from sklearn import tree\n",
        "clf = tree.DecisionTreeClassifier(max_depth=5)\n",
        "clf = clf.fit(X_train, y_train)\n",
        "import graphviz\n",
        "#Get unique class values to display on the tree\n",
        "class_values=df_onehot[class_col_name].unique()\n",
        "print (\"class Names\",class_values)\n",
        "\n",
        "dot_data = tree.export_graphviz(clf, out_file=None, \n",
        "                                feature_names=one_hot_feature_names,  \n",
        "                                class_names=class_values,\n",
        "                                filled=True)\n",
        "\n",
        "# Draw graph\n",
        "graph = graphviz.Source(dot_data, format=\"png\") \n",
        "graph"
      ],
      "outputs": [
        {
          "output_type": "stream",
          "name": "stdout",
          "text": [
            "class Names ['no' 'yes']\n"
          ]
        },
        {
          "output_type": "execute_result",
          "data": {
            "text/plain": [
              "<graphviz.files.Source at 0x7f9a82e4cc90>"
            ],
            "image/svg+xml": "<?xml version=\"1.0\" encoding=\"UTF-8\" standalone=\"no\"?>\n<!DOCTYPE svg PUBLIC \"-//W3C//DTD SVG 1.1//EN\"\n \"http://www.w3.org/Graphics/SVG/1.1/DTD/svg11.dtd\">\n<!-- Generated by graphviz version 2.47.2 (20210527.0053)\n -->\n<!-- Title: Tree Pages: 1 -->\n<svg width=\"2769pt\" height=\"671pt\"\n viewBox=\"0.00 0.00 2768.50 671.00\" xmlns=\"http://www.w3.org/2000/svg\" xmlns:xlink=\"http://www.w3.org/1999/xlink\">\n<g id=\"graph0\" class=\"graph\" transform=\"scale(1 1) rotate(0) translate(4 667)\">\n<title>Tree</title>\n<polygon fill=\"white\" stroke=\"transparent\" points=\"-4,4 -4,-667 2764.5,-667 2764.5,4 -4,4\"/>\n<!-- 0 -->\n<g id=\"node1\" class=\"node\">\n<title>0</title>\n<polygon fill=\"#e89152\" stroke=\"black\" points=\"1539,-663 1414,-663 1414,-580 1539,-580 1539,-663\"/>\n<text text-anchor=\"middle\" x=\"1476.5\" y=\"-647.8\" font-family=\"Times,serif\" font-size=\"14.00\">duration &lt;= 628.5</text>\n<text text-anchor=\"middle\" x=\"1476.5\" y=\"-632.8\" font-family=\"Times,serif\" font-size=\"14.00\">gini = 0.198</text>\n<text text-anchor=\"middle\" x=\"1476.5\" y=\"-617.8\" font-family=\"Times,serif\" font-size=\"14.00\">samples = 3164</text>\n<text text-anchor=\"middle\" x=\"1476.5\" y=\"-602.8\" font-family=\"Times,serif\" font-size=\"14.00\">value = [2812, 352]</text>\n<text text-anchor=\"middle\" x=\"1476.5\" y=\"-587.8\" font-family=\"Times,serif\" font-size=\"14.00\">class = no</text>\n</g>\n<!-- 1 -->\n<g id=\"node2\" class=\"node\">\n<title>1</title>\n<polygon fill=\"#e78b49\" stroke=\"black\" points=\"1209,-544 1050,-544 1050,-461 1209,-461 1209,-544\"/>\n<text text-anchor=\"middle\" x=\"1129.5\" y=\"-528.8\" font-family=\"Times,serif\" font-size=\"14.00\">poutcome_success &lt;= 0.5</text>\n<text text-anchor=\"middle\" x=\"1129.5\" y=\"-513.8\" font-family=\"Times,serif\" font-size=\"14.00\">gini = 0.139</text>\n<text text-anchor=\"middle\" x=\"1129.5\" y=\"-498.8\" font-family=\"Times,serif\" font-size=\"14.00\">samples = 2890</text>\n<text text-anchor=\"middle\" x=\"1129.5\" y=\"-483.8\" font-family=\"Times,serif\" font-size=\"14.00\">value = [2673, 217]</text>\n<text text-anchor=\"middle\" x=\"1129.5\" y=\"-468.8\" font-family=\"Times,serif\" font-size=\"14.00\">class = no</text>\n</g>\n<!-- 0&#45;&gt;1 -->\n<g id=\"edge1\" class=\"edge\">\n<title>0&#45;&gt;1</title>\n<path fill=\"none\" stroke=\"black\" d=\"M1413.66,-599.31C1359.25,-580.97 1279.92,-554.22 1218.9,-533.64\"/>\n<polygon fill=\"black\" stroke=\"black\" points=\"1219.86,-530.27 1209.27,-530.4 1217.62,-536.91 1219.86,-530.27\"/>\n<text text-anchor=\"middle\" x=\"1220.37\" y=\"-549.09\" font-family=\"Times,serif\" font-size=\"14.00\">True</text>\n</g>\n<!-- 28 -->\n<g id=\"node29\" class=\"node\">\n<title>28</title>\n<polygon fill=\"#fefbf9\" stroke=\"black\" points=\"1943.5,-544 1797.5,-544 1797.5,-461 1943.5,-461 1943.5,-544\"/>\n<text text-anchor=\"middle\" x=\"1870.5\" y=\"-528.8\" font-family=\"Times,serif\" font-size=\"14.00\">marital_married &lt;= 0.5</text>\n<text text-anchor=\"middle\" x=\"1870.5\" y=\"-513.8\" font-family=\"Times,serif\" font-size=\"14.00\">gini = 0.5</text>\n<text text-anchor=\"middle\" x=\"1870.5\" y=\"-498.8\" font-family=\"Times,serif\" font-size=\"14.00\">samples = 274</text>\n<text text-anchor=\"middle\" x=\"1870.5\" y=\"-483.8\" font-family=\"Times,serif\" font-size=\"14.00\">value = [139, 135]</text>\n<text text-anchor=\"middle\" x=\"1870.5\" y=\"-468.8\" font-family=\"Times,serif\" font-size=\"14.00\">class = no</text>\n</g>\n<!-- 0&#45;&gt;28 -->\n<g id=\"edge28\" class=\"edge\">\n<title>0&#45;&gt;28</title>\n<path fill=\"none\" stroke=\"black\" d=\"M1539.37,-601.83C1606.63,-581.86 1713.62,-550.08 1787.71,-528.09\"/>\n<polygon fill=\"black\" stroke=\"black\" points=\"1788.89,-531.39 1797.48,-525.18 1786.9,-524.68 1788.89,-531.39\"/>\n<text text-anchor=\"middle\" x=\"1785.56\" y=\"-543.46\" font-family=\"Times,serif\" font-size=\"14.00\">False</text>\n</g>\n<!-- 2 -->\n<g id=\"node3\" class=\"node\">\n<title>2</title>\n<polygon fill=\"#e78946\" stroke=\"black\" points=\"791,-425 666,-425 666,-342 791,-342 791,-425\"/>\n<text text-anchor=\"middle\" x=\"728.5\" y=\"-409.8\" font-family=\"Times,serif\" font-size=\"14.00\">duration &lt;= 222.5</text>\n<text text-anchor=\"middle\" x=\"728.5\" y=\"-394.8\" font-family=\"Times,serif\" font-size=\"14.00\">gini = 0.114</text>\n<text text-anchor=\"middle\" x=\"728.5\" y=\"-379.8\" font-family=\"Times,serif\" font-size=\"14.00\">samples = 2821</text>\n<text text-anchor=\"middle\" x=\"728.5\" y=\"-364.8\" font-family=\"Times,serif\" font-size=\"14.00\">value = [2650, 171]</text>\n<text text-anchor=\"middle\" x=\"728.5\" y=\"-349.8\" font-family=\"Times,serif\" font-size=\"14.00\">class = no</text>\n</g>\n<!-- 1&#45;&gt;2 -->\n<g id=\"edge2\" class=\"edge\">\n<title>1&#45;&gt;2</title>\n<path fill=\"none\" stroke=\"black\" d=\"M1049.8,-478.24C977.26,-457.08 871.1,-426.11 800.93,-405.63\"/>\n<polygon fill=\"black\" stroke=\"black\" points=\"801.86,-402.26 791.28,-402.82 799.9,-408.98 801.86,-402.26\"/>\n</g>\n<!-- 17 -->\n<g id=\"node18\" class=\"node\">\n<title>17</title>\n<polygon fill=\"#9ccef2\" stroke=\"black\" points=\"1192,-425 1067,-425 1067,-342 1192,-342 1192,-425\"/>\n<text text-anchor=\"middle\" x=\"1129.5\" y=\"-409.8\" font-family=\"Times,serif\" font-size=\"14.00\">housing_yes &lt;= 0.5</text>\n<text text-anchor=\"middle\" x=\"1129.5\" y=\"-394.8\" font-family=\"Times,serif\" font-size=\"14.00\">gini = 0.444</text>\n<text text-anchor=\"middle\" x=\"1129.5\" y=\"-379.8\" font-family=\"Times,serif\" font-size=\"14.00\">samples = 69</text>\n<text text-anchor=\"middle\" x=\"1129.5\" y=\"-364.8\" font-family=\"Times,serif\" font-size=\"14.00\">value = [23, 46]</text>\n<text text-anchor=\"middle\" x=\"1129.5\" y=\"-349.8\" font-family=\"Times,serif\" font-size=\"14.00\">class = yes</text>\n</g>\n<!-- 1&#45;&gt;17 -->\n<g id=\"edge17\" class=\"edge\">\n<title>1&#45;&gt;17</title>\n<path fill=\"none\" stroke=\"black\" d=\"M1129.5,-460.91C1129.5,-452.65 1129.5,-443.86 1129.5,-435.3\"/>\n<polygon fill=\"black\" stroke=\"black\" points=\"1133,-435.02 1129.5,-425.02 1126,-435.02 1133,-435.02\"/>\n</g>\n<!-- 3 -->\n<g id=\"node4\" class=\"node\">\n<title>3</title>\n<polygon fill=\"#e6843e\" stroke=\"black\" points=\"429,-306 310,-306 310,-223 429,-223 429,-306\"/>\n<text text-anchor=\"middle\" x=\"369.5\" y=\"-290.8\" font-family=\"Times,serif\" font-size=\"14.00\">month_oct &lt;= 0.5</text>\n<text text-anchor=\"middle\" x=\"369.5\" y=\"-275.8\" font-family=\"Times,serif\" font-size=\"14.00\">gini = 0.046</text>\n<text text-anchor=\"middle\" x=\"369.5\" y=\"-260.8\" font-family=\"Times,serif\" font-size=\"14.00\">samples = 1841</text>\n<text text-anchor=\"middle\" x=\"369.5\" y=\"-245.8\" font-family=\"Times,serif\" font-size=\"14.00\">value = [1798, 43]</text>\n<text text-anchor=\"middle\" x=\"369.5\" y=\"-230.8\" font-family=\"Times,serif\" font-size=\"14.00\">class = no</text>\n</g>\n<!-- 2&#45;&gt;3 -->\n<g id=\"edge3\" class=\"edge\">\n<title>2&#45;&gt;3</title>\n<path fill=\"none\" stroke=\"black\" d=\"M665.97,-362.12C602.62,-341.48 504.86,-309.61 439.09,-288.18\"/>\n<polygon fill=\"black\" stroke=\"black\" points=\"439.82,-284.74 429.23,-284.97 437.65,-291.39 439.82,-284.74\"/>\n</g>\n<!-- 10 -->\n<g id=\"node11\" class=\"node\">\n<title>10</title>\n<polygon fill=\"#e99457\" stroke=\"black\" points=\"788,-306 669,-306 669,-223 788,-223 788,-306\"/>\n<text text-anchor=\"middle\" x=\"728.5\" y=\"-290.8\" font-family=\"Times,serif\" font-size=\"14.00\">pdays &lt;= 373.0</text>\n<text text-anchor=\"middle\" x=\"728.5\" y=\"-275.8\" font-family=\"Times,serif\" font-size=\"14.00\">gini = 0.227</text>\n<text text-anchor=\"middle\" x=\"728.5\" y=\"-260.8\" font-family=\"Times,serif\" font-size=\"14.00\">samples = 980</text>\n<text text-anchor=\"middle\" x=\"728.5\" y=\"-245.8\" font-family=\"Times,serif\" font-size=\"14.00\">value = [852, 128]</text>\n<text text-anchor=\"middle\" x=\"728.5\" y=\"-230.8\" font-family=\"Times,serif\" font-size=\"14.00\">class = no</text>\n</g>\n<!-- 2&#45;&gt;10 -->\n<g id=\"edge10\" class=\"edge\">\n<title>2&#45;&gt;10</title>\n<path fill=\"none\" stroke=\"black\" d=\"M728.5,-341.91C728.5,-333.65 728.5,-324.86 728.5,-316.3\"/>\n<polygon fill=\"black\" stroke=\"black\" points=\"732,-316.02 728.5,-306.02 725,-316.02 732,-316.02\"/>\n</g>\n<!-- 4 -->\n<g id=\"node5\" class=\"node\">\n<title>4</title>\n<polygon fill=\"#e6843d\" stroke=\"black\" points=\"247.5,-187 125.5,-187 125.5,-104 247.5,-104 247.5,-187\"/>\n<text text-anchor=\"middle\" x=\"186.5\" y=\"-171.8\" font-family=\"Times,serif\" font-size=\"14.00\">month_mar &lt;= 0.5</text>\n<text text-anchor=\"middle\" x=\"186.5\" y=\"-156.8\" font-family=\"Times,serif\" font-size=\"14.00\">gini = 0.041</text>\n<text text-anchor=\"middle\" x=\"186.5\" y=\"-141.8\" font-family=\"Times,serif\" font-size=\"14.00\">samples = 1821</text>\n<text text-anchor=\"middle\" x=\"186.5\" y=\"-126.8\" font-family=\"Times,serif\" font-size=\"14.00\">value = [1783, 38]</text>\n<text text-anchor=\"middle\" x=\"186.5\" y=\"-111.8\" font-family=\"Times,serif\" font-size=\"14.00\">class = no</text>\n</g>\n<!-- 3&#45;&gt;4 -->\n<g id=\"edge4\" class=\"edge\">\n<title>3&#45;&gt;4</title>\n<path fill=\"none\" stroke=\"black\" d=\"M309.83,-225.35C292.71,-214.41 273.89,-202.37 256.22,-191.08\"/>\n<polygon fill=\"black\" stroke=\"black\" points=\"257.97,-188.04 247.66,-185.6 254.2,-193.93 257.97,-188.04\"/>\n</g>\n<!-- 7 -->\n<g id=\"node8\" class=\"node\">\n<title>7</title>\n<polygon fill=\"#eeab7b\" stroke=\"black\" points=\"427.5,-187 311.5,-187 311.5,-104 427.5,-104 427.5,-187\"/>\n<text text-anchor=\"middle\" x=\"369.5\" y=\"-171.8\" font-family=\"Times,serif\" font-size=\"14.00\">duration &lt;= 146.0</text>\n<text text-anchor=\"middle\" x=\"369.5\" y=\"-156.8\" font-family=\"Times,serif\" font-size=\"14.00\">gini = 0.375</text>\n<text text-anchor=\"middle\" x=\"369.5\" y=\"-141.8\" font-family=\"Times,serif\" font-size=\"14.00\">samples = 20</text>\n<text text-anchor=\"middle\" x=\"369.5\" y=\"-126.8\" font-family=\"Times,serif\" font-size=\"14.00\">value = [15, 5]</text>\n<text text-anchor=\"middle\" x=\"369.5\" y=\"-111.8\" font-family=\"Times,serif\" font-size=\"14.00\">class = no</text>\n</g>\n<!-- 3&#45;&gt;7 -->\n<g id=\"edge7\" class=\"edge\">\n<title>3&#45;&gt;7</title>\n<path fill=\"none\" stroke=\"black\" d=\"M369.5,-222.91C369.5,-214.65 369.5,-205.86 369.5,-197.3\"/>\n<polygon fill=\"black\" stroke=\"black\" points=\"373,-197.02 369.5,-187.02 366,-197.02 373,-197.02\"/>\n</g>\n<!-- 5 -->\n<g id=\"node6\" class=\"node\">\n<title>5</title>\n<polygon fill=\"#e5833d\" stroke=\"black\" points=\"119,-68 0,-68 0,0 119,0 119,-68\"/>\n<text text-anchor=\"middle\" x=\"59.5\" y=\"-52.8\" font-family=\"Times,serif\" font-size=\"14.00\">gini = 0.036</text>\n<text text-anchor=\"middle\" x=\"59.5\" y=\"-37.8\" font-family=\"Times,serif\" font-size=\"14.00\">samples = 1800</text>\n<text text-anchor=\"middle\" x=\"59.5\" y=\"-22.8\" font-family=\"Times,serif\" font-size=\"14.00\">value = [1767, 33]</text>\n<text text-anchor=\"middle\" x=\"59.5\" y=\"-7.8\" font-family=\"Times,serif\" font-size=\"14.00\">class = no</text>\n</g>\n<!-- 4&#45;&gt;5 -->\n<g id=\"edge5\" class=\"edge\">\n<title>4&#45;&gt;5</title>\n<path fill=\"none\" stroke=\"black\" d=\"M139.21,-103.73C128.31,-94.33 116.74,-84.35 105.88,-74.99\"/>\n<polygon fill=\"black\" stroke=\"black\" points=\"107.98,-72.18 98.12,-68.3 103.41,-77.48 107.98,-72.18\"/>\n</g>\n<!-- 6 -->\n<g id=\"node7\" class=\"node\">\n<title>6</title>\n<polygon fill=\"#eda877\" stroke=\"black\" points=\"235.5,-68 137.5,-68 137.5,0 235.5,0 235.5,-68\"/>\n<text text-anchor=\"middle\" x=\"186.5\" y=\"-52.8\" font-family=\"Times,serif\" font-size=\"14.00\">gini = 0.363</text>\n<text text-anchor=\"middle\" x=\"186.5\" y=\"-37.8\" font-family=\"Times,serif\" font-size=\"14.00\">samples = 21</text>\n<text text-anchor=\"middle\" x=\"186.5\" y=\"-22.8\" font-family=\"Times,serif\" font-size=\"14.00\">value = [16, 5]</text>\n<text text-anchor=\"middle\" x=\"186.5\" y=\"-7.8\" font-family=\"Times,serif\" font-size=\"14.00\">class = no</text>\n</g>\n<!-- 4&#45;&gt;6 -->\n<g id=\"edge6\" class=\"edge\">\n<title>4&#45;&gt;6</title>\n<path fill=\"none\" stroke=\"black\" d=\"M186.5,-103.73C186.5,-95.52 186.5,-86.86 186.5,-78.56\"/>\n<polygon fill=\"black\" stroke=\"black\" points=\"190,-78.3 186.5,-68.3 183,-78.3 190,-78.3\"/>\n</g>\n<!-- 8 -->\n<g id=\"node9\" class=\"node\">\n<title>8</title>\n<polygon fill=\"#e58139\" stroke=\"black\" points=\"351.5,-68 253.5,-68 253.5,0 351.5,0 351.5,-68\"/>\n<text text-anchor=\"middle\" x=\"302.5\" y=\"-52.8\" font-family=\"Times,serif\" font-size=\"14.00\">gini = 0.0</text>\n<text text-anchor=\"middle\" x=\"302.5\" y=\"-37.8\" font-family=\"Times,serif\" font-size=\"14.00\">samples = 13</text>\n<text text-anchor=\"middle\" x=\"302.5\" y=\"-22.8\" font-family=\"Times,serif\" font-size=\"14.00\">value = [13, 0]</text>\n<text text-anchor=\"middle\" x=\"302.5\" y=\"-7.8\" font-family=\"Times,serif\" font-size=\"14.00\">class = no</text>\n</g>\n<!-- 7&#45;&gt;8 -->\n<g id=\"edge8\" class=\"edge\">\n<title>7&#45;&gt;8</title>\n<path fill=\"none\" stroke=\"black\" d=\"M344.55,-103.73C339.19,-94.97 333.52,-85.7 328.14,-76.91\"/>\n<polygon fill=\"black\" stroke=\"black\" points=\"331.08,-75 322.88,-68.3 325.11,-78.66 331.08,-75\"/>\n</g>\n<!-- 9 -->\n<g id=\"node10\" class=\"node\">\n<title>9</title>\n<polygon fill=\"#88c4ef\" stroke=\"black\" points=\"461.5,-68 369.5,-68 369.5,0 461.5,0 461.5,-68\"/>\n<text text-anchor=\"middle\" x=\"415.5\" y=\"-52.8\" font-family=\"Times,serif\" font-size=\"14.00\">gini = 0.408</text>\n<text text-anchor=\"middle\" x=\"415.5\" y=\"-37.8\" font-family=\"Times,serif\" font-size=\"14.00\">samples = 7</text>\n<text text-anchor=\"middle\" x=\"415.5\" y=\"-22.8\" font-family=\"Times,serif\" font-size=\"14.00\">value = [2, 5]</text>\n<text text-anchor=\"middle\" x=\"415.5\" y=\"-7.8\" font-family=\"Times,serif\" font-size=\"14.00\">class = yes</text>\n</g>\n<!-- 7&#45;&gt;9 -->\n<g id=\"edge9\" class=\"edge\">\n<title>7&#45;&gt;9</title>\n<path fill=\"none\" stroke=\"black\" d=\"M386.63,-103.73C390.19,-95.24 393.96,-86.28 397.55,-77.73\"/>\n<polygon fill=\"black\" stroke=\"black\" points=\"400.86,-78.87 401.51,-68.3 394.41,-76.16 400.86,-78.87\"/>\n</g>\n<!-- 11 -->\n<g id=\"node12\" class=\"node\">\n<title>11</title>\n<polygon fill=\"#e99355\" stroke=\"black\" points=\"719,-187 600,-187 600,-104 719,-104 719,-187\"/>\n<text text-anchor=\"middle\" x=\"659.5\" y=\"-171.8\" font-family=\"Times,serif\" font-size=\"14.00\">age &lt;= 61.5</text>\n<text text-anchor=\"middle\" x=\"659.5\" y=\"-156.8\" font-family=\"Times,serif\" font-size=\"14.00\">gini = 0.215</text>\n<text text-anchor=\"middle\" x=\"659.5\" y=\"-141.8\" font-family=\"Times,serif\" font-size=\"14.00\">samples = 970</text>\n<text text-anchor=\"middle\" x=\"659.5\" y=\"-126.8\" font-family=\"Times,serif\" font-size=\"14.00\">value = [851, 119]</text>\n<text text-anchor=\"middle\" x=\"659.5\" y=\"-111.8\" font-family=\"Times,serif\" font-size=\"14.00\">class = no</text>\n</g>\n<!-- 10&#45;&gt;11 -->\n<g id=\"edge11\" class=\"edge\">\n<title>10&#45;&gt;11</title>\n<path fill=\"none\" stroke=\"black\" d=\"M704.56,-222.91C699.42,-214.2 693.94,-204.9 688.63,-195.89\"/>\n<polygon fill=\"black\" stroke=\"black\" points=\"691.49,-193.86 683.4,-187.02 685.46,-197.41 691.49,-193.86\"/>\n</g>\n<!-- 14 -->\n<g id=\"node15\" class=\"node\">\n<title>14</title>\n<polygon fill=\"#4fa8e8\" stroke=\"black\" points=\"856,-187 737,-187 737,-104 856,-104 856,-187\"/>\n<text text-anchor=\"middle\" x=\"796.5\" y=\"-171.8\" font-family=\"Times,serif\" font-size=\"14.00\">balance &lt;= 5477.5</text>\n<text text-anchor=\"middle\" x=\"796.5\" y=\"-156.8\" font-family=\"Times,serif\" font-size=\"14.00\">gini = 0.18</text>\n<text text-anchor=\"middle\" x=\"796.5\" y=\"-141.8\" font-family=\"Times,serif\" font-size=\"14.00\">samples = 10</text>\n<text text-anchor=\"middle\" x=\"796.5\" y=\"-126.8\" font-family=\"Times,serif\" font-size=\"14.00\">value = [1, 9]</text>\n<text text-anchor=\"middle\" x=\"796.5\" y=\"-111.8\" font-family=\"Times,serif\" font-size=\"14.00\">class = yes</text>\n</g>\n<!-- 10&#45;&gt;14 -->\n<g id=\"edge14\" class=\"edge\">\n<title>10&#45;&gt;14</title>\n<path fill=\"none\" stroke=\"black\" d=\"M752.09,-222.91C757.16,-214.2 762.56,-204.9 767.79,-195.89\"/>\n<polygon fill=\"black\" stroke=\"black\" points=\"770.95,-197.43 772.95,-187.02 764.9,-193.91 770.95,-197.43\"/>\n</g>\n<!-- 12 -->\n<g id=\"node13\" class=\"node\">\n<title>12</title>\n<polygon fill=\"#e89152\" stroke=\"black\" points=\"599,-68 480,-68 480,0 599,0 599,-68\"/>\n<text text-anchor=\"middle\" x=\"539.5\" y=\"-52.8\" font-family=\"Times,serif\" font-size=\"14.00\">gini = 0.2</text>\n<text text-anchor=\"middle\" x=\"539.5\" y=\"-37.8\" font-family=\"Times,serif\" font-size=\"14.00\">samples = 943</text>\n<text text-anchor=\"middle\" x=\"539.5\" y=\"-22.8\" font-family=\"Times,serif\" font-size=\"14.00\">value = [837, 106]</text>\n<text text-anchor=\"middle\" x=\"539.5\" y=\"-7.8\" font-family=\"Times,serif\" font-size=\"14.00\">class = no</text>\n</g>\n<!-- 11&#45;&gt;12 -->\n<g id=\"edge12\" class=\"edge\">\n<title>11&#45;&gt;12</title>\n<path fill=\"none\" stroke=\"black\" d=\"M614.82,-103.73C604.62,-94.42 593.79,-84.54 583.62,-75.26\"/>\n<polygon fill=\"black\" stroke=\"black\" points=\"585.74,-72.45 575.99,-68.3 581.02,-77.63 585.74,-72.45\"/>\n</g>\n<!-- 13 -->\n<g id=\"node14\" class=\"node\">\n<title>13</title>\n<polygon fill=\"#fdf6f1\" stroke=\"black\" points=\"722,-68 617,-68 617,0 722,0 722,-68\"/>\n<text text-anchor=\"middle\" x=\"669.5\" y=\"-52.8\" font-family=\"Times,serif\" font-size=\"14.00\">gini = 0.499</text>\n<text text-anchor=\"middle\" x=\"669.5\" y=\"-37.8\" font-family=\"Times,serif\" font-size=\"14.00\">samples = 27</text>\n<text text-anchor=\"middle\" x=\"669.5\" y=\"-22.8\" font-family=\"Times,serif\" font-size=\"14.00\">value = [14, 13]</text>\n<text text-anchor=\"middle\" x=\"669.5\" y=\"-7.8\" font-family=\"Times,serif\" font-size=\"14.00\">class = no</text>\n</g>\n<!-- 11&#45;&gt;13 -->\n<g id=\"edge13\" class=\"edge\">\n<title>11&#45;&gt;13</title>\n<path fill=\"none\" stroke=\"black\" d=\"M663.22,-103.73C663.98,-95.43 664.78,-86.67 665.55,-78.28\"/>\n<polygon fill=\"black\" stroke=\"black\" points=\"669.03,-78.58 666.46,-68.3 662.06,-77.94 669.03,-78.58\"/>\n</g>\n<!-- 15 -->\n<g id=\"node16\" class=\"node\">\n<title>15</title>\n<polygon fill=\"#399de5\" stroke=\"black\" points=\"832.5,-68 740.5,-68 740.5,0 832.5,0 832.5,-68\"/>\n<text text-anchor=\"middle\" x=\"786.5\" y=\"-52.8\" font-family=\"Times,serif\" font-size=\"14.00\">gini = 0.0</text>\n<text text-anchor=\"middle\" x=\"786.5\" y=\"-37.8\" font-family=\"Times,serif\" font-size=\"14.00\">samples = 9</text>\n<text text-anchor=\"middle\" x=\"786.5\" y=\"-22.8\" font-family=\"Times,serif\" font-size=\"14.00\">value = [0, 9]</text>\n<text text-anchor=\"middle\" x=\"786.5\" y=\"-7.8\" font-family=\"Times,serif\" font-size=\"14.00\">class = yes</text>\n</g>\n<!-- 14&#45;&gt;15 -->\n<g id=\"edge15\" class=\"edge\">\n<title>14&#45;&gt;15</title>\n<path fill=\"none\" stroke=\"black\" d=\"M792.78,-103.73C792.02,-95.43 791.22,-86.67 790.45,-78.28\"/>\n<polygon fill=\"black\" stroke=\"black\" points=\"793.94,-77.94 789.54,-68.3 786.97,-78.58 793.94,-77.94\"/>\n</g>\n<!-- 16 -->\n<g id=\"node17\" class=\"node\">\n<title>16</title>\n<polygon fill=\"#e58139\" stroke=\"black\" points=\"942.5,-68 850.5,-68 850.5,0 942.5,0 942.5,-68\"/>\n<text text-anchor=\"middle\" x=\"896.5\" y=\"-52.8\" font-family=\"Times,serif\" font-size=\"14.00\">gini = 0.0</text>\n<text text-anchor=\"middle\" x=\"896.5\" y=\"-37.8\" font-family=\"Times,serif\" font-size=\"14.00\">samples = 1</text>\n<text text-anchor=\"middle\" x=\"896.5\" y=\"-22.8\" font-family=\"Times,serif\" font-size=\"14.00\">value = [1, 0]</text>\n<text text-anchor=\"middle\" x=\"896.5\" y=\"-7.8\" font-family=\"Times,serif\" font-size=\"14.00\">class = no</text>\n</g>\n<!-- 14&#45;&gt;16 -->\n<g id=\"edge16\" class=\"edge\">\n<title>14&#45;&gt;16</title>\n<path fill=\"none\" stroke=\"black\" d=\"M833.74,-103.73C842.07,-94.61 850.9,-84.93 859.23,-75.81\"/>\n<polygon fill=\"black\" stroke=\"black\" points=\"861.93,-78.04 866.09,-68.3 856.76,-73.32 861.93,-78.04\"/>\n</g>\n<!-- 18 -->\n<g id=\"node19\" class=\"node\">\n<title>18</title>\n<polygon fill=\"#69b5eb\" stroke=\"black\" points=\"1119.5,-306 1009.5,-306 1009.5,-223 1119.5,-223 1119.5,-306\"/>\n<text text-anchor=\"middle\" x=\"1064.5\" y=\"-290.8\" font-family=\"Times,serif\" font-size=\"14.00\">duration &lt;= 83.0</text>\n<text text-anchor=\"middle\" x=\"1064.5\" y=\"-275.8\" font-family=\"Times,serif\" font-size=\"14.00\">gini = 0.315</text>\n<text text-anchor=\"middle\" x=\"1064.5\" y=\"-260.8\" font-family=\"Times,serif\" font-size=\"14.00\">samples = 46</text>\n<text text-anchor=\"middle\" x=\"1064.5\" y=\"-245.8\" font-family=\"Times,serif\" font-size=\"14.00\">value = [9, 37]</text>\n<text text-anchor=\"middle\" x=\"1064.5\" y=\"-230.8\" font-family=\"Times,serif\" font-size=\"14.00\">class = yes</text>\n</g>\n<!-- 17&#45;&gt;18 -->\n<g id=\"edge18\" class=\"edge\">\n<title>17&#45;&gt;18</title>\n<path fill=\"none\" stroke=\"black\" d=\"M1106.95,-341.91C1102.11,-333.2 1096.94,-323.9 1091.94,-314.89\"/>\n<polygon fill=\"black\" stroke=\"black\" points=\"1094.93,-313.06 1087.01,-306.02 1088.81,-316.46 1094.93,-313.06\"/>\n</g>\n<!-- 23 -->\n<g id=\"node24\" class=\"node\">\n<title>23</title>\n<polygon fill=\"#f6d2b8\" stroke=\"black\" points=\"1251,-306 1138,-306 1138,-223 1251,-223 1251,-306\"/>\n<text text-anchor=\"middle\" x=\"1194.5\" y=\"-290.8\" font-family=\"Times,serif\" font-size=\"14.00\">balance &lt;= 114.5</text>\n<text text-anchor=\"middle\" x=\"1194.5\" y=\"-275.8\" font-family=\"Times,serif\" font-size=\"14.00\">gini = 0.476</text>\n<text text-anchor=\"middle\" x=\"1194.5\" y=\"-260.8\" font-family=\"Times,serif\" font-size=\"14.00\">samples = 23</text>\n<text text-anchor=\"middle\" x=\"1194.5\" y=\"-245.8\" font-family=\"Times,serif\" font-size=\"14.00\">value = [14, 9]</text>\n<text text-anchor=\"middle\" x=\"1194.5\" y=\"-230.8\" font-family=\"Times,serif\" font-size=\"14.00\">class = no</text>\n</g>\n<!-- 17&#45;&gt;23 -->\n<g id=\"edge23\" class=\"edge\">\n<title>17&#45;&gt;23</title>\n<path fill=\"none\" stroke=\"black\" d=\"M1152.05,-341.91C1156.89,-333.2 1162.06,-323.9 1167.06,-314.89\"/>\n<polygon fill=\"black\" stroke=\"black\" points=\"1170.19,-316.46 1171.99,-306.02 1164.07,-313.06 1170.19,-316.46\"/>\n</g>\n<!-- 19 -->\n<g id=\"node20\" class=\"node\">\n<title>19</title>\n<polygon fill=\"#e58139\" stroke=\"black\" points=\"1002.5,-179.5 910.5,-179.5 910.5,-111.5 1002.5,-111.5 1002.5,-179.5\"/>\n<text text-anchor=\"middle\" x=\"956.5\" y=\"-164.3\" font-family=\"Times,serif\" font-size=\"14.00\">gini = 0.0</text>\n<text text-anchor=\"middle\" x=\"956.5\" y=\"-149.3\" font-family=\"Times,serif\" font-size=\"14.00\">samples = 2</text>\n<text text-anchor=\"middle\" x=\"956.5\" y=\"-134.3\" font-family=\"Times,serif\" font-size=\"14.00\">value = [2, 0]</text>\n<text text-anchor=\"middle\" x=\"956.5\" y=\"-119.3\" font-family=\"Times,serif\" font-size=\"14.00\">class = no</text>\n</g>\n<!-- 18&#45;&gt;19 -->\n<g id=\"edge19\" class=\"edge\">\n<title>18&#45;&gt;19</title>\n<path fill=\"none\" stroke=\"black\" d=\"M1027.03,-222.91C1016.33,-211.32 1004.68,-198.7 993.99,-187.11\"/>\n<polygon fill=\"black\" stroke=\"black\" points=\"996.47,-184.64 987.12,-179.67 991.33,-189.39 996.47,-184.64\"/>\n</g>\n<!-- 20 -->\n<g id=\"node21\" class=\"node\">\n<title>20</title>\n<polygon fill=\"#5eb0ea\" stroke=\"black\" points=\"1118.5,-187 1020.5,-187 1020.5,-104 1118.5,-104 1118.5,-187\"/>\n<text text-anchor=\"middle\" x=\"1069.5\" y=\"-171.8\" font-family=\"Times,serif\" font-size=\"14.00\">pdays &lt;= 96.5</text>\n<text text-anchor=\"middle\" x=\"1069.5\" y=\"-156.8\" font-family=\"Times,serif\" font-size=\"14.00\">gini = 0.268</text>\n<text text-anchor=\"middle\" x=\"1069.5\" y=\"-141.8\" font-family=\"Times,serif\" font-size=\"14.00\">samples = 44</text>\n<text text-anchor=\"middle\" x=\"1069.5\" y=\"-126.8\" font-family=\"Times,serif\" font-size=\"14.00\">value = [7, 37]</text>\n<text text-anchor=\"middle\" x=\"1069.5\" y=\"-111.8\" font-family=\"Times,serif\" font-size=\"14.00\">class = yes</text>\n</g>\n<!-- 18&#45;&gt;20 -->\n<g id=\"edge20\" class=\"edge\">\n<title>18&#45;&gt;20</title>\n<path fill=\"none\" stroke=\"black\" d=\"M1066.23,-222.91C1066.59,-214.56 1066.97,-205.67 1067.34,-197.02\"/>\n<polygon fill=\"black\" stroke=\"black\" points=\"1070.84,-197.16 1067.77,-187.02 1063.84,-196.86 1070.84,-197.16\"/>\n</g>\n<!-- 21 -->\n<g id=\"node22\" class=\"node\">\n<title>21</title>\n<polygon fill=\"#399de5\" stroke=\"black\" points=\"1058.5,-68 960.5,-68 960.5,0 1058.5,0 1058.5,-68\"/>\n<text text-anchor=\"middle\" x=\"1009.5\" y=\"-52.8\" font-family=\"Times,serif\" font-size=\"14.00\">gini = 0.0</text>\n<text text-anchor=\"middle\" x=\"1009.5\" y=\"-37.8\" font-family=\"Times,serif\" font-size=\"14.00\">samples = 18</text>\n<text text-anchor=\"middle\" x=\"1009.5\" y=\"-22.8\" font-family=\"Times,serif\" font-size=\"14.00\">value = [0, 18]</text>\n<text text-anchor=\"middle\" x=\"1009.5\" y=\"-7.8\" font-family=\"Times,serif\" font-size=\"14.00\">class = yes</text>\n</g>\n<!-- 20&#45;&gt;21 -->\n<g id=\"edge21\" class=\"edge\">\n<title>20&#45;&gt;21</title>\n<path fill=\"none\" stroke=\"black\" d=\"M1047.16,-103.73C1042.41,-95.06 1037.39,-85.9 1032.61,-77.18\"/>\n<polygon fill=\"black\" stroke=\"black\" points=\"1035.62,-75.39 1027.75,-68.3 1029.48,-78.75 1035.62,-75.39\"/>\n</g>\n<!-- 22 -->\n<g id=\"node23\" class=\"node\">\n<title>22</title>\n<polygon fill=\"#82c1ef\" stroke=\"black\" points=\"1174.5,-68 1076.5,-68 1076.5,0 1174.5,0 1174.5,-68\"/>\n<text text-anchor=\"middle\" x=\"1125.5\" y=\"-52.8\" font-family=\"Times,serif\" font-size=\"14.00\">gini = 0.393</text>\n<text text-anchor=\"middle\" x=\"1125.5\" y=\"-37.8\" font-family=\"Times,serif\" font-size=\"14.00\">samples = 26</text>\n<text text-anchor=\"middle\" x=\"1125.5\" y=\"-22.8\" font-family=\"Times,serif\" font-size=\"14.00\">value = [7, 19]</text>\n<text text-anchor=\"middle\" x=\"1125.5\" y=\"-7.8\" font-family=\"Times,serif\" font-size=\"14.00\">class = yes</text>\n</g>\n<!-- 20&#45;&gt;22 -->\n<g id=\"edge22\" class=\"edge\">\n<title>20&#45;&gt;22</title>\n<path fill=\"none\" stroke=\"black\" d=\"M1090.35,-103.73C1094.74,-95.15 1099.37,-86.09 1103.79,-77.46\"/>\n<polygon fill=\"black\" stroke=\"black\" points=\"1107.03,-78.8 1108.47,-68.3 1100.8,-75.61 1107.03,-78.8\"/>\n</g>\n<!-- 24 -->\n<g id=\"node25\" class=\"node\">\n<title>24</title>\n<polygon fill=\"#399de5\" stroke=\"black\" points=\"1236.5,-179.5 1144.5,-179.5 1144.5,-111.5 1236.5,-111.5 1236.5,-179.5\"/>\n<text text-anchor=\"middle\" x=\"1190.5\" y=\"-164.3\" font-family=\"Times,serif\" font-size=\"14.00\">gini = 0.0</text>\n<text text-anchor=\"middle\" x=\"1190.5\" y=\"-149.3\" font-family=\"Times,serif\" font-size=\"14.00\">samples = 5</text>\n<text text-anchor=\"middle\" x=\"1190.5\" y=\"-134.3\" font-family=\"Times,serif\" font-size=\"14.00\">value = [0, 5]</text>\n<text text-anchor=\"middle\" x=\"1190.5\" y=\"-119.3\" font-family=\"Times,serif\" font-size=\"14.00\">class = yes</text>\n</g>\n<!-- 23&#45;&gt;24 -->\n<g id=\"edge24\" class=\"edge\">\n<title>23&#45;&gt;24</title>\n<path fill=\"none\" stroke=\"black\" d=\"M1193.11,-222.91C1192.75,-212.2 1192.35,-200.62 1191.98,-189.78\"/>\n<polygon fill=\"black\" stroke=\"black\" points=\"1195.47,-189.54 1191.63,-179.67 1188.48,-189.78 1195.47,-189.54\"/>\n</g>\n<!-- 25 -->\n<g id=\"node26\" class=\"node\">\n<title>25</title>\n<polygon fill=\"#eca572\" stroke=\"black\" points=\"1370.5,-187 1254.5,-187 1254.5,-104 1370.5,-104 1370.5,-187\"/>\n<text text-anchor=\"middle\" x=\"1312.5\" y=\"-171.8\" font-family=\"Times,serif\" font-size=\"14.00\">duration &lt;= 176.0</text>\n<text text-anchor=\"middle\" x=\"1312.5\" y=\"-156.8\" font-family=\"Times,serif\" font-size=\"14.00\">gini = 0.346</text>\n<text text-anchor=\"middle\" x=\"1312.5\" y=\"-141.8\" font-family=\"Times,serif\" font-size=\"14.00\">samples = 18</text>\n<text text-anchor=\"middle\" x=\"1312.5\" y=\"-126.8\" font-family=\"Times,serif\" font-size=\"14.00\">value = [14, 4]</text>\n<text text-anchor=\"middle\" x=\"1312.5\" y=\"-111.8\" font-family=\"Times,serif\" font-size=\"14.00\">class = no</text>\n</g>\n<!-- 23&#45;&gt;25 -->\n<g id=\"edge25\" class=\"edge\">\n<title>23&#45;&gt;25</title>\n<path fill=\"none\" stroke=\"black\" d=\"M1235.44,-222.91C1244.78,-213.65 1254.78,-203.73 1264.38,-194.21\"/>\n<polygon fill=\"black\" stroke=\"black\" points=\"1267,-196.55 1271.63,-187.02 1262.07,-191.58 1267,-196.55\"/>\n</g>\n<!-- 26 -->\n<g id=\"node27\" class=\"node\">\n<title>26</title>\n<polygon fill=\"#e58139\" stroke=\"black\" points=\"1284.5,-68 1192.5,-68 1192.5,0 1284.5,0 1284.5,-68\"/>\n<text text-anchor=\"middle\" x=\"1238.5\" y=\"-52.8\" font-family=\"Times,serif\" font-size=\"14.00\">gini = 0.0</text>\n<text text-anchor=\"middle\" x=\"1238.5\" y=\"-37.8\" font-family=\"Times,serif\" font-size=\"14.00\">samples = 8</text>\n<text text-anchor=\"middle\" x=\"1238.5\" y=\"-22.8\" font-family=\"Times,serif\" font-size=\"14.00\">value = [8, 0]</text>\n<text text-anchor=\"middle\" x=\"1238.5\" y=\"-7.8\" font-family=\"Times,serif\" font-size=\"14.00\">class = no</text>\n</g>\n<!-- 25&#45;&gt;26 -->\n<g id=\"edge26\" class=\"edge\">\n<title>25&#45;&gt;26</title>\n<path fill=\"none\" stroke=\"black\" d=\"M1284.95,-103.73C1278.97,-94.88 1272.63,-85.51 1266.63,-76.63\"/>\n<polygon fill=\"black\" stroke=\"black\" points=\"1269.5,-74.63 1261,-68.3 1263.7,-78.54 1269.5,-74.63\"/>\n</g>\n<!-- 27 -->\n<g id=\"node28\" class=\"node\">\n<title>27</title>\n<polygon fill=\"#f6d5bd\" stroke=\"black\" points=\"1394.5,-68 1302.5,-68 1302.5,0 1394.5,0 1394.5,-68\"/>\n<text text-anchor=\"middle\" x=\"1348.5\" y=\"-52.8\" font-family=\"Times,serif\" font-size=\"14.00\">gini = 0.48</text>\n<text text-anchor=\"middle\" x=\"1348.5\" y=\"-37.8\" font-family=\"Times,serif\" font-size=\"14.00\">samples = 10</text>\n<text text-anchor=\"middle\" x=\"1348.5\" y=\"-22.8\" font-family=\"Times,serif\" font-size=\"14.00\">value = [6, 4]</text>\n<text text-anchor=\"middle\" x=\"1348.5\" y=\"-7.8\" font-family=\"Times,serif\" font-size=\"14.00\">class = no</text>\n</g>\n<!-- 25&#45;&gt;27 -->\n<g id=\"edge27\" class=\"edge\">\n<title>25&#45;&gt;27</title>\n<path fill=\"none\" stroke=\"black\" d=\"M1325.91,-103.73C1328.66,-95.34 1331.58,-86.47 1334.36,-78.01\"/>\n<polygon fill=\"black\" stroke=\"black\" points=\"1337.75,-78.89 1337.55,-68.3 1331.1,-76.71 1337.75,-78.89\"/>\n</g>\n<!-- 29 -->\n<g id=\"node30\" class=\"node\">\n<title>29</title>\n<polygon fill=\"#b4daf5\" stroke=\"black\" points=\"1932,-425 1809,-425 1809,-342 1932,-342 1932,-425\"/>\n<text text-anchor=\"middle\" x=\"1870.5\" y=\"-409.8\" font-family=\"Times,serif\" font-size=\"14.00\">duration &lt;= 1026.5</text>\n<text text-anchor=\"middle\" x=\"1870.5\" y=\"-394.8\" font-family=\"Times,serif\" font-size=\"14.00\">gini = 0.473</text>\n<text text-anchor=\"middle\" x=\"1870.5\" y=\"-379.8\" font-family=\"Times,serif\" font-size=\"14.00\">samples = 120</text>\n<text text-anchor=\"middle\" x=\"1870.5\" y=\"-364.8\" font-family=\"Times,serif\" font-size=\"14.00\">value = [46, 74]</text>\n<text text-anchor=\"middle\" x=\"1870.5\" y=\"-349.8\" font-family=\"Times,serif\" font-size=\"14.00\">class = yes</text>\n</g>\n<!-- 28&#45;&gt;29 -->\n<g id=\"edge29\" class=\"edge\">\n<title>28&#45;&gt;29</title>\n<path fill=\"none\" stroke=\"black\" d=\"M1870.5,-460.91C1870.5,-452.65 1870.5,-443.86 1870.5,-435.3\"/>\n<polygon fill=\"black\" stroke=\"black\" points=\"1874,-435.02 1870.5,-425.02 1867,-435.02 1874,-435.02\"/>\n</g>\n<!-- 44 -->\n<g id=\"node45\" class=\"node\">\n<title>44</title>\n<polygon fill=\"#f6d4bb\" stroke=\"black\" points=\"2256,-425 2151,-425 2151,-342 2256,-342 2256,-425\"/>\n<text text-anchor=\"middle\" x=\"2203.5\" y=\"-409.8\" font-family=\"Times,serif\" font-size=\"14.00\">day &lt;= 3.5</text>\n<text text-anchor=\"middle\" x=\"2203.5\" y=\"-394.8\" font-family=\"Times,serif\" font-size=\"14.00\">gini = 0.478</text>\n<text text-anchor=\"middle\" x=\"2203.5\" y=\"-379.8\" font-family=\"Times,serif\" font-size=\"14.00\">samples = 154</text>\n<text text-anchor=\"middle\" x=\"2203.5\" y=\"-364.8\" font-family=\"Times,serif\" font-size=\"14.00\">value = [93, 61]</text>\n<text text-anchor=\"middle\" x=\"2203.5\" y=\"-349.8\" font-family=\"Times,serif\" font-size=\"14.00\">class = no</text>\n</g>\n<!-- 28&#45;&gt;44 -->\n<g id=\"edge44\" class=\"edge\">\n<title>28&#45;&gt;44</title>\n<path fill=\"none\" stroke=\"black\" d=\"M1943.58,-475.82C2002.85,-455 2085.48,-425.97 2141.54,-406.27\"/>\n<polygon fill=\"black\" stroke=\"black\" points=\"2142.72,-409.56 2151,-402.95 2140.4,-402.96 2142.72,-409.56\"/>\n</g>\n<!-- 30 -->\n<g id=\"node31\" class=\"node\">\n<title>30</title>\n<polygon fill=\"#d6ebfa\" stroke=\"black\" points=\"1837,-306 1732,-306 1732,-223 1837,-223 1837,-306\"/>\n<text text-anchor=\"middle\" x=\"1784.5\" y=\"-290.8\" font-family=\"Times,serif\" font-size=\"14.00\">day &lt;= 19.5</text>\n<text text-anchor=\"middle\" x=\"1784.5\" y=\"-275.8\" font-family=\"Times,serif\" font-size=\"14.00\">gini = 0.493</text>\n<text text-anchor=\"middle\" x=\"1784.5\" y=\"-260.8\" font-family=\"Times,serif\" font-size=\"14.00\">samples = 86</text>\n<text text-anchor=\"middle\" x=\"1784.5\" y=\"-245.8\" font-family=\"Times,serif\" font-size=\"14.00\">value = [38, 48]</text>\n<text text-anchor=\"middle\" x=\"1784.5\" y=\"-230.8\" font-family=\"Times,serif\" font-size=\"14.00\">class = yes</text>\n</g>\n<!-- 29&#45;&gt;30 -->\n<g id=\"edge30\" class=\"edge\">\n<title>29&#45;&gt;30</title>\n<path fill=\"none\" stroke=\"black\" d=\"M1840.66,-341.91C1834.13,-333.01 1827.14,-323.51 1820.39,-314.33\"/>\n<polygon fill=\"black\" stroke=\"black\" points=\"1823.03,-312.01 1814.28,-306.02 1817.39,-316.15 1823.03,-312.01\"/>\n</g>\n<!-- 37 -->\n<g id=\"node38\" class=\"node\">\n<title>37</title>\n<polygon fill=\"#76bbed\" stroke=\"black\" points=\"2014,-306 1901,-306 1901,-223 2014,-223 2014,-306\"/>\n<text text-anchor=\"middle\" x=\"1957.5\" y=\"-290.8\" font-family=\"Times,serif\" font-size=\"14.00\">balance &lt;= 766.5</text>\n<text text-anchor=\"middle\" x=\"1957.5\" y=\"-275.8\" font-family=\"Times,serif\" font-size=\"14.00\">gini = 0.36</text>\n<text text-anchor=\"middle\" x=\"1957.5\" y=\"-260.8\" font-family=\"Times,serif\" font-size=\"14.00\">samples = 34</text>\n<text text-anchor=\"middle\" x=\"1957.5\" y=\"-245.8\" font-family=\"Times,serif\" font-size=\"14.00\">value = [8, 26]</text>\n<text text-anchor=\"middle\" x=\"1957.5\" y=\"-230.8\" font-family=\"Times,serif\" font-size=\"14.00\">class = yes</text>\n</g>\n<!-- 29&#45;&gt;37 -->\n<g id=\"edge37\" class=\"edge\">\n<title>29&#45;&gt;37</title>\n<path fill=\"none\" stroke=\"black\" d=\"M1900.68,-341.91C1907.36,-332.92 1914.51,-323.32 1921.4,-314.05\"/>\n<polygon fill=\"black\" stroke=\"black\" points=\"1924.21,-316.13 1927.37,-306.02 1918.59,-311.96 1924.21,-316.13\"/>\n</g>\n<!-- 31 -->\n<g id=\"node32\" class=\"node\">\n<title>31</title>\n<polygon fill=\"#a5d2f3\" stroke=\"black\" points=\"1630,-187 1525,-187 1525,-104 1630,-104 1630,-187\"/>\n<text text-anchor=\"middle\" x=\"1577.5\" y=\"-171.8\" font-family=\"Times,serif\" font-size=\"14.00\">day &lt;= 9.5</text>\n<text text-anchor=\"middle\" x=\"1577.5\" y=\"-156.8\" font-family=\"Times,serif\" font-size=\"14.00\">gini = 0.457</text>\n<text text-anchor=\"middle\" x=\"1577.5\" y=\"-141.8\" font-family=\"Times,serif\" font-size=\"14.00\">samples = 51</text>\n<text text-anchor=\"middle\" x=\"1577.5\" y=\"-126.8\" font-family=\"Times,serif\" font-size=\"14.00\">value = [18, 33]</text>\n<text text-anchor=\"middle\" x=\"1577.5\" y=\"-111.8\" font-family=\"Times,serif\" font-size=\"14.00\">class = yes</text>\n</g>\n<!-- 30&#45;&gt;31 -->\n<g id=\"edge31\" class=\"edge\">\n<title>30&#45;&gt;31</title>\n<path fill=\"none\" stroke=\"black\" d=\"M1732,-233.82C1703.78,-217.87 1668.81,-198.11 1639.28,-181.42\"/>\n<polygon fill=\"black\" stroke=\"black\" points=\"1640.73,-178.22 1630.31,-176.35 1637.29,-184.31 1640.73,-178.22\"/>\n</g>\n<!-- 34 -->\n<g id=\"node35\" class=\"node\">\n<title>34</title>\n<polygon fill=\"#f8e0ce\" stroke=\"black\" points=\"1854.5,-187 1714.5,-187 1714.5,-104 1854.5,-104 1854.5,-187\"/>\n<text text-anchor=\"middle\" x=\"1784.5\" y=\"-171.8\" font-family=\"Times,serif\" font-size=\"14.00\">job_blue&#45;collar &lt;= 0.5</text>\n<text text-anchor=\"middle\" x=\"1784.5\" y=\"-156.8\" font-family=\"Times,serif\" font-size=\"14.00\">gini = 0.49</text>\n<text text-anchor=\"middle\" x=\"1784.5\" y=\"-141.8\" font-family=\"Times,serif\" font-size=\"14.00\">samples = 35</text>\n<text text-anchor=\"middle\" x=\"1784.5\" y=\"-126.8\" font-family=\"Times,serif\" font-size=\"14.00\">value = [20, 15]</text>\n<text text-anchor=\"middle\" x=\"1784.5\" y=\"-111.8\" font-family=\"Times,serif\" font-size=\"14.00\">class = no</text>\n</g>\n<!-- 30&#45;&gt;34 -->\n<g id=\"edge34\" class=\"edge\">\n<title>30&#45;&gt;34</title>\n<path fill=\"none\" stroke=\"black\" d=\"M1784.5,-222.91C1784.5,-214.65 1784.5,-205.86 1784.5,-197.3\"/>\n<polygon fill=\"black\" stroke=\"black\" points=\"1788,-197.02 1784.5,-187.02 1781,-197.02 1788,-197.02\"/>\n</g>\n<!-- 32 -->\n<g id=\"node33\" class=\"node\">\n<title>32</title>\n<polygon fill=\"#f6d5bd\" stroke=\"black\" points=\"1510.5,-68 1412.5,-68 1412.5,0 1510.5,0 1510.5,-68\"/>\n<text text-anchor=\"middle\" x=\"1461.5\" y=\"-52.8\" font-family=\"Times,serif\" font-size=\"14.00\">gini = 0.48</text>\n<text text-anchor=\"middle\" x=\"1461.5\" y=\"-37.8\" font-family=\"Times,serif\" font-size=\"14.00\">samples = 20</text>\n<text text-anchor=\"middle\" x=\"1461.5\" y=\"-22.8\" font-family=\"Times,serif\" font-size=\"14.00\">value = [12, 8]</text>\n<text text-anchor=\"middle\" x=\"1461.5\" y=\"-7.8\" font-family=\"Times,serif\" font-size=\"14.00\">class = no</text>\n</g>\n<!-- 31&#45;&gt;32 -->\n<g id=\"edge32\" class=\"edge\">\n<title>31&#45;&gt;32</title>\n<path fill=\"none\" stroke=\"black\" d=\"M1534.31,-103.73C1524.45,-94.42 1513.98,-84.54 1504.15,-75.26\"/>\n<polygon fill=\"black\" stroke=\"black\" points=\"1506.45,-72.62 1496.78,-68.3 1501.65,-77.71 1506.45,-72.62\"/>\n</g>\n<!-- 33 -->\n<g id=\"node34\" class=\"node\">\n<title>33</title>\n<polygon fill=\"#69b5eb\" stroke=\"black\" points=\"1626.5,-68 1528.5,-68 1528.5,0 1626.5,0 1626.5,-68\"/>\n<text text-anchor=\"middle\" x=\"1577.5\" y=\"-52.8\" font-family=\"Times,serif\" font-size=\"14.00\">gini = 0.312</text>\n<text text-anchor=\"middle\" x=\"1577.5\" y=\"-37.8\" font-family=\"Times,serif\" font-size=\"14.00\">samples = 31</text>\n<text text-anchor=\"middle\" x=\"1577.5\" y=\"-22.8\" font-family=\"Times,serif\" font-size=\"14.00\">value = [6, 25]</text>\n<text text-anchor=\"middle\" x=\"1577.5\" y=\"-7.8\" font-family=\"Times,serif\" font-size=\"14.00\">class = yes</text>\n</g>\n<!-- 31&#45;&gt;33 -->\n<g id=\"edge33\" class=\"edge\">\n<title>31&#45;&gt;33</title>\n<path fill=\"none\" stroke=\"black\" d=\"M1577.5,-103.73C1577.5,-95.52 1577.5,-86.86 1577.5,-78.56\"/>\n<polygon fill=\"black\" stroke=\"black\" points=\"1581,-78.3 1577.5,-68.3 1574,-78.3 1581,-78.3\"/>\n</g>\n<!-- 35 -->\n<g id=\"node36\" class=\"node\">\n<title>35</title>\n<polygon fill=\"#d5eaf9\" stroke=\"black\" points=\"1750,-68 1645,-68 1645,0 1750,0 1750,-68\"/>\n<text text-anchor=\"middle\" x=\"1697.5\" y=\"-52.8\" font-family=\"Times,serif\" font-size=\"14.00\">gini = 0.493</text>\n<text text-anchor=\"middle\" x=\"1697.5\" y=\"-37.8\" font-family=\"Times,serif\" font-size=\"14.00\">samples = 25</text>\n<text text-anchor=\"middle\" x=\"1697.5\" y=\"-22.8\" font-family=\"Times,serif\" font-size=\"14.00\">value = [11, 14]</text>\n<text text-anchor=\"middle\" x=\"1697.5\" y=\"-7.8\" font-family=\"Times,serif\" font-size=\"14.00\">class = yes</text>\n</g>\n<!-- 34&#45;&gt;35 -->\n<g id=\"edge35\" class=\"edge\">\n<title>34&#45;&gt;35</title>\n<path fill=\"none\" stroke=\"black\" d=\"M1752.1,-103.73C1745,-94.79 1737.48,-85.32 1730.36,-76.36\"/>\n<polygon fill=\"black\" stroke=\"black\" points=\"1732.92,-73.95 1723.96,-68.3 1727.44,-78.31 1732.92,-73.95\"/>\n</g>\n<!-- 36 -->\n<g id=\"node37\" class=\"node\">\n<title>36</title>\n<polygon fill=\"#e88f4f\" stroke=\"black\" points=\"1860.5,-68 1768.5,-68 1768.5,0 1860.5,0 1860.5,-68\"/>\n<text text-anchor=\"middle\" x=\"1814.5\" y=\"-52.8\" font-family=\"Times,serif\" font-size=\"14.00\">gini = 0.18</text>\n<text text-anchor=\"middle\" x=\"1814.5\" y=\"-37.8\" font-family=\"Times,serif\" font-size=\"14.00\">samples = 10</text>\n<text text-anchor=\"middle\" x=\"1814.5\" y=\"-22.8\" font-family=\"Times,serif\" font-size=\"14.00\">value = [9, 1]</text>\n<text text-anchor=\"middle\" x=\"1814.5\" y=\"-7.8\" font-family=\"Times,serif\" font-size=\"14.00\">class = no</text>\n</g>\n<!-- 34&#45;&gt;36 -->\n<g id=\"edge36\" class=\"edge\">\n<title>34&#45;&gt;36</title>\n<path fill=\"none\" stroke=\"black\" d=\"M1795.67,-103.73C1797.97,-95.34 1800.4,-86.47 1802.72,-78.01\"/>\n<polygon fill=\"black\" stroke=\"black\" points=\"1806.11,-78.87 1805.38,-68.3 1799.36,-77.02 1806.11,-78.87\"/>\n</g>\n<!-- 38 -->\n<g id=\"node39\" class=\"node\">\n<title>38</title>\n<polygon fill=\"#4ea7e8\" stroke=\"black\" points=\"2006.5,-187 1908.5,-187 1908.5,-104 2006.5,-104 2006.5,-187\"/>\n<text text-anchor=\"middle\" x=\"1957.5\" y=\"-171.8\" font-family=\"Times,serif\" font-size=\"14.00\">age &lt;= 65.0</text>\n<text text-anchor=\"middle\" x=\"1957.5\" y=\"-156.8\" font-family=\"Times,serif\" font-size=\"14.00\">gini = 0.172</text>\n<text text-anchor=\"middle\" x=\"1957.5\" y=\"-141.8\" font-family=\"Times,serif\" font-size=\"14.00\">samples = 21</text>\n<text text-anchor=\"middle\" x=\"1957.5\" y=\"-126.8\" font-family=\"Times,serif\" font-size=\"14.00\">value = [2, 19]</text>\n<text text-anchor=\"middle\" x=\"1957.5\" y=\"-111.8\" font-family=\"Times,serif\" font-size=\"14.00\">class = yes</text>\n</g>\n<!-- 37&#45;&gt;38 -->\n<g id=\"edge38\" class=\"edge\">\n<title>37&#45;&gt;38</title>\n<path fill=\"none\" stroke=\"black\" d=\"M1957.5,-222.91C1957.5,-214.65 1957.5,-205.86 1957.5,-197.3\"/>\n<polygon fill=\"black\" stroke=\"black\" points=\"1961,-197.02 1957.5,-187.02 1954,-197.02 1961,-197.02\"/>\n</g>\n<!-- 41 -->\n<g id=\"node42\" class=\"node\">\n<title>41</title>\n<polygon fill=\"#e3f1fb\" stroke=\"black\" points=\"2196.5,-187 2104.5,-187 2104.5,-104 2196.5,-104 2196.5,-187\"/>\n<text text-anchor=\"middle\" x=\"2150.5\" y=\"-171.8\" font-family=\"Times,serif\" font-size=\"14.00\">age &lt;= 42.0</text>\n<text text-anchor=\"middle\" x=\"2150.5\" y=\"-156.8\" font-family=\"Times,serif\" font-size=\"14.00\">gini = 0.497</text>\n<text text-anchor=\"middle\" x=\"2150.5\" y=\"-141.8\" font-family=\"Times,serif\" font-size=\"14.00\">samples = 13</text>\n<text text-anchor=\"middle\" x=\"2150.5\" y=\"-126.8\" font-family=\"Times,serif\" font-size=\"14.00\">value = [6, 7]</text>\n<text text-anchor=\"middle\" x=\"2150.5\" y=\"-111.8\" font-family=\"Times,serif\" font-size=\"14.00\">class = yes</text>\n</g>\n<!-- 37&#45;&gt;41 -->\n<g id=\"edge41\" class=\"edge\">\n<title>37&#45;&gt;41</title>\n<path fill=\"none\" stroke=\"black\" d=\"M2014.1,-229.19C2039.77,-213.62 2070.01,-195.29 2095.49,-179.85\"/>\n<polygon fill=\"black\" stroke=\"black\" points=\"2097.55,-182.69 2104.29,-174.51 2093.92,-176.71 2097.55,-182.69\"/>\n</g>\n<!-- 39 -->\n<g id=\"node40\" class=\"node\">\n<title>39</title>\n<polygon fill=\"#43a2e6\" stroke=\"black\" points=\"1976.5,-68 1878.5,-68 1878.5,0 1976.5,0 1976.5,-68\"/>\n<text text-anchor=\"middle\" x=\"1927.5\" y=\"-52.8\" font-family=\"Times,serif\" font-size=\"14.00\">gini = 0.095</text>\n<text text-anchor=\"middle\" x=\"1927.5\" y=\"-37.8\" font-family=\"Times,serif\" font-size=\"14.00\">samples = 20</text>\n<text text-anchor=\"middle\" x=\"1927.5\" y=\"-22.8\" font-family=\"Times,serif\" font-size=\"14.00\">value = [1, 19]</text>\n<text text-anchor=\"middle\" x=\"1927.5\" y=\"-7.8\" font-family=\"Times,serif\" font-size=\"14.00\">class = yes</text>\n</g>\n<!-- 38&#45;&gt;39 -->\n<g id=\"edge39\" class=\"edge\">\n<title>38&#45;&gt;39</title>\n<path fill=\"none\" stroke=\"black\" d=\"M1946.33,-103.73C1944.03,-95.34 1941.6,-86.47 1939.28,-78.01\"/>\n<polygon fill=\"black\" stroke=\"black\" points=\"1942.64,-77.02 1936.62,-68.3 1935.89,-78.87 1942.64,-77.02\"/>\n</g>\n<!-- 40 -->\n<g id=\"node41\" class=\"node\">\n<title>40</title>\n<polygon fill=\"#e58139\" stroke=\"black\" points=\"2086.5,-68 1994.5,-68 1994.5,0 2086.5,0 2086.5,-68\"/>\n<text text-anchor=\"middle\" x=\"2040.5\" y=\"-52.8\" font-family=\"Times,serif\" font-size=\"14.00\">gini = 0.0</text>\n<text text-anchor=\"middle\" x=\"2040.5\" y=\"-37.8\" font-family=\"Times,serif\" font-size=\"14.00\">samples = 1</text>\n<text text-anchor=\"middle\" x=\"2040.5\" y=\"-22.8\" font-family=\"Times,serif\" font-size=\"14.00\">value = [1, 0]</text>\n<text text-anchor=\"middle\" x=\"2040.5\" y=\"-7.8\" font-family=\"Times,serif\" font-size=\"14.00\">class = no</text>\n</g>\n<!-- 38&#45;&gt;40 -->\n<g id=\"edge40\" class=\"edge\">\n<title>38&#45;&gt;40</title>\n<path fill=\"none\" stroke=\"black\" d=\"M1988.41,-103.73C1995.18,-94.79 2002.36,-85.32 2009.15,-76.36\"/>\n<polygon fill=\"black\" stroke=\"black\" points=\"2012.01,-78.38 2015.26,-68.3 2006.43,-74.15 2012.01,-78.38\"/>\n</g>\n<!-- 42 -->\n<g id=\"node43\" class=\"node\">\n<title>42</title>\n<polygon fill=\"#eeab7b\" stroke=\"black\" points=\"2196.5,-68 2104.5,-68 2104.5,0 2196.5,0 2196.5,-68\"/>\n<text text-anchor=\"middle\" x=\"2150.5\" y=\"-52.8\" font-family=\"Times,serif\" font-size=\"14.00\">gini = 0.375</text>\n<text text-anchor=\"middle\" x=\"2150.5\" y=\"-37.8\" font-family=\"Times,serif\" font-size=\"14.00\">samples = 8</text>\n<text text-anchor=\"middle\" x=\"2150.5\" y=\"-22.8\" font-family=\"Times,serif\" font-size=\"14.00\">value = [6, 2]</text>\n<text text-anchor=\"middle\" x=\"2150.5\" y=\"-7.8\" font-family=\"Times,serif\" font-size=\"14.00\">class = no</text>\n</g>\n<!-- 41&#45;&gt;42 -->\n<g id=\"edge42\" class=\"edge\">\n<title>41&#45;&gt;42</title>\n<path fill=\"none\" stroke=\"black\" d=\"M2150.5,-103.73C2150.5,-95.52 2150.5,-86.86 2150.5,-78.56\"/>\n<polygon fill=\"black\" stroke=\"black\" points=\"2154,-78.3 2150.5,-68.3 2147,-78.3 2154,-78.3\"/>\n</g>\n<!-- 43 -->\n<g id=\"node44\" class=\"node\">\n<title>43</title>\n<polygon fill=\"#399de5\" stroke=\"black\" points=\"2306.5,-68 2214.5,-68 2214.5,0 2306.5,0 2306.5,-68\"/>\n<text text-anchor=\"middle\" x=\"2260.5\" y=\"-52.8\" font-family=\"Times,serif\" font-size=\"14.00\">gini = 0.0</text>\n<text text-anchor=\"middle\" x=\"2260.5\" y=\"-37.8\" font-family=\"Times,serif\" font-size=\"14.00\">samples = 5</text>\n<text text-anchor=\"middle\" x=\"2260.5\" y=\"-22.8\" font-family=\"Times,serif\" font-size=\"14.00\">value = [0, 5]</text>\n<text text-anchor=\"middle\" x=\"2260.5\" y=\"-7.8\" font-family=\"Times,serif\" font-size=\"14.00\">class = yes</text>\n</g>\n<!-- 41&#45;&gt;43 -->\n<g id=\"edge43\" class=\"edge\">\n<title>41&#45;&gt;43</title>\n<path fill=\"none\" stroke=\"black\" d=\"M2191.46,-103.73C2200.71,-94.51 2210.54,-84.74 2219.78,-75.53\"/>\n<polygon fill=\"black\" stroke=\"black\" points=\"2222.43,-77.84 2227.05,-68.3 2217.49,-72.87 2222.43,-77.84\"/>\n</g>\n<!-- 45 -->\n<g id=\"node46\" class=\"node\">\n<title>45</title>\n<polygon fill=\"#399de5\" stroke=\"black\" points=\"2249.5,-298.5 2157.5,-298.5 2157.5,-230.5 2249.5,-230.5 2249.5,-298.5\"/>\n<text text-anchor=\"middle\" x=\"2203.5\" y=\"-283.3\" font-family=\"Times,serif\" font-size=\"14.00\">gini = 0.0</text>\n<text text-anchor=\"middle\" x=\"2203.5\" y=\"-268.3\" font-family=\"Times,serif\" font-size=\"14.00\">samples = 4</text>\n<text text-anchor=\"middle\" x=\"2203.5\" y=\"-253.3\" font-family=\"Times,serif\" font-size=\"14.00\">value = [0, 4]</text>\n<text text-anchor=\"middle\" x=\"2203.5\" y=\"-238.3\" font-family=\"Times,serif\" font-size=\"14.00\">class = yes</text>\n</g>\n<!-- 44&#45;&gt;45 -->\n<g id=\"edge45\" class=\"edge\">\n<title>44&#45;&gt;45</title>\n<path fill=\"none\" stroke=\"black\" d=\"M2203.5,-341.91C2203.5,-331.2 2203.5,-319.62 2203.5,-308.78\"/>\n<polygon fill=\"black\" stroke=\"black\" points=\"2207,-308.67 2203.5,-298.67 2200,-308.67 2207,-308.67\"/>\n</g>\n<!-- 46 -->\n<g id=\"node47\" class=\"node\">\n<title>46</title>\n<polygon fill=\"#f5ceb2\" stroke=\"black\" points=\"2479,-306 2374,-306 2374,-223 2479,-223 2479,-306\"/>\n<text text-anchor=\"middle\" x=\"2426.5\" y=\"-290.8\" font-family=\"Times,serif\" font-size=\"14.00\">pdays &lt;= 203.5</text>\n<text text-anchor=\"middle\" x=\"2426.5\" y=\"-275.8\" font-family=\"Times,serif\" font-size=\"14.00\">gini = 0.471</text>\n<text text-anchor=\"middle\" x=\"2426.5\" y=\"-260.8\" font-family=\"Times,serif\" font-size=\"14.00\">samples = 150</text>\n<text text-anchor=\"middle\" x=\"2426.5\" y=\"-245.8\" font-family=\"Times,serif\" font-size=\"14.00\">value = [93, 57]</text>\n<text text-anchor=\"middle\" x=\"2426.5\" y=\"-230.8\" font-family=\"Times,serif\" font-size=\"14.00\">class = no</text>\n</g>\n<!-- 44&#45;&gt;46 -->\n<g id=\"edge46\" class=\"edge\">\n<title>44&#45;&gt;46</title>\n<path fill=\"none\" stroke=\"black\" d=\"M2256.07,-354.92C2288.69,-337.8 2330.76,-315.73 2364.94,-297.8\"/>\n<polygon fill=\"black\" stroke=\"black\" points=\"2366.67,-300.84 2373.9,-293.1 2363.42,-294.64 2366.67,-300.84\"/>\n</g>\n<!-- 47 -->\n<g id=\"node48\" class=\"node\">\n<title>47</title>\n<polygon fill=\"#f3c6a6\" stroke=\"black\" points=\"2485.5,-187 2367.5,-187 2367.5,-104 2485.5,-104 2485.5,-187\"/>\n<text text-anchor=\"middle\" x=\"2426.5\" y=\"-171.8\" font-family=\"Times,serif\" font-size=\"14.00\">campaign &lt;= 11.0</text>\n<text text-anchor=\"middle\" x=\"2426.5\" y=\"-156.8\" font-family=\"Times,serif\" font-size=\"14.00\">gini = 0.458</text>\n<text text-anchor=\"middle\" x=\"2426.5\" y=\"-141.8\" font-family=\"Times,serif\" font-size=\"14.00\">samples = 141</text>\n<text text-anchor=\"middle\" x=\"2426.5\" y=\"-126.8\" font-family=\"Times,serif\" font-size=\"14.00\">value = [91, 50]</text>\n<text text-anchor=\"middle\" x=\"2426.5\" y=\"-111.8\" font-family=\"Times,serif\" font-size=\"14.00\">class = no</text>\n</g>\n<!-- 46&#45;&gt;47 -->\n<g id=\"edge47\" class=\"edge\">\n<title>46&#45;&gt;47</title>\n<path fill=\"none\" stroke=\"black\" d=\"M2426.5,-222.91C2426.5,-214.65 2426.5,-205.86 2426.5,-197.3\"/>\n<polygon fill=\"black\" stroke=\"black\" points=\"2430,-197.02 2426.5,-187.02 2423,-197.02 2430,-197.02\"/>\n</g>\n<!-- 50 -->\n<g id=\"node51\" class=\"node\">\n<title>50</title>\n<polygon fill=\"#72b9ec\" stroke=\"black\" points=\"2656.5,-187 2552.5,-187 2552.5,-104 2656.5,-104 2656.5,-187\"/>\n<text text-anchor=\"middle\" x=\"2604.5\" y=\"-171.8\" font-family=\"Times,serif\" font-size=\"14.00\">previous &lt;= 3.5</text>\n<text text-anchor=\"middle\" x=\"2604.5\" y=\"-156.8\" font-family=\"Times,serif\" font-size=\"14.00\">gini = 0.346</text>\n<text text-anchor=\"middle\" x=\"2604.5\" y=\"-141.8\" font-family=\"Times,serif\" font-size=\"14.00\">samples = 9</text>\n<text text-anchor=\"middle\" x=\"2604.5\" y=\"-126.8\" font-family=\"Times,serif\" font-size=\"14.00\">value = [2, 7]</text>\n<text text-anchor=\"middle\" x=\"2604.5\" y=\"-111.8\" font-family=\"Times,serif\" font-size=\"14.00\">class = yes</text>\n</g>\n<!-- 46&#45;&gt;50 -->\n<g id=\"edge50\" class=\"edge\">\n<title>46&#45;&gt;50</title>\n<path fill=\"none\" stroke=\"black\" d=\"M2479.42,-228.71C2499.69,-215.39 2522.96,-200.1 2543.89,-186.34\"/>\n<polygon fill=\"black\" stroke=\"black\" points=\"2545.96,-189.17 2552.39,-180.75 2542.11,-183.32 2545.96,-189.17\"/>\n</g>\n<!-- 48 -->\n<g id=\"node49\" class=\"node\">\n<title>48</title>\n<polygon fill=\"#f2c29f\" stroke=\"black\" points=\"2430,-68 2325,-68 2325,0 2430,0 2430,-68\"/>\n<text text-anchor=\"middle\" x=\"2377.5\" y=\"-52.8\" font-family=\"Times,serif\" font-size=\"14.00\">gini = 0.449</text>\n<text text-anchor=\"middle\" x=\"2377.5\" y=\"-37.8\" font-family=\"Times,serif\" font-size=\"14.00\">samples = 138</text>\n<text text-anchor=\"middle\" x=\"2377.5\" y=\"-22.8\" font-family=\"Times,serif\" font-size=\"14.00\">value = [91, 47]</text>\n<text text-anchor=\"middle\" x=\"2377.5\" y=\"-7.8\" font-family=\"Times,serif\" font-size=\"14.00\">class = no</text>\n</g>\n<!-- 47&#45;&gt;48 -->\n<g id=\"edge48\" class=\"edge\">\n<title>47&#45;&gt;48</title>\n<path fill=\"none\" stroke=\"black\" d=\"M2408.25,-103.73C2404.42,-95.15 2400.36,-86.09 2396.5,-77.46\"/>\n<polygon fill=\"black\" stroke=\"black\" points=\"2399.68,-76 2392.4,-68.3 2393.29,-78.86 2399.68,-76\"/>\n</g>\n<!-- 49 -->\n<g id=\"node50\" class=\"node\">\n<title>49</title>\n<polygon fill=\"#399de5\" stroke=\"black\" points=\"2540.5,-68 2448.5,-68 2448.5,0 2540.5,0 2540.5,-68\"/>\n<text text-anchor=\"middle\" x=\"2494.5\" y=\"-52.8\" font-family=\"Times,serif\" font-size=\"14.00\">gini = 0.0</text>\n<text text-anchor=\"middle\" x=\"2494.5\" y=\"-37.8\" font-family=\"Times,serif\" font-size=\"14.00\">samples = 3</text>\n<text text-anchor=\"middle\" x=\"2494.5\" y=\"-22.8\" font-family=\"Times,serif\" font-size=\"14.00\">value = [0, 3]</text>\n<text text-anchor=\"middle\" x=\"2494.5\" y=\"-7.8\" font-family=\"Times,serif\" font-size=\"14.00\">class = yes</text>\n</g>\n<!-- 47&#45;&gt;49 -->\n<g id=\"edge49\" class=\"edge\">\n<title>47&#45;&gt;49</title>\n<path fill=\"none\" stroke=\"black\" d=\"M2451.82,-103.73C2457.26,-94.97 2463.01,-85.7 2468.48,-76.91\"/>\n<polygon fill=\"black\" stroke=\"black\" points=\"2471.52,-78.64 2473.82,-68.3 2465.57,-74.95 2471.52,-78.64\"/>\n</g>\n<!-- 51 -->\n<g id=\"node52\" class=\"node\">\n<title>51</title>\n<polygon fill=\"#399de5\" stroke=\"black\" points=\"2650.5,-68 2558.5,-68 2558.5,0 2650.5,0 2650.5,-68\"/>\n<text text-anchor=\"middle\" x=\"2604.5\" y=\"-52.8\" font-family=\"Times,serif\" font-size=\"14.00\">gini = 0.0</text>\n<text text-anchor=\"middle\" x=\"2604.5\" y=\"-37.8\" font-family=\"Times,serif\" font-size=\"14.00\">samples = 6</text>\n<text text-anchor=\"middle\" x=\"2604.5\" y=\"-22.8\" font-family=\"Times,serif\" font-size=\"14.00\">value = [0, 6]</text>\n<text text-anchor=\"middle\" x=\"2604.5\" y=\"-7.8\" font-family=\"Times,serif\" font-size=\"14.00\">class = yes</text>\n</g>\n<!-- 50&#45;&gt;51 -->\n<g id=\"edge51\" class=\"edge\">\n<title>50&#45;&gt;51</title>\n<path fill=\"none\" stroke=\"black\" d=\"M2604.5,-103.73C2604.5,-95.52 2604.5,-86.86 2604.5,-78.56\"/>\n<polygon fill=\"black\" stroke=\"black\" points=\"2608,-78.3 2604.5,-68.3 2601,-78.3 2608,-78.3\"/>\n</g>\n<!-- 52 -->\n<g id=\"node53\" class=\"node\">\n<title>52</title>\n<polygon fill=\"#f2c09c\" stroke=\"black\" points=\"2760.5,-68 2668.5,-68 2668.5,0 2760.5,0 2760.5,-68\"/>\n<text text-anchor=\"middle\" x=\"2714.5\" y=\"-52.8\" font-family=\"Times,serif\" font-size=\"14.00\">gini = 0.444</text>\n<text text-anchor=\"middle\" x=\"2714.5\" y=\"-37.8\" font-family=\"Times,serif\" font-size=\"14.00\">samples = 3</text>\n<text text-anchor=\"middle\" x=\"2714.5\" y=\"-22.8\" font-family=\"Times,serif\" font-size=\"14.00\">value = [2, 1]</text>\n<text text-anchor=\"middle\" x=\"2714.5\" y=\"-7.8\" font-family=\"Times,serif\" font-size=\"14.00\">class = no</text>\n</g>\n<!-- 50&#45;&gt;52 -->\n<g id=\"edge52\" class=\"edge\">\n<title>50&#45;&gt;52</title>\n<path fill=\"none\" stroke=\"black\" d=\"M2645.46,-103.73C2654.71,-94.51 2664.54,-84.74 2673.78,-75.53\"/>\n<polygon fill=\"black\" stroke=\"black\" points=\"2676.43,-77.84 2681.05,-68.3 2671.49,-72.87 2676.43,-77.84\"/>\n</g>\n</g>\n</svg>\n"
          },
          "metadata": {},
          "execution_count": 287
        }
      ],
      "metadata": {
        "id": "t_j8rbNbX6JV",
        "colab": {
          "base_uri": "https://localhost:8080/",
          "height": 953
        },
        "outputId": "eb686424-f2f0-4ef5-f411-743693b429eb"
      }
    },
    {
      "cell_type": "code",
      "execution_count": 288,
      "source": [
        "# Perform prediction on the test set\n",
        "y_pred = clf.predict(X_test)"
      ],
      "outputs": [],
      "metadata": {
        "id": "_ZNmnJCl-9op"
      }
    },
    {
      "cell_type": "code",
      "execution_count": 289,
      "source": [
        "# Get classification report\n",
        "from sklearn.metrics import classification_report\n",
        "from sklearn import metrics\n",
        "\n",
        "print(classification_report(y_test, y_pred))"
      ],
      "outputs": [
        {
          "output_type": "stream",
          "name": "stdout",
          "text": [
            "              precision    recall  f1-score   support\n",
            "\n",
            "          no       0.91      0.97      0.94      1188\n",
            "         yes       0.60      0.30      0.40       169\n",
            "\n",
            "    accuracy                           0.89      1357\n",
            "   macro avg       0.75      0.63      0.67      1357\n",
            "weighted avg       0.87      0.89      0.87      1357\n",
            "\n"
          ]
        }
      ],
      "metadata": {
        "id": "hZekTH02f6fO"
      }
    },
    {
      "cell_type": "markdown",
      "source": [
        "The complete Decision Tree model shows to be a very accurate predictor with an accuracy of 89%. However, we are still having an issue where the model is having trouble predicting \"Yes\" classes as precision, recall, and f1-scores and still very low. Again, it could be due to class imbalance."
      ],
      "metadata": {}
    },
    {
      "cell_type": "markdown",
      "source": [
        "## Feature Selection for Selective Model:"
      ],
      "metadata": {}
    },
    {
      "cell_type": "code",
      "execution_count": 290,
      "source": [
        "print(one_hot_feature_names)"
      ],
      "outputs": [
        {
          "output_type": "stream",
          "name": "stdout",
          "text": [
            "Index(['age', 'balance', 'day', 'duration', 'campaign', 'pdays', 'previous',\n",
            "       'job_admin.', 'job_blue-collar', 'job_entrepreneur', 'job_housemaid',\n",
            "       'job_management', 'job_retired', 'job_self-employed', 'job_services',\n",
            "       'job_student', 'job_technician', 'job_unemployed', 'job_unknown',\n",
            "       'marital_divorced', 'marital_married', 'marital_single',\n",
            "       'education_primary', 'education_secondary', 'education_tertiary',\n",
            "       'education_unknown', 'default_no', 'default_yes', 'housing_no',\n",
            "       'housing_yes', 'loan_no', 'loan_yes', 'contact_cellular',\n",
            "       'contact_telephone', 'contact_unknown', 'month_apr', 'month_aug',\n",
            "       'month_dec', 'month_feb', 'month_jan', 'month_jul', 'month_jun',\n",
            "       'month_mar', 'month_may', 'month_nov', 'month_oct', 'month_sep',\n",
            "       'poutcome_failure', 'poutcome_other', 'poutcome_success',\n",
            "       'poutcome_unknown'],\n",
            "      dtype='object')\n"
          ]
        }
      ],
      "metadata": {
        "colab": {
          "base_uri": "https://localhost:8080/"
        },
        "id": "FGhZd76dGVsi",
        "outputId": "854cb50f-db27-494f-f9f7-cceadb8beaf4"
      }
    },
    {
      "cell_type": "code",
      "execution_count": 291,
      "source": [
        "from sklearn.inspection import permutation_importance\n",
        "\n",
        "imps = permutation_importance(nb, X_test, y_test)\n",
        "importances = imps.importances_mean\n",
        "std = imps.importances_std\n",
        "indices = np.argsort(importances)[::-1]\n",
        "\n",
        "# Print the feature ranking\n",
        "print(\"Feature ranking:\")\n",
        "for f in range(X_test.shape[1]):\n",
        "    print(\"%d. %s (%f)\" % (f + 1, one_hot_feature_names[indices[f]], importances[indices[f]]))"
      ],
      "outputs": [
        {
          "output_type": "stream",
          "name": "stdout",
          "text": [
            "Feature ranking:\n",
            "1. duration (0.042152)\n",
            "2. pdays (0.007369)\n",
            "3. month_oct (0.000884)\n",
            "4. age (0.000295)\n",
            "5. campaign (0.000295)\n",
            "6. loan_no (0.000147)\n",
            "7. poutcome_success (0.000147)\n",
            "8. contact_unknown (0.000147)\n",
            "9. month_mar (0.000000)\n",
            "10. job_student (0.000000)\n",
            "11. marital_married (0.000000)\n",
            "12. marital_single (0.000000)\n",
            "13. job_unemployed (0.000000)\n",
            "14. job_technician (0.000000)\n",
            "15. education_tertiary (0.000000)\n",
            "16. month_nov (0.000000)\n",
            "17. default_no (0.000000)\n",
            "18. default_yes (0.000000)\n",
            "19. housing_no (0.000000)\n",
            "20. marital_divorced (0.000000)\n",
            "21. job_services (0.000000)\n",
            "22. contact_cellular (0.000000)\n",
            "23. contact_telephone (0.000000)\n",
            "24. job_unknown (0.000000)\n",
            "25. month_apr (0.000000)\n",
            "26. month_aug (0.000000)\n",
            "27. month_dec (0.000000)\n",
            "28. job_self-employed (0.000000)\n",
            "29. job_retired (0.000000)\n",
            "30. job_housemaid (0.000000)\n",
            "31. job_entrepreneur (-0.000147)\n",
            "32. job_admin. (-0.000147)\n",
            "33. education_unknown (-0.000147)\n",
            "34. month_jun (-0.000147)\n",
            "35. month_jan (-0.000147)\n",
            "36. education_primary (-0.000295)\n",
            "37. housing_yes (-0.000295)\n",
            "38. poutcome_failure (-0.000295)\n",
            "39. education_secondary (-0.000295)\n",
            "40. job_management (-0.000295)\n",
            "41. job_blue-collar (-0.000442)\n",
            "42. month_jul (-0.000442)\n",
            "43. poutcome_unknown (-0.000442)\n",
            "44. previous (-0.000590)\n",
            "45. month_feb (-0.000737)\n",
            "46. month_may (-0.000737)\n",
            "47. month_sep (-0.000737)\n",
            "48. loan_yes (-0.000737)\n",
            "49. poutcome_other (-0.000737)\n",
            "50. day (-0.002358)\n",
            "51. balance (-0.015033)\n"
          ]
        }
      ],
      "metadata": {
        "colab": {
          "base_uri": "https://localhost:8080/"
        },
        "id": "w4Q4QpCGURX7",
        "outputId": "57d79688-44f0-4f63-9647-64058cda84e7"
      }
    },
    {
      "cell_type": "markdown",
      "source": [
        "Using Sklearn's Variable Importance test, we can see that there are many attributes that may hurt or contribute nothing to the model. Therefore, I decided to use the top 5 variables for the selective models."
      ],
      "metadata": {}
    },
    {
      "cell_type": "code",
      "execution_count": 292,
      "source": [
        "new_df_onehot = df_onehot[['duration','pdays','month_apr', 'month_aug',\n",
        "       'month_dec', 'month_feb', 'month_jan', 'month_jul', 'month_jun',\n",
        "       'month_mar', 'month_may', 'month_nov', 'month_oct', 'month_sep', 'age','contact_cellular',\n",
        "       'contact_telephone', 'contact_unknown', 'poutcome_failure', 'poutcome_other', 'poutcome_success',\n",
        "       'poutcome_unknown', 'y']].copy()\n",
        "new_df_onehot.head()"
      ],
      "outputs": [
        {
          "output_type": "execute_result",
          "data": {
            "text/plain": [
              "   duration  pdays  month_apr  month_aug  month_dec  month_feb  month_jan  \\\n",
              "0        79      0          0          0          0          0          0   \n",
              "1       220    339          0          0          0          0          0   \n",
              "2       185    330          1          0          0          0          0   \n",
              "3       199      0          0          0          0          0          0   \n",
              "4       226      0          0          0          0          0          0   \n",
              "\n",
              "   month_jul  month_jun  month_mar  ...  month_sep  age  contact_cellular  \\\n",
              "0          0          0          0  ...          0   30                 1   \n",
              "1          0          0          0  ...          0   33                 1   \n",
              "2          0          0          0  ...          0   35                 1   \n",
              "3          0          1          0  ...          0   30                 0   \n",
              "4          0          0          0  ...          0   59                 0   \n",
              "\n",
              "   contact_telephone  contact_unknown  poutcome_failure  poutcome_other  \\\n",
              "0                  0                0                 0               0   \n",
              "1                  0                0                 1               0   \n",
              "2                  0                0                 1               0   \n",
              "3                  0                1                 0               0   \n",
              "4                  0                1                 0               0   \n",
              "\n",
              "   poutcome_success  poutcome_unknown   y  \n",
              "0                 0                 1  no  \n",
              "1                 0                 0  no  \n",
              "2                 0                 0  no  \n",
              "3                 0                 1  no  \n",
              "4                 0                 1  no  \n",
              "\n",
              "[5 rows x 23 columns]"
            ],
            "text/html": [
              "<div>\n",
              "<style scoped>\n",
              "    .dataframe tbody tr th:only-of-type {\n",
              "        vertical-align: middle;\n",
              "    }\n",
              "\n",
              "    .dataframe tbody tr th {\n",
              "        vertical-align: top;\n",
              "    }\n",
              "\n",
              "    .dataframe thead th {\n",
              "        text-align: right;\n",
              "    }\n",
              "</style>\n",
              "<table border=\"1\" class=\"dataframe\">\n",
              "  <thead>\n",
              "    <tr style=\"text-align: right;\">\n",
              "      <th></th>\n",
              "      <th>duration</th>\n",
              "      <th>pdays</th>\n",
              "      <th>month_apr</th>\n",
              "      <th>month_aug</th>\n",
              "      <th>month_dec</th>\n",
              "      <th>month_feb</th>\n",
              "      <th>month_jan</th>\n",
              "      <th>month_jul</th>\n",
              "      <th>month_jun</th>\n",
              "      <th>month_mar</th>\n",
              "      <th>...</th>\n",
              "      <th>month_sep</th>\n",
              "      <th>age</th>\n",
              "      <th>contact_cellular</th>\n",
              "      <th>contact_telephone</th>\n",
              "      <th>contact_unknown</th>\n",
              "      <th>poutcome_failure</th>\n",
              "      <th>poutcome_other</th>\n",
              "      <th>poutcome_success</th>\n",
              "      <th>poutcome_unknown</th>\n",
              "      <th>y</th>\n",
              "    </tr>\n",
              "  </thead>\n",
              "  <tbody>\n",
              "    <tr>\n",
              "      <th>0</th>\n",
              "      <td>79</td>\n",
              "      <td>0</td>\n",
              "      <td>0</td>\n",
              "      <td>0</td>\n",
              "      <td>0</td>\n",
              "      <td>0</td>\n",
              "      <td>0</td>\n",
              "      <td>0</td>\n",
              "      <td>0</td>\n",
              "      <td>0</td>\n",
              "      <td>...</td>\n",
              "      <td>0</td>\n",
              "      <td>30</td>\n",
              "      <td>1</td>\n",
              "      <td>0</td>\n",
              "      <td>0</td>\n",
              "      <td>0</td>\n",
              "      <td>0</td>\n",
              "      <td>0</td>\n",
              "      <td>1</td>\n",
              "      <td>no</td>\n",
              "    </tr>\n",
              "    <tr>\n",
              "      <th>1</th>\n",
              "      <td>220</td>\n",
              "      <td>339</td>\n",
              "      <td>0</td>\n",
              "      <td>0</td>\n",
              "      <td>0</td>\n",
              "      <td>0</td>\n",
              "      <td>0</td>\n",
              "      <td>0</td>\n",
              "      <td>0</td>\n",
              "      <td>0</td>\n",
              "      <td>...</td>\n",
              "      <td>0</td>\n",
              "      <td>33</td>\n",
              "      <td>1</td>\n",
              "      <td>0</td>\n",
              "      <td>0</td>\n",
              "      <td>1</td>\n",
              "      <td>0</td>\n",
              "      <td>0</td>\n",
              "      <td>0</td>\n",
              "      <td>no</td>\n",
              "    </tr>\n",
              "    <tr>\n",
              "      <th>2</th>\n",
              "      <td>185</td>\n",
              "      <td>330</td>\n",
              "      <td>1</td>\n",
              "      <td>0</td>\n",
              "      <td>0</td>\n",
              "      <td>0</td>\n",
              "      <td>0</td>\n",
              "      <td>0</td>\n",
              "      <td>0</td>\n",
              "      <td>0</td>\n",
              "      <td>...</td>\n",
              "      <td>0</td>\n",
              "      <td>35</td>\n",
              "      <td>1</td>\n",
              "      <td>0</td>\n",
              "      <td>0</td>\n",
              "      <td>1</td>\n",
              "      <td>0</td>\n",
              "      <td>0</td>\n",
              "      <td>0</td>\n",
              "      <td>no</td>\n",
              "    </tr>\n",
              "    <tr>\n",
              "      <th>3</th>\n",
              "      <td>199</td>\n",
              "      <td>0</td>\n",
              "      <td>0</td>\n",
              "      <td>0</td>\n",
              "      <td>0</td>\n",
              "      <td>0</td>\n",
              "      <td>0</td>\n",
              "      <td>0</td>\n",
              "      <td>1</td>\n",
              "      <td>0</td>\n",
              "      <td>...</td>\n",
              "      <td>0</td>\n",
              "      <td>30</td>\n",
              "      <td>0</td>\n",
              "      <td>0</td>\n",
              "      <td>1</td>\n",
              "      <td>0</td>\n",
              "      <td>0</td>\n",
              "      <td>0</td>\n",
              "      <td>1</td>\n",
              "      <td>no</td>\n",
              "    </tr>\n",
              "    <tr>\n",
              "      <th>4</th>\n",
              "      <td>226</td>\n",
              "      <td>0</td>\n",
              "      <td>0</td>\n",
              "      <td>0</td>\n",
              "      <td>0</td>\n",
              "      <td>0</td>\n",
              "      <td>0</td>\n",
              "      <td>0</td>\n",
              "      <td>0</td>\n",
              "      <td>0</td>\n",
              "      <td>...</td>\n",
              "      <td>0</td>\n",
              "      <td>59</td>\n",
              "      <td>0</td>\n",
              "      <td>0</td>\n",
              "      <td>1</td>\n",
              "      <td>0</td>\n",
              "      <td>0</td>\n",
              "      <td>0</td>\n",
              "      <td>1</td>\n",
              "      <td>no</td>\n",
              "    </tr>\n",
              "  </tbody>\n",
              "</table>\n",
              "<p>5 rows × 23 columns</p>\n",
              "</div>"
            ]
          },
          "metadata": {},
          "execution_count": 292
        }
      ],
      "metadata": {
        "colab": {
          "base_uri": "https://localhost:8080/",
          "height": 224
        },
        "id": "YsXzrXO8SshA",
        "outputId": "a742b9cc-ac67-4144-d466-7ba45bbd1adc"
      }
    },
    {
      "cell_type": "markdown",
      "source": [
        "We created a new dataset with the selected variables. Keep in mind that I chose the top 5 variable, but this includes all dummy variables that belong to it. For example, if contact_cellular was in the top 5, then contact_telephone will also be included since in reality it is part of the same variable. It wouldn't make sense to me to break it since it initially was together in the same column."
      ],
      "metadata": {}
    },
    {
      "cell_type": "markdown",
      "source": [
        "## Predictive Modeling (Naive Bayes Selective Model):"
      ],
      "metadata": {}
    },
    {
      "cell_type": "code",
      "execution_count": 293,
      "source": [
        "#Repeat the train test set split\n",
        "from sklearn.model_selection import train_test_split\n",
        "#class_col_name=\"Creditability\"\n",
        "# Uncomment following line for class name for bank dataset\n",
        "class_col_name=\"y\"\n",
        "# Uncomment following line for class name for Churn dataset\n",
        "#class_col_name=\"Churn\"\n",
        "one_hot_feature_names=new_df_onehot.columns[new_df_onehot.columns != class_col_name]\n",
        "# Split dataset into training set and test set\n",
        "X_train, X_test, y_train, y_test = train_test_split(new_df_onehot.loc[:, one_hot_feature_names], new_df_onehot[class_col_name], test_size=0.3,random_state=109) # 70% training and 30% test"
      ],
      "outputs": [],
      "metadata": {
        "id": "jejjOb3hXGBn"
      }
    },
    {
      "cell_type": "code",
      "execution_count": 294,
      "source": [
        "# Repeat Naive Bayes modeling\n",
        "from sklearn.naive_bayes import MultinomialNB\n",
        "\n",
        "#Create a MultiNomial NB Classifier\n",
        "nb = MultinomialNB()\n",
        "\n",
        "#Train the model using the training sets\n",
        "nb.fit(X_train, y_train)\n",
        "\n",
        "#Predict the response for test dataset\n",
        "y_pred = nb.predict(X_test)"
      ],
      "outputs": [],
      "metadata": {
        "colab": {
          "base_uri": "https://localhost:8080/"
        },
        "id": "D2efK_zKWnYW",
        "outputId": "eb0fcb7a-5357-4363-9c92-ff2ac0e59004"
      }
    },
    {
      "cell_type": "markdown",
      "source": [
        "Let's look at Naive Bayes output"
      ],
      "metadata": {
        "id": "iFWHF8P2Xmap"
      }
    },
    {
      "cell_type": "code",
      "execution_count": 295,
      "source": [
        "print(\"Number of features used \",nb.n_features_)\n",
        "print(\"Classes \",nb.classes_)\n",
        "print(\"Number of records for classes \",nb.class_count_)\n",
        "print(\"Log prior probability for classes \", nb.class_log_prior_)\n",
        "print(\"Log conditional probability for each feature given a class\\n\",nb.feature_log_prob_)"
      ],
      "outputs": [
        {
          "output_type": "stream",
          "name": "stdout",
          "text": [
            "Number of features used  22\n",
            "Classes  ['no' 'yes']\n",
            "Number of records for classes  [2812.  352.]\n",
            "Log prior probability for classes  [-0.11794108 -2.19596115]\n",
            "Log conditional probability for each feature given a class\n",
            " [[ -0.3007421   -2.14758664  -8.51076337  -7.72439806 -11.47259409\n",
            "   -8.84150493  -9.11594178  -7.52778126  -7.87680506 -10.62529623\n",
            "   -6.8411066   -8.12855512 -10.3739818  -10.72537969  -2.01601884\n",
            "   -6.21452018  -8.46033252  -6.86409611  -7.97608653  -8.9513198\n",
            "  -10.30252284  -5.89580359]\n",
            " [ -0.18269999  -2.30570088  -8.71591794  -8.42823587 -10.18225501\n",
            "   -9.04727507  -9.89457294  -8.5728171   -8.79596065  -9.74042226\n",
            "   -8.17478697  -9.16060376  -9.20142575  -9.81453023  -2.76821774\n",
            "   -6.74112492  -9.01218375  -8.5728171   -8.69060013  -9.04727507\n",
            "   -8.40918767  -6.91989407]]\n"
          ]
        }
      ],
      "metadata": {
        "id": "gAX89td0VKQb",
        "colab": {
          "base_uri": "https://localhost:8080/"
        },
        "outputId": "b162ca17-39ca-409f-d0bc-8baee52407e0"
      }
    },
    {
      "cell_type": "markdown",
      "source": [
        "We have probailities of a lot more features now.\n",
        "\n",
        "See evaluation metrics below."
      ],
      "metadata": {
        "id": "CE7UNs6eXfyQ"
      }
    },
    {
      "cell_type": "code",
      "execution_count": 296,
      "source": [
        "from sklearn.metrics import confusion_matrix\n",
        "cf=confusion_matrix(y_test, y_pred)\n",
        "print (\"Confusion Matrix\")\n",
        "print(cf)\n",
        "tn, fp, fn, tp=cf.ravel()\n",
        "print (\"TP: \", tp,\", FP: \", fp,\", TN: \", tn,\", FN:\", fn)"
      ],
      "outputs": [
        {
          "output_type": "stream",
          "name": "stdout",
          "text": [
            "Confusion Matrix\n",
            "[[930 258]\n",
            " [ 79  90]]\n",
            "TP:  90 , FP:  258 , TN:  930 , FN: 79\n"
          ]
        }
      ],
      "metadata": {
        "id": "n5ZF3i1wTRGr",
        "colab": {
          "base_uri": "https://localhost:8080/"
        },
        "outputId": "3a2aeb25-6d1c-48ca-8bce-ccb777e13295"
      }
    },
    {
      "cell_type": "markdown",
      "source": [
        "For the selective Naive Bayes model, we can see little improvement for predicting the True Positives. True Negatives are still predicted very well."
      ],
      "metadata": {}
    },
    {
      "cell_type": "code",
      "execution_count": 297,
      "source": [
        "from sklearn.metrics import classification_report\n",
        "from sklearn import metrics\n",
        "\n",
        "print(classification_report(y_test, y_pred))"
      ],
      "outputs": [
        {
          "output_type": "stream",
          "name": "stdout",
          "text": [
            "              precision    recall  f1-score   support\n",
            "\n",
            "          no       0.92      0.78      0.85      1188\n",
            "         yes       0.26      0.53      0.35       169\n",
            "\n",
            "    accuracy                           0.75      1357\n",
            "   macro avg       0.59      0.66      0.60      1357\n",
            "weighted avg       0.84      0.75      0.78      1357\n",
            "\n"
          ]
        }
      ],
      "metadata": {
        "id": "2HTPaN7lfLPO",
        "colab": {
          "base_uri": "https://localhost:8080/"
        },
        "outputId": "70ebbfea-0472-4c49-a49f-97a7a2ea176d"
      }
    },
    {
      "cell_type": "markdown",
      "source": [
        "When comparing the complete and selective model, we can see an increase of accuracy from 47% to 75%. Again, the model still struggles to accurately predict \"yes\" classes but has improved slightly."
      ],
      "metadata": {}
    },
    {
      "cell_type": "markdown",
      "source": [
        "## Predictive Modeling (Decision Tree Selective Model):"
      ],
      "metadata": {}
    },
    {
      "cell_type": "markdown",
      "source": [
        "**Let's run decision tree on one-hot encoded data**"
      ],
      "metadata": {
        "id": "8R4c8_iIpcrV"
      }
    },
    {
      "cell_type": "code",
      "execution_count": 298,
      "source": [
        "from sklearn import tree\n",
        "clf = tree.DecisionTreeClassifier(max_depth=5)\n",
        "clf = clf.fit(X_train, y_train)\n",
        "import graphviz\n",
        "#Get unique class values to display on the tree\n",
        "class_values=new_df_onehot[class_col_name].unique()\n",
        "print (\"class Names\",class_values)\n",
        "\n",
        "dot_data = tree.export_graphviz(clf, out_file=None, \n",
        "                                feature_names=new_one_hot_feature_names,  \n",
        "                                class_names=class_values,\n",
        "                                filled=True)\n",
        "\n",
        "# Draw graph\n",
        "graph = graphviz.Source(dot_data, format=\"png\") \n",
        "graph"
      ],
      "outputs": [
        {
          "output_type": "stream",
          "name": "stdout",
          "text": [
            "class Names ['no' 'yes']\n"
          ]
        },
        {
          "output_type": "execute_result",
          "data": {
            "text/plain": [
              "<graphviz.files.Source at 0x7f9a8325a610>"
            ],
            "image/svg+xml": "<?xml version=\"1.0\" encoding=\"UTF-8\" standalone=\"no\"?>\n<!DOCTYPE svg PUBLIC \"-//W3C//DTD SVG 1.1//EN\"\n \"http://www.w3.org/Graphics/SVG/1.1/DTD/svg11.dtd\">\n<!-- Generated by graphviz version 2.47.2 (20210527.0053)\n -->\n<!-- Title: Tree Pages: 1 -->\n<svg width=\"3228pt\" height=\"671pt\"\n viewBox=\"0.00 0.00 3227.50 671.00\" xmlns=\"http://www.w3.org/2000/svg\" xmlns:xlink=\"http://www.w3.org/1999/xlink\">\n<g id=\"graph0\" class=\"graph\" transform=\"scale(1 1) rotate(0) translate(4 667)\">\n<title>Tree</title>\n<polygon fill=\"white\" stroke=\"transparent\" points=\"-4,4 -4,-667 3223.5,-667 3223.5,4 -4,4\"/>\n<!-- 0 -->\n<g id=\"node1\" class=\"node\">\n<title>0</title>\n<polygon fill=\"#e89152\" stroke=\"black\" points=\"1670,-663 1545,-663 1545,-580 1670,-580 1670,-663\"/>\n<text text-anchor=\"middle\" x=\"1607.5\" y=\"-647.8\" font-family=\"Times,serif\" font-size=\"14.00\">duration &lt;= 628.5</text>\n<text text-anchor=\"middle\" x=\"1607.5\" y=\"-632.8\" font-family=\"Times,serif\" font-size=\"14.00\">gini = 0.198</text>\n<text text-anchor=\"middle\" x=\"1607.5\" y=\"-617.8\" font-family=\"Times,serif\" font-size=\"14.00\">samples = 3164</text>\n<text text-anchor=\"middle\" x=\"1607.5\" y=\"-602.8\" font-family=\"Times,serif\" font-size=\"14.00\">value = [2812, 352]</text>\n<text text-anchor=\"middle\" x=\"1607.5\" y=\"-587.8\" font-family=\"Times,serif\" font-size=\"14.00\">class = no</text>\n</g>\n<!-- 1 -->\n<g id=\"node2\" class=\"node\">\n<title>1</title>\n<polygon fill=\"#e78b49\" stroke=\"black\" points=\"1288,-544 1129,-544 1129,-461 1288,-461 1288,-544\"/>\n<text text-anchor=\"middle\" x=\"1208.5\" y=\"-528.8\" font-family=\"Times,serif\" font-size=\"14.00\">poutcome_success &lt;= 0.5</text>\n<text text-anchor=\"middle\" x=\"1208.5\" y=\"-513.8\" font-family=\"Times,serif\" font-size=\"14.00\">gini = 0.139</text>\n<text text-anchor=\"middle\" x=\"1208.5\" y=\"-498.8\" font-family=\"Times,serif\" font-size=\"14.00\">samples = 2890</text>\n<text text-anchor=\"middle\" x=\"1208.5\" y=\"-483.8\" font-family=\"Times,serif\" font-size=\"14.00\">value = [2673, 217]</text>\n<text text-anchor=\"middle\" x=\"1208.5\" y=\"-468.8\" font-family=\"Times,serif\" font-size=\"14.00\">class = no</text>\n</g>\n<!-- 0&#45;&gt;1 -->\n<g id=\"edge1\" class=\"edge\">\n<title>0&#45;&gt;1</title>\n<path fill=\"none\" stroke=\"black\" d=\"M1544.72,-602.09C1478.35,-582.63 1373.08,-551.76 1298.02,-529.75\"/>\n<polygon fill=\"black\" stroke=\"black\" points=\"1298.68,-526.3 1288.1,-526.84 1296.71,-533.01 1298.68,-526.3\"/>\n<text text-anchor=\"middle\" x=\"1300.09\" y=\"-545.08\" font-family=\"Times,serif\" font-size=\"14.00\">True</text>\n</g>\n<!-- 30 -->\n<g id=\"node31\" class=\"node\">\n<title>30</title>\n<polygon fill=\"#fefbf9\" stroke=\"black\" points=\"2166.5,-544 2022.5,-544 2022.5,-461 2166.5,-461 2166.5,-544\"/>\n<text text-anchor=\"middle\" x=\"2094.5\" y=\"-528.8\" font-family=\"Times,serif\" font-size=\"14.00\">contact_cellular &lt;= 0.5</text>\n<text text-anchor=\"middle\" x=\"2094.5\" y=\"-513.8\" font-family=\"Times,serif\" font-size=\"14.00\">gini = 0.5</text>\n<text text-anchor=\"middle\" x=\"2094.5\" y=\"-498.8\" font-family=\"Times,serif\" font-size=\"14.00\">samples = 274</text>\n<text text-anchor=\"middle\" x=\"2094.5\" y=\"-483.8\" font-family=\"Times,serif\" font-size=\"14.00\">value = [139, 135]</text>\n<text text-anchor=\"middle\" x=\"2094.5\" y=\"-468.8\" font-family=\"Times,serif\" font-size=\"14.00\">class = no</text>\n</g>\n<!-- 0&#45;&gt;30 -->\n<g id=\"edge30\" class=\"edge\">\n<title>0&#45;&gt;30</title>\n<path fill=\"none\" stroke=\"black\" d=\"M1670.17,-605.44C1757.47,-584.47 1915.82,-546.43 2012.44,-523.22\"/>\n<polygon fill=\"black\" stroke=\"black\" points=\"2013.26,-526.62 2022.17,-520.88 2011.63,-519.81 2013.26,-526.62\"/>\n<text text-anchor=\"middle\" x=\"2009.11\" y=\"-538.5\" font-family=\"Times,serif\" font-size=\"14.00\">False</text>\n</g>\n<!-- 2 -->\n<g id=\"node3\" class=\"node\">\n<title>2</title>\n<polygon fill=\"#e78946\" stroke=\"black\" points=\"791,-425 666,-425 666,-342 791,-342 791,-425\"/>\n<text text-anchor=\"middle\" x=\"728.5\" y=\"-409.8\" font-family=\"Times,serif\" font-size=\"14.00\">duration &lt;= 222.5</text>\n<text text-anchor=\"middle\" x=\"728.5\" y=\"-394.8\" font-family=\"Times,serif\" font-size=\"14.00\">gini = 0.114</text>\n<text text-anchor=\"middle\" x=\"728.5\" y=\"-379.8\" font-family=\"Times,serif\" font-size=\"14.00\">samples = 2821</text>\n<text text-anchor=\"middle\" x=\"728.5\" y=\"-364.8\" font-family=\"Times,serif\" font-size=\"14.00\">value = [2650, 171]</text>\n<text text-anchor=\"middle\" x=\"728.5\" y=\"-349.8\" font-family=\"Times,serif\" font-size=\"14.00\">class = no</text>\n</g>\n<!-- 1&#45;&gt;2 -->\n<g id=\"edge2\" class=\"edge\">\n<title>1&#45;&gt;2</title>\n<path fill=\"none\" stroke=\"black\" d=\"M1128.97,-482.11C1037.77,-459.88 889.51,-423.75 801.26,-402.23\"/>\n<polygon fill=\"black\" stroke=\"black\" points=\"801.87,-398.78 791.33,-399.81 800.21,-405.58 801.87,-398.78\"/>\n</g>\n<!-- 17 -->\n<g id=\"node18\" class=\"node\">\n<title>17</title>\n<polygon fill=\"#9ccef2\" stroke=\"black\" points=\"1266.5,-425 1150.5,-425 1150.5,-342 1266.5,-342 1266.5,-425\"/>\n<text text-anchor=\"middle\" x=\"1208.5\" y=\"-409.8\" font-family=\"Times,serif\" font-size=\"14.00\">duration &lt;= 174.5</text>\n<text text-anchor=\"middle\" x=\"1208.5\" y=\"-394.8\" font-family=\"Times,serif\" font-size=\"14.00\">gini = 0.444</text>\n<text text-anchor=\"middle\" x=\"1208.5\" y=\"-379.8\" font-family=\"Times,serif\" font-size=\"14.00\">samples = 69</text>\n<text text-anchor=\"middle\" x=\"1208.5\" y=\"-364.8\" font-family=\"Times,serif\" font-size=\"14.00\">value = [23, 46]</text>\n<text text-anchor=\"middle\" x=\"1208.5\" y=\"-349.8\" font-family=\"Times,serif\" font-size=\"14.00\">class = yes</text>\n</g>\n<!-- 1&#45;&gt;17 -->\n<g id=\"edge17\" class=\"edge\">\n<title>1&#45;&gt;17</title>\n<path fill=\"none\" stroke=\"black\" d=\"M1208.5,-460.91C1208.5,-452.65 1208.5,-443.86 1208.5,-435.3\"/>\n<polygon fill=\"black\" stroke=\"black\" points=\"1212,-435.02 1208.5,-425.02 1205,-435.02 1212,-435.02\"/>\n</g>\n<!-- 3 -->\n<g id=\"node4\" class=\"node\">\n<title>3</title>\n<polygon fill=\"#e6843e\" stroke=\"black\" points=\"429,-306 310,-306 310,-223 429,-223 429,-306\"/>\n<text text-anchor=\"middle\" x=\"369.5\" y=\"-290.8\" font-family=\"Times,serif\" font-size=\"14.00\">month_oct &lt;= 0.5</text>\n<text text-anchor=\"middle\" x=\"369.5\" y=\"-275.8\" font-family=\"Times,serif\" font-size=\"14.00\">gini = 0.046</text>\n<text text-anchor=\"middle\" x=\"369.5\" y=\"-260.8\" font-family=\"Times,serif\" font-size=\"14.00\">samples = 1841</text>\n<text text-anchor=\"middle\" x=\"369.5\" y=\"-245.8\" font-family=\"Times,serif\" font-size=\"14.00\">value = [1798, 43]</text>\n<text text-anchor=\"middle\" x=\"369.5\" y=\"-230.8\" font-family=\"Times,serif\" font-size=\"14.00\">class = no</text>\n</g>\n<!-- 2&#45;&gt;3 -->\n<g id=\"edge3\" class=\"edge\">\n<title>2&#45;&gt;3</title>\n<path fill=\"none\" stroke=\"black\" d=\"M665.97,-362.12C602.62,-341.48 504.86,-309.61 439.09,-288.18\"/>\n<polygon fill=\"black\" stroke=\"black\" points=\"439.82,-284.74 429.23,-284.97 437.65,-291.39 439.82,-284.74\"/>\n</g>\n<!-- 10 -->\n<g id=\"node11\" class=\"node\">\n<title>10</title>\n<polygon fill=\"#e99457\" stroke=\"black\" points=\"788,-306 669,-306 669,-223 788,-223 788,-306\"/>\n<text text-anchor=\"middle\" x=\"728.5\" y=\"-290.8\" font-family=\"Times,serif\" font-size=\"14.00\">pdays &lt;= 373.0</text>\n<text text-anchor=\"middle\" x=\"728.5\" y=\"-275.8\" font-family=\"Times,serif\" font-size=\"14.00\">gini = 0.227</text>\n<text text-anchor=\"middle\" x=\"728.5\" y=\"-260.8\" font-family=\"Times,serif\" font-size=\"14.00\">samples = 980</text>\n<text text-anchor=\"middle\" x=\"728.5\" y=\"-245.8\" font-family=\"Times,serif\" font-size=\"14.00\">value = [852, 128]</text>\n<text text-anchor=\"middle\" x=\"728.5\" y=\"-230.8\" font-family=\"Times,serif\" font-size=\"14.00\">class = no</text>\n</g>\n<!-- 2&#45;&gt;10 -->\n<g id=\"edge10\" class=\"edge\">\n<title>2&#45;&gt;10</title>\n<path fill=\"none\" stroke=\"black\" d=\"M728.5,-341.91C728.5,-333.65 728.5,-324.86 728.5,-316.3\"/>\n<polygon fill=\"black\" stroke=\"black\" points=\"732,-316.02 728.5,-306.02 725,-316.02 732,-316.02\"/>\n</g>\n<!-- 4 -->\n<g id=\"node5\" class=\"node\">\n<title>4</title>\n<polygon fill=\"#e6843d\" stroke=\"black\" points=\"247.5,-187 125.5,-187 125.5,-104 247.5,-104 247.5,-187\"/>\n<text text-anchor=\"middle\" x=\"186.5\" y=\"-171.8\" font-family=\"Times,serif\" font-size=\"14.00\">month_mar &lt;= 0.5</text>\n<text text-anchor=\"middle\" x=\"186.5\" y=\"-156.8\" font-family=\"Times,serif\" font-size=\"14.00\">gini = 0.041</text>\n<text text-anchor=\"middle\" x=\"186.5\" y=\"-141.8\" font-family=\"Times,serif\" font-size=\"14.00\">samples = 1821</text>\n<text text-anchor=\"middle\" x=\"186.5\" y=\"-126.8\" font-family=\"Times,serif\" font-size=\"14.00\">value = [1783, 38]</text>\n<text text-anchor=\"middle\" x=\"186.5\" y=\"-111.8\" font-family=\"Times,serif\" font-size=\"14.00\">class = no</text>\n</g>\n<!-- 3&#45;&gt;4 -->\n<g id=\"edge4\" class=\"edge\">\n<title>3&#45;&gt;4</title>\n<path fill=\"none\" stroke=\"black\" d=\"M309.83,-225.35C292.71,-214.41 273.89,-202.37 256.22,-191.08\"/>\n<polygon fill=\"black\" stroke=\"black\" points=\"257.97,-188.04 247.66,-185.6 254.2,-193.93 257.97,-188.04\"/>\n</g>\n<!-- 7 -->\n<g id=\"node8\" class=\"node\">\n<title>7</title>\n<polygon fill=\"#eeab7b\" stroke=\"black\" points=\"427.5,-187 311.5,-187 311.5,-104 427.5,-104 427.5,-187\"/>\n<text text-anchor=\"middle\" x=\"369.5\" y=\"-171.8\" font-family=\"Times,serif\" font-size=\"14.00\">duration &lt;= 146.0</text>\n<text text-anchor=\"middle\" x=\"369.5\" y=\"-156.8\" font-family=\"Times,serif\" font-size=\"14.00\">gini = 0.375</text>\n<text text-anchor=\"middle\" x=\"369.5\" y=\"-141.8\" font-family=\"Times,serif\" font-size=\"14.00\">samples = 20</text>\n<text text-anchor=\"middle\" x=\"369.5\" y=\"-126.8\" font-family=\"Times,serif\" font-size=\"14.00\">value = [15, 5]</text>\n<text text-anchor=\"middle\" x=\"369.5\" y=\"-111.8\" font-family=\"Times,serif\" font-size=\"14.00\">class = no</text>\n</g>\n<!-- 3&#45;&gt;7 -->\n<g id=\"edge7\" class=\"edge\">\n<title>3&#45;&gt;7</title>\n<path fill=\"none\" stroke=\"black\" d=\"M369.5,-222.91C369.5,-214.65 369.5,-205.86 369.5,-197.3\"/>\n<polygon fill=\"black\" stroke=\"black\" points=\"373,-197.02 369.5,-187.02 366,-197.02 373,-197.02\"/>\n</g>\n<!-- 5 -->\n<g id=\"node6\" class=\"node\">\n<title>5</title>\n<polygon fill=\"#e5833d\" stroke=\"black\" points=\"119,-68 0,-68 0,0 119,0 119,-68\"/>\n<text text-anchor=\"middle\" x=\"59.5\" y=\"-52.8\" font-family=\"Times,serif\" font-size=\"14.00\">gini = 0.036</text>\n<text text-anchor=\"middle\" x=\"59.5\" y=\"-37.8\" font-family=\"Times,serif\" font-size=\"14.00\">samples = 1800</text>\n<text text-anchor=\"middle\" x=\"59.5\" y=\"-22.8\" font-family=\"Times,serif\" font-size=\"14.00\">value = [1767, 33]</text>\n<text text-anchor=\"middle\" x=\"59.5\" y=\"-7.8\" font-family=\"Times,serif\" font-size=\"14.00\">class = no</text>\n</g>\n<!-- 4&#45;&gt;5 -->\n<g id=\"edge5\" class=\"edge\">\n<title>4&#45;&gt;5</title>\n<path fill=\"none\" stroke=\"black\" d=\"M139.21,-103.73C128.31,-94.33 116.74,-84.35 105.88,-74.99\"/>\n<polygon fill=\"black\" stroke=\"black\" points=\"107.98,-72.18 98.12,-68.3 103.41,-77.48 107.98,-72.18\"/>\n</g>\n<!-- 6 -->\n<g id=\"node7\" class=\"node\">\n<title>6</title>\n<polygon fill=\"#eda877\" stroke=\"black\" points=\"235.5,-68 137.5,-68 137.5,0 235.5,0 235.5,-68\"/>\n<text text-anchor=\"middle\" x=\"186.5\" y=\"-52.8\" font-family=\"Times,serif\" font-size=\"14.00\">gini = 0.363</text>\n<text text-anchor=\"middle\" x=\"186.5\" y=\"-37.8\" font-family=\"Times,serif\" font-size=\"14.00\">samples = 21</text>\n<text text-anchor=\"middle\" x=\"186.5\" y=\"-22.8\" font-family=\"Times,serif\" font-size=\"14.00\">value = [16, 5]</text>\n<text text-anchor=\"middle\" x=\"186.5\" y=\"-7.8\" font-family=\"Times,serif\" font-size=\"14.00\">class = no</text>\n</g>\n<!-- 4&#45;&gt;6 -->\n<g id=\"edge6\" class=\"edge\">\n<title>4&#45;&gt;6</title>\n<path fill=\"none\" stroke=\"black\" d=\"M186.5,-103.73C186.5,-95.52 186.5,-86.86 186.5,-78.56\"/>\n<polygon fill=\"black\" stroke=\"black\" points=\"190,-78.3 186.5,-68.3 183,-78.3 190,-78.3\"/>\n</g>\n<!-- 8 -->\n<g id=\"node9\" class=\"node\">\n<title>8</title>\n<polygon fill=\"#e58139\" stroke=\"black\" points=\"351.5,-68 253.5,-68 253.5,0 351.5,0 351.5,-68\"/>\n<text text-anchor=\"middle\" x=\"302.5\" y=\"-52.8\" font-family=\"Times,serif\" font-size=\"14.00\">gini = 0.0</text>\n<text text-anchor=\"middle\" x=\"302.5\" y=\"-37.8\" font-family=\"Times,serif\" font-size=\"14.00\">samples = 13</text>\n<text text-anchor=\"middle\" x=\"302.5\" y=\"-22.8\" font-family=\"Times,serif\" font-size=\"14.00\">value = [13, 0]</text>\n<text text-anchor=\"middle\" x=\"302.5\" y=\"-7.8\" font-family=\"Times,serif\" font-size=\"14.00\">class = no</text>\n</g>\n<!-- 7&#45;&gt;8 -->\n<g id=\"edge8\" class=\"edge\">\n<title>7&#45;&gt;8</title>\n<path fill=\"none\" stroke=\"black\" d=\"M344.55,-103.73C339.19,-94.97 333.52,-85.7 328.14,-76.91\"/>\n<polygon fill=\"black\" stroke=\"black\" points=\"331.08,-75 322.88,-68.3 325.11,-78.66 331.08,-75\"/>\n</g>\n<!-- 9 -->\n<g id=\"node10\" class=\"node\">\n<title>9</title>\n<polygon fill=\"#88c4ef\" stroke=\"black\" points=\"461.5,-68 369.5,-68 369.5,0 461.5,0 461.5,-68\"/>\n<text text-anchor=\"middle\" x=\"415.5\" y=\"-52.8\" font-family=\"Times,serif\" font-size=\"14.00\">gini = 0.408</text>\n<text text-anchor=\"middle\" x=\"415.5\" y=\"-37.8\" font-family=\"Times,serif\" font-size=\"14.00\">samples = 7</text>\n<text text-anchor=\"middle\" x=\"415.5\" y=\"-22.8\" font-family=\"Times,serif\" font-size=\"14.00\">value = [2, 5]</text>\n<text text-anchor=\"middle\" x=\"415.5\" y=\"-7.8\" font-family=\"Times,serif\" font-size=\"14.00\">class = yes</text>\n</g>\n<!-- 7&#45;&gt;9 -->\n<g id=\"edge9\" class=\"edge\">\n<title>7&#45;&gt;9</title>\n<path fill=\"none\" stroke=\"black\" d=\"M386.63,-103.73C390.19,-95.24 393.96,-86.28 397.55,-77.73\"/>\n<polygon fill=\"black\" stroke=\"black\" points=\"400.86,-78.87 401.51,-68.3 394.41,-76.16 400.86,-78.87\"/>\n</g>\n<!-- 11 -->\n<g id=\"node12\" class=\"node\">\n<title>11</title>\n<polygon fill=\"#e99355\" stroke=\"black\" points=\"719,-187 600,-187 600,-104 719,-104 719,-187\"/>\n<text text-anchor=\"middle\" x=\"659.5\" y=\"-171.8\" font-family=\"Times,serif\" font-size=\"14.00\">age &lt;= 61.5</text>\n<text text-anchor=\"middle\" x=\"659.5\" y=\"-156.8\" font-family=\"Times,serif\" font-size=\"14.00\">gini = 0.215</text>\n<text text-anchor=\"middle\" x=\"659.5\" y=\"-141.8\" font-family=\"Times,serif\" font-size=\"14.00\">samples = 970</text>\n<text text-anchor=\"middle\" x=\"659.5\" y=\"-126.8\" font-family=\"Times,serif\" font-size=\"14.00\">value = [851, 119]</text>\n<text text-anchor=\"middle\" x=\"659.5\" y=\"-111.8\" font-family=\"Times,serif\" font-size=\"14.00\">class = no</text>\n</g>\n<!-- 10&#45;&gt;11 -->\n<g id=\"edge11\" class=\"edge\">\n<title>10&#45;&gt;11</title>\n<path fill=\"none\" stroke=\"black\" d=\"M704.56,-222.91C699.42,-214.2 693.94,-204.9 688.63,-195.89\"/>\n<polygon fill=\"black\" stroke=\"black\" points=\"691.49,-193.86 683.4,-187.02 685.46,-197.41 691.49,-193.86\"/>\n</g>\n<!-- 14 -->\n<g id=\"node15\" class=\"node\">\n<title>14</title>\n<polygon fill=\"#4fa8e8\" stroke=\"black\" points=\"857.5,-187 737.5,-187 737.5,-104 857.5,-104 857.5,-187\"/>\n<text text-anchor=\"middle\" x=\"797.5\" y=\"-171.8\" font-family=\"Times,serif\" font-size=\"14.00\">month_nov &lt;= 0.5</text>\n<text text-anchor=\"middle\" x=\"797.5\" y=\"-156.8\" font-family=\"Times,serif\" font-size=\"14.00\">gini = 0.18</text>\n<text text-anchor=\"middle\" x=\"797.5\" y=\"-141.8\" font-family=\"Times,serif\" font-size=\"14.00\">samples = 10</text>\n<text text-anchor=\"middle\" x=\"797.5\" y=\"-126.8\" font-family=\"Times,serif\" font-size=\"14.00\">value = [1, 9]</text>\n<text text-anchor=\"middle\" x=\"797.5\" y=\"-111.8\" font-family=\"Times,serif\" font-size=\"14.00\">class = yes</text>\n</g>\n<!-- 10&#45;&gt;14 -->\n<g id=\"edge14\" class=\"edge\">\n<title>10&#45;&gt;14</title>\n<path fill=\"none\" stroke=\"black\" d=\"M752.44,-222.91C757.58,-214.2 763.06,-204.9 768.37,-195.89\"/>\n<polygon fill=\"black\" stroke=\"black\" points=\"771.54,-197.41 773.6,-187.02 765.51,-193.86 771.54,-197.41\"/>\n</g>\n<!-- 12 -->\n<g id=\"node13\" class=\"node\">\n<title>12</title>\n<polygon fill=\"#e89152\" stroke=\"black\" points=\"599,-68 480,-68 480,0 599,0 599,-68\"/>\n<text text-anchor=\"middle\" x=\"539.5\" y=\"-52.8\" font-family=\"Times,serif\" font-size=\"14.00\">gini = 0.2</text>\n<text text-anchor=\"middle\" x=\"539.5\" y=\"-37.8\" font-family=\"Times,serif\" font-size=\"14.00\">samples = 943</text>\n<text text-anchor=\"middle\" x=\"539.5\" y=\"-22.8\" font-family=\"Times,serif\" font-size=\"14.00\">value = [837, 106]</text>\n<text text-anchor=\"middle\" x=\"539.5\" y=\"-7.8\" font-family=\"Times,serif\" font-size=\"14.00\">class = no</text>\n</g>\n<!-- 11&#45;&gt;12 -->\n<g id=\"edge12\" class=\"edge\">\n<title>11&#45;&gt;12</title>\n<path fill=\"none\" stroke=\"black\" d=\"M614.82,-103.73C604.62,-94.42 593.79,-84.54 583.62,-75.26\"/>\n<polygon fill=\"black\" stroke=\"black\" points=\"585.74,-72.45 575.99,-68.3 581.02,-77.63 585.74,-72.45\"/>\n</g>\n<!-- 13 -->\n<g id=\"node14\" class=\"node\">\n<title>13</title>\n<polygon fill=\"#fdf6f1\" stroke=\"black\" points=\"722,-68 617,-68 617,0 722,0 722,-68\"/>\n<text text-anchor=\"middle\" x=\"669.5\" y=\"-52.8\" font-family=\"Times,serif\" font-size=\"14.00\">gini = 0.499</text>\n<text text-anchor=\"middle\" x=\"669.5\" y=\"-37.8\" font-family=\"Times,serif\" font-size=\"14.00\">samples = 27</text>\n<text text-anchor=\"middle\" x=\"669.5\" y=\"-22.8\" font-family=\"Times,serif\" font-size=\"14.00\">value = [14, 13]</text>\n<text text-anchor=\"middle\" x=\"669.5\" y=\"-7.8\" font-family=\"Times,serif\" font-size=\"14.00\">class = no</text>\n</g>\n<!-- 11&#45;&gt;13 -->\n<g id=\"edge13\" class=\"edge\">\n<title>11&#45;&gt;13</title>\n<path fill=\"none\" stroke=\"black\" d=\"M663.22,-103.73C663.98,-95.43 664.78,-86.67 665.55,-78.28\"/>\n<polygon fill=\"black\" stroke=\"black\" points=\"669.03,-78.58 666.46,-68.3 662.06,-77.94 669.03,-78.58\"/>\n</g>\n<!-- 15 -->\n<g id=\"node16\" class=\"node\">\n<title>15</title>\n<polygon fill=\"#399de5\" stroke=\"black\" points=\"832.5,-68 740.5,-68 740.5,0 832.5,0 832.5,-68\"/>\n<text text-anchor=\"middle\" x=\"786.5\" y=\"-52.8\" font-family=\"Times,serif\" font-size=\"14.00\">gini = 0.0</text>\n<text text-anchor=\"middle\" x=\"786.5\" y=\"-37.8\" font-family=\"Times,serif\" font-size=\"14.00\">samples = 9</text>\n<text text-anchor=\"middle\" x=\"786.5\" y=\"-22.8\" font-family=\"Times,serif\" font-size=\"14.00\">value = [0, 9]</text>\n<text text-anchor=\"middle\" x=\"786.5\" y=\"-7.8\" font-family=\"Times,serif\" font-size=\"14.00\">class = yes</text>\n</g>\n<!-- 14&#45;&gt;15 -->\n<g id=\"edge15\" class=\"edge\">\n<title>14&#45;&gt;15</title>\n<path fill=\"none\" stroke=\"black\" d=\"M793.4,-103.73C792.57,-95.43 791.69,-86.67 790.85,-78.28\"/>\n<polygon fill=\"black\" stroke=\"black\" points=\"794.33,-77.9 789.85,-68.3 787.36,-78.6 794.33,-77.9\"/>\n</g>\n<!-- 16 -->\n<g id=\"node17\" class=\"node\">\n<title>16</title>\n<polygon fill=\"#e58139\" stroke=\"black\" points=\"942.5,-68 850.5,-68 850.5,0 942.5,0 942.5,-68\"/>\n<text text-anchor=\"middle\" x=\"896.5\" y=\"-52.8\" font-family=\"Times,serif\" font-size=\"14.00\">gini = 0.0</text>\n<text text-anchor=\"middle\" x=\"896.5\" y=\"-37.8\" font-family=\"Times,serif\" font-size=\"14.00\">samples = 1</text>\n<text text-anchor=\"middle\" x=\"896.5\" y=\"-22.8\" font-family=\"Times,serif\" font-size=\"14.00\">value = [1, 0]</text>\n<text text-anchor=\"middle\" x=\"896.5\" y=\"-7.8\" font-family=\"Times,serif\" font-size=\"14.00\">class = no</text>\n</g>\n<!-- 14&#45;&gt;16 -->\n<g id=\"edge16\" class=\"edge\">\n<title>14&#45;&gt;16</title>\n<path fill=\"none\" stroke=\"black\" d=\"M834.36,-103.73C842.61,-94.61 851.36,-84.93 859.61,-75.81\"/>\n<polygon fill=\"black\" stroke=\"black\" points=\"862.28,-78.06 866.39,-68.3 857.09,-73.37 862.28,-78.06\"/>\n</g>\n<!-- 18 -->\n<g id=\"node19\" class=\"node\">\n<title>18</title>\n<polygon fill=\"#f1ba93\" stroke=\"black\" points=\"1171.5,-306 1073.5,-306 1073.5,-223 1171.5,-223 1171.5,-306\"/>\n<text text-anchor=\"middle\" x=\"1122.5\" y=\"-290.8\" font-family=\"Times,serif\" font-size=\"14.00\">pdays &lt;= 93.0</text>\n<text text-anchor=\"middle\" x=\"1122.5\" y=\"-275.8\" font-family=\"Times,serif\" font-size=\"14.00\">gini = 0.43</text>\n<text text-anchor=\"middle\" x=\"1122.5\" y=\"-260.8\" font-family=\"Times,serif\" font-size=\"14.00\">samples = 16</text>\n<text text-anchor=\"middle\" x=\"1122.5\" y=\"-245.8\" font-family=\"Times,serif\" font-size=\"14.00\">value = [11, 5]</text>\n<text text-anchor=\"middle\" x=\"1122.5\" y=\"-230.8\" font-family=\"Times,serif\" font-size=\"14.00\">class = no</text>\n</g>\n<!-- 17&#45;&gt;18 -->\n<g id=\"edge18\" class=\"edge\">\n<title>17&#45;&gt;18</title>\n<path fill=\"none\" stroke=\"black\" d=\"M1178.66,-341.91C1172.13,-333.01 1165.14,-323.51 1158.39,-314.33\"/>\n<polygon fill=\"black\" stroke=\"black\" points=\"1161.03,-312.01 1152.28,-306.02 1155.39,-316.15 1161.03,-312.01\"/>\n</g>\n<!-- 23 -->\n<g id=\"node24\" class=\"node\">\n<title>23</title>\n<polygon fill=\"#73baed\" stroke=\"black\" points=\"1347,-306 1242,-306 1242,-223 1347,-223 1347,-306\"/>\n<text text-anchor=\"middle\" x=\"1294.5\" y=\"-290.8\" font-family=\"Times,serif\" font-size=\"14.00\">pdays &lt;= 263.5</text>\n<text text-anchor=\"middle\" x=\"1294.5\" y=\"-275.8\" font-family=\"Times,serif\" font-size=\"14.00\">gini = 0.35</text>\n<text text-anchor=\"middle\" x=\"1294.5\" y=\"-260.8\" font-family=\"Times,serif\" font-size=\"14.00\">samples = 53</text>\n<text text-anchor=\"middle\" x=\"1294.5\" y=\"-245.8\" font-family=\"Times,serif\" font-size=\"14.00\">value = [12, 41]</text>\n<text text-anchor=\"middle\" x=\"1294.5\" y=\"-230.8\" font-family=\"Times,serif\" font-size=\"14.00\">class = yes</text>\n</g>\n<!-- 17&#45;&gt;23 -->\n<g id=\"edge23\" class=\"edge\">\n<title>17&#45;&gt;23</title>\n<path fill=\"none\" stroke=\"black\" d=\"M1238.34,-341.91C1244.87,-333.01 1251.86,-323.51 1258.61,-314.33\"/>\n<polygon fill=\"black\" stroke=\"black\" points=\"1261.61,-316.15 1264.72,-306.02 1255.97,-312.01 1261.61,-316.15\"/>\n</g>\n<!-- 19 -->\n<g id=\"node20\" class=\"node\">\n<title>19</title>\n<polygon fill=\"#399de5\" stroke=\"black\" points=\"1055.5,-179.5 963.5,-179.5 963.5,-111.5 1055.5,-111.5 1055.5,-179.5\"/>\n<text text-anchor=\"middle\" x=\"1009.5\" y=\"-164.3\" font-family=\"Times,serif\" font-size=\"14.00\">gini = 0.0</text>\n<text text-anchor=\"middle\" x=\"1009.5\" y=\"-149.3\" font-family=\"Times,serif\" font-size=\"14.00\">samples = 2</text>\n<text text-anchor=\"middle\" x=\"1009.5\" y=\"-134.3\" font-family=\"Times,serif\" font-size=\"14.00\">value = [0, 2]</text>\n<text text-anchor=\"middle\" x=\"1009.5\" y=\"-119.3\" font-family=\"Times,serif\" font-size=\"14.00\">class = yes</text>\n</g>\n<!-- 18&#45;&gt;19 -->\n<g id=\"edge19\" class=\"edge\">\n<title>18&#45;&gt;19</title>\n<path fill=\"none\" stroke=\"black\" d=\"M1083.3,-222.91C1072.11,-211.32 1059.91,-198.7 1048.72,-187.11\"/>\n<polygon fill=\"black\" stroke=\"black\" points=\"1051,-184.43 1041.53,-179.67 1045.96,-189.29 1051,-184.43\"/>\n</g>\n<!-- 20 -->\n<g id=\"node21\" class=\"node\">\n<title>20</title>\n<polygon fill=\"#eca36f\" stroke=\"black\" points=\"1171.5,-187 1073.5,-187 1073.5,-104 1171.5,-104 1171.5,-187\"/>\n<text text-anchor=\"middle\" x=\"1122.5\" y=\"-171.8\" font-family=\"Times,serif\" font-size=\"14.00\">age &lt;= 51.0</text>\n<text text-anchor=\"middle\" x=\"1122.5\" y=\"-156.8\" font-family=\"Times,serif\" font-size=\"14.00\">gini = 0.337</text>\n<text text-anchor=\"middle\" x=\"1122.5\" y=\"-141.8\" font-family=\"Times,serif\" font-size=\"14.00\">samples = 14</text>\n<text text-anchor=\"middle\" x=\"1122.5\" y=\"-126.8\" font-family=\"Times,serif\" font-size=\"14.00\">value = [11, 3]</text>\n<text text-anchor=\"middle\" x=\"1122.5\" y=\"-111.8\" font-family=\"Times,serif\" font-size=\"14.00\">class = no</text>\n</g>\n<!-- 18&#45;&gt;20 -->\n<g id=\"edge20\" class=\"edge\">\n<title>18&#45;&gt;20</title>\n<path fill=\"none\" stroke=\"black\" d=\"M1122.5,-222.91C1122.5,-214.65 1122.5,-205.86 1122.5,-197.3\"/>\n<polygon fill=\"black\" stroke=\"black\" points=\"1126,-197.02 1122.5,-187.02 1119,-197.02 1126,-197.02\"/>\n</g>\n<!-- 21 -->\n<g id=\"node22\" class=\"node\">\n<title>21</title>\n<polygon fill=\"#ea985d\" stroke=\"black\" points=\"1058.5,-68 960.5,-68 960.5,0 1058.5,0 1058.5,-68\"/>\n<text text-anchor=\"middle\" x=\"1009.5\" y=\"-52.8\" font-family=\"Times,serif\" font-size=\"14.00\">gini = 0.26</text>\n<text text-anchor=\"middle\" x=\"1009.5\" y=\"-37.8\" font-family=\"Times,serif\" font-size=\"14.00\">samples = 13</text>\n<text text-anchor=\"middle\" x=\"1009.5\" y=\"-22.8\" font-family=\"Times,serif\" font-size=\"14.00\">value = [11, 2]</text>\n<text text-anchor=\"middle\" x=\"1009.5\" y=\"-7.8\" font-family=\"Times,serif\" font-size=\"14.00\">class = no</text>\n</g>\n<!-- 20&#45;&gt;21 -->\n<g id=\"edge21\" class=\"edge\">\n<title>20&#45;&gt;21</title>\n<path fill=\"none\" stroke=\"black\" d=\"M1080.42,-103.73C1070.82,-94.42 1060.63,-84.54 1051.05,-75.26\"/>\n<polygon fill=\"black\" stroke=\"black\" points=\"1053.48,-72.75 1043.86,-68.3 1048.61,-77.77 1053.48,-72.75\"/>\n</g>\n<!-- 22 -->\n<g id=\"node23\" class=\"node\">\n<title>22</title>\n<polygon fill=\"#399de5\" stroke=\"black\" points=\"1168.5,-68 1076.5,-68 1076.5,0 1168.5,0 1168.5,-68\"/>\n<text text-anchor=\"middle\" x=\"1122.5\" y=\"-52.8\" font-family=\"Times,serif\" font-size=\"14.00\">gini = 0.0</text>\n<text text-anchor=\"middle\" x=\"1122.5\" y=\"-37.8\" font-family=\"Times,serif\" font-size=\"14.00\">samples = 1</text>\n<text text-anchor=\"middle\" x=\"1122.5\" y=\"-22.8\" font-family=\"Times,serif\" font-size=\"14.00\">value = [0, 1]</text>\n<text text-anchor=\"middle\" x=\"1122.5\" y=\"-7.8\" font-family=\"Times,serif\" font-size=\"14.00\">class = yes</text>\n</g>\n<!-- 20&#45;&gt;22 -->\n<g id=\"edge22\" class=\"edge\">\n<title>20&#45;&gt;22</title>\n<path fill=\"none\" stroke=\"black\" d=\"M1122.5,-103.73C1122.5,-95.52 1122.5,-86.86 1122.5,-78.56\"/>\n<polygon fill=\"black\" stroke=\"black\" points=\"1126,-78.3 1122.5,-68.3 1119,-78.3 1126,-78.3\"/>\n</g>\n<!-- 24 -->\n<g id=\"node25\" class=\"node\">\n<title>24</title>\n<polygon fill=\"#5dafea\" stroke=\"black\" points=\"1343.5,-187 1245.5,-187 1245.5,-104 1343.5,-104 1343.5,-187\"/>\n<text text-anchor=\"middle\" x=\"1294.5\" y=\"-171.8\" font-family=\"Times,serif\" font-size=\"14.00\">age &lt;= 62.5</text>\n<text text-anchor=\"middle\" x=\"1294.5\" y=\"-156.8\" font-family=\"Times,serif\" font-size=\"14.00\">gini = 0.258</text>\n<text text-anchor=\"middle\" x=\"1294.5\" y=\"-141.8\" font-family=\"Times,serif\" font-size=\"14.00\">samples = 46</text>\n<text text-anchor=\"middle\" x=\"1294.5\" y=\"-126.8\" font-family=\"Times,serif\" font-size=\"14.00\">value = [7, 39]</text>\n<text text-anchor=\"middle\" x=\"1294.5\" y=\"-111.8\" font-family=\"Times,serif\" font-size=\"14.00\">class = yes</text>\n</g>\n<!-- 23&#45;&gt;24 -->\n<g id=\"edge24\" class=\"edge\">\n<title>23&#45;&gt;24</title>\n<path fill=\"none\" stroke=\"black\" d=\"M1294.5,-222.91C1294.5,-214.65 1294.5,-205.86 1294.5,-197.3\"/>\n<polygon fill=\"black\" stroke=\"black\" points=\"1298,-197.02 1294.5,-187.02 1291,-197.02 1298,-197.02\"/>\n</g>\n<!-- 27 -->\n<g id=\"node28\" class=\"node\">\n<title>27</title>\n<polygon fill=\"#efb388\" stroke=\"black\" points=\"1504.5,-187 1412.5,-187 1412.5,-104 1504.5,-104 1504.5,-187\"/>\n<text text-anchor=\"middle\" x=\"1458.5\" y=\"-171.8\" font-family=\"Times,serif\" font-size=\"14.00\">age &lt;= 45.5</text>\n<text text-anchor=\"middle\" x=\"1458.5\" y=\"-156.8\" font-family=\"Times,serif\" font-size=\"14.00\">gini = 0.408</text>\n<text text-anchor=\"middle\" x=\"1458.5\" y=\"-141.8\" font-family=\"Times,serif\" font-size=\"14.00\">samples = 7</text>\n<text text-anchor=\"middle\" x=\"1458.5\" y=\"-126.8\" font-family=\"Times,serif\" font-size=\"14.00\">value = [5, 2]</text>\n<text text-anchor=\"middle\" x=\"1458.5\" y=\"-111.8\" font-family=\"Times,serif\" font-size=\"14.00\">class = no</text>\n</g>\n<!-- 23&#45;&gt;27 -->\n<g id=\"edge27\" class=\"edge\">\n<title>23&#45;&gt;27</title>\n<path fill=\"none\" stroke=\"black\" d=\"M1347.29,-225.84C1365.48,-212.86 1385.88,-198.31 1404.19,-185.25\"/>\n<polygon fill=\"black\" stroke=\"black\" points=\"1406.33,-188.02 1412.44,-179.36 1402.26,-182.32 1406.33,-188.02\"/>\n</g>\n<!-- 25 -->\n<g id=\"node26\" class=\"node\">\n<title>25</title>\n<polygon fill=\"#50a9e8\" stroke=\"black\" points=\"1284.5,-68 1186.5,-68 1186.5,0 1284.5,0 1284.5,-68\"/>\n<text text-anchor=\"middle\" x=\"1235.5\" y=\"-52.8\" font-family=\"Times,serif\" font-size=\"14.00\">gini = 0.188</text>\n<text text-anchor=\"middle\" x=\"1235.5\" y=\"-37.8\" font-family=\"Times,serif\" font-size=\"14.00\">samples = 38</text>\n<text text-anchor=\"middle\" x=\"1235.5\" y=\"-22.8\" font-family=\"Times,serif\" font-size=\"14.00\">value = [4, 34]</text>\n<text text-anchor=\"middle\" x=\"1235.5\" y=\"-7.8\" font-family=\"Times,serif\" font-size=\"14.00\">class = yes</text>\n</g>\n<!-- 24&#45;&gt;25 -->\n<g id=\"edge25\" class=\"edge\">\n<title>24&#45;&gt;25</title>\n<path fill=\"none\" stroke=\"black\" d=\"M1272.53,-103.73C1267.86,-95.06 1262.92,-85.9 1258.23,-77.18\"/>\n<polygon fill=\"black\" stroke=\"black\" points=\"1261.27,-75.44 1253.44,-68.3 1255.1,-78.76 1261.27,-75.44\"/>\n</g>\n<!-- 26 -->\n<g id=\"node27\" class=\"node\">\n<title>26</title>\n<polygon fill=\"#b0d8f5\" stroke=\"black\" points=\"1394.5,-68 1302.5,-68 1302.5,0 1394.5,0 1394.5,-68\"/>\n<text text-anchor=\"middle\" x=\"1348.5\" y=\"-52.8\" font-family=\"Times,serif\" font-size=\"14.00\">gini = 0.469</text>\n<text text-anchor=\"middle\" x=\"1348.5\" y=\"-37.8\" font-family=\"Times,serif\" font-size=\"14.00\">samples = 8</text>\n<text text-anchor=\"middle\" x=\"1348.5\" y=\"-22.8\" font-family=\"Times,serif\" font-size=\"14.00\">value = [3, 5]</text>\n<text text-anchor=\"middle\" x=\"1348.5\" y=\"-7.8\" font-family=\"Times,serif\" font-size=\"14.00\">class = yes</text>\n</g>\n<!-- 24&#45;&gt;26 -->\n<g id=\"edge26\" class=\"edge\">\n<title>24&#45;&gt;26</title>\n<path fill=\"none\" stroke=\"black\" d=\"M1314.61,-103.73C1318.84,-95.15 1323.31,-86.09 1327.56,-77.46\"/>\n<polygon fill=\"black\" stroke=\"black\" points=\"1330.79,-78.82 1332.08,-68.3 1324.52,-75.72 1330.79,-78.82\"/>\n</g>\n<!-- 28 -->\n<g id=\"node29\" class=\"node\">\n<title>28</title>\n<polygon fill=\"#e58139\" stroke=\"black\" points=\"1504.5,-68 1412.5,-68 1412.5,0 1504.5,0 1504.5,-68\"/>\n<text text-anchor=\"middle\" x=\"1458.5\" y=\"-52.8\" font-family=\"Times,serif\" font-size=\"14.00\">gini = 0.0</text>\n<text text-anchor=\"middle\" x=\"1458.5\" y=\"-37.8\" font-family=\"Times,serif\" font-size=\"14.00\">samples = 4</text>\n<text text-anchor=\"middle\" x=\"1458.5\" y=\"-22.8\" font-family=\"Times,serif\" font-size=\"14.00\">value = [4, 0]</text>\n<text text-anchor=\"middle\" x=\"1458.5\" y=\"-7.8\" font-family=\"Times,serif\" font-size=\"14.00\">class = no</text>\n</g>\n<!-- 27&#45;&gt;28 -->\n<g id=\"edge28\" class=\"edge\">\n<title>27&#45;&gt;28</title>\n<path fill=\"none\" stroke=\"black\" d=\"M1458.5,-103.73C1458.5,-95.52 1458.5,-86.86 1458.5,-78.56\"/>\n<polygon fill=\"black\" stroke=\"black\" points=\"1462,-78.3 1458.5,-68.3 1455,-78.3 1462,-78.3\"/>\n</g>\n<!-- 29 -->\n<g id=\"node30\" class=\"node\">\n<title>29</title>\n<polygon fill=\"#9ccef2\" stroke=\"black\" points=\"1614.5,-68 1522.5,-68 1522.5,0 1614.5,0 1614.5,-68\"/>\n<text text-anchor=\"middle\" x=\"1568.5\" y=\"-52.8\" font-family=\"Times,serif\" font-size=\"14.00\">gini = 0.444</text>\n<text text-anchor=\"middle\" x=\"1568.5\" y=\"-37.8\" font-family=\"Times,serif\" font-size=\"14.00\">samples = 3</text>\n<text text-anchor=\"middle\" x=\"1568.5\" y=\"-22.8\" font-family=\"Times,serif\" font-size=\"14.00\">value = [1, 2]</text>\n<text text-anchor=\"middle\" x=\"1568.5\" y=\"-7.8\" font-family=\"Times,serif\" font-size=\"14.00\">class = yes</text>\n</g>\n<!-- 27&#45;&gt;29 -->\n<g id=\"edge29\" class=\"edge\">\n<title>27&#45;&gt;29</title>\n<path fill=\"none\" stroke=\"black\" d=\"M1499.46,-103.73C1508.71,-94.51 1518.54,-84.74 1527.78,-75.53\"/>\n<polygon fill=\"black\" stroke=\"black\" points=\"1530.43,-77.84 1535.05,-68.3 1525.49,-72.87 1530.43,-77.84\"/>\n</g>\n<!-- 31 -->\n<g id=\"node32\" class=\"node\">\n<title>31</title>\n<polygon fill=\"#f5cfb4\" stroke=\"black\" points=\"2147,-425 2042,-425 2042,-342 2147,-342 2147,-425\"/>\n<text text-anchor=\"middle\" x=\"2094.5\" y=\"-409.8\" font-family=\"Times,serif\" font-size=\"14.00\">age &lt;= 42.5</text>\n<text text-anchor=\"middle\" x=\"2094.5\" y=\"-394.8\" font-family=\"Times,serif\" font-size=\"14.00\">gini = 0.473</text>\n<text text-anchor=\"middle\" x=\"2094.5\" y=\"-379.8\" font-family=\"Times,serif\" font-size=\"14.00\">samples = 94</text>\n<text text-anchor=\"middle\" x=\"2094.5\" y=\"-364.8\" font-family=\"Times,serif\" font-size=\"14.00\">value = [58, 36]</text>\n<text text-anchor=\"middle\" x=\"2094.5\" y=\"-349.8\" font-family=\"Times,serif\" font-size=\"14.00\">class = no</text>\n</g>\n<!-- 30&#45;&gt;31 -->\n<g id=\"edge31\" class=\"edge\">\n<title>30&#45;&gt;31</title>\n<path fill=\"none\" stroke=\"black\" d=\"M2094.5,-460.91C2094.5,-452.65 2094.5,-443.86 2094.5,-435.3\"/>\n<polygon fill=\"black\" stroke=\"black\" points=\"2098,-435.02 2094.5,-425.02 2091,-435.02 2098,-435.02\"/>\n</g>\n<!-- 46 -->\n<g id=\"node47\" class=\"node\">\n<title>46</title>\n<polygon fill=\"#dbedfa\" stroke=\"black\" points=\"2816.5,-425 2696.5,-425 2696.5,-342 2816.5,-342 2816.5,-425\"/>\n<text text-anchor=\"middle\" x=\"2756.5\" y=\"-409.8\" font-family=\"Times,serif\" font-size=\"14.00\">month_nov &lt;= 0.5</text>\n<text text-anchor=\"middle\" x=\"2756.5\" y=\"-394.8\" font-family=\"Times,serif\" font-size=\"14.00\">gini = 0.495</text>\n<text text-anchor=\"middle\" x=\"2756.5\" y=\"-379.8\" font-family=\"Times,serif\" font-size=\"14.00\">samples = 180</text>\n<text text-anchor=\"middle\" x=\"2756.5\" y=\"-364.8\" font-family=\"Times,serif\" font-size=\"14.00\">value = [81, 99]</text>\n<text text-anchor=\"middle\" x=\"2756.5\" y=\"-349.8\" font-family=\"Times,serif\" font-size=\"14.00\">class = yes</text>\n</g>\n<!-- 30&#45;&gt;46 -->\n<g id=\"edge46\" class=\"edge\">\n<title>30&#45;&gt;46</title>\n<path fill=\"none\" stroke=\"black\" d=\"M2166.61,-488.76C2294.5,-466.15 2559.51,-419.31 2686.15,-396.93\"/>\n<polygon fill=\"black\" stroke=\"black\" points=\"2686.89,-400.36 2696.13,-395.17 2685.67,-393.46 2686.89,-400.36\"/>\n</g>\n<!-- 32 -->\n<g id=\"node33\" class=\"node\">\n<title>32</title>\n<polygon fill=\"#eca16c\" stroke=\"black\" points=\"2029,-306 1906,-306 1906,-223 2029,-223 2029,-306\"/>\n<text text-anchor=\"middle\" x=\"1967.5\" y=\"-290.8\" font-family=\"Times,serif\" font-size=\"14.00\">duration &lt;= 1589.5</text>\n<text text-anchor=\"middle\" x=\"1967.5\" y=\"-275.8\" font-family=\"Times,serif\" font-size=\"14.00\">gini = 0.325</text>\n<text text-anchor=\"middle\" x=\"1967.5\" y=\"-260.8\" font-family=\"Times,serif\" font-size=\"14.00\">samples = 49</text>\n<text text-anchor=\"middle\" x=\"1967.5\" y=\"-245.8\" font-family=\"Times,serif\" font-size=\"14.00\">value = [39, 10]</text>\n<text text-anchor=\"middle\" x=\"1967.5\" y=\"-230.8\" font-family=\"Times,serif\" font-size=\"14.00\">class = no</text>\n</g>\n<!-- 31&#45;&gt;32 -->\n<g id=\"edge32\" class=\"edge\">\n<title>31&#45;&gt;32</title>\n<path fill=\"none\" stroke=\"black\" d=\"M2050.44,-341.91C2040.29,-332.56 2029.41,-322.54 2018.98,-312.93\"/>\n<polygon fill=\"black\" stroke=\"black\" points=\"2021.21,-310.22 2011.48,-306.02 2016.47,-315.37 2021.21,-310.22\"/>\n</g>\n<!-- 39 -->\n<g id=\"node40\" class=\"node\">\n<title>39</title>\n<polygon fill=\"#cae5f8\" stroke=\"black\" points=\"2227,-306 2122,-306 2122,-223 2227,-223 2227,-306\"/>\n<text text-anchor=\"middle\" x=\"2174.5\" y=\"-290.8\" font-family=\"Times,serif\" font-size=\"14.00\">age &lt;= 47.5</text>\n<text text-anchor=\"middle\" x=\"2174.5\" y=\"-275.8\" font-family=\"Times,serif\" font-size=\"14.00\">gini = 0.488</text>\n<text text-anchor=\"middle\" x=\"2174.5\" y=\"-260.8\" font-family=\"Times,serif\" font-size=\"14.00\">samples = 45</text>\n<text text-anchor=\"middle\" x=\"2174.5\" y=\"-245.8\" font-family=\"Times,serif\" font-size=\"14.00\">value = [19, 26]</text>\n<text text-anchor=\"middle\" x=\"2174.5\" y=\"-230.8\" font-family=\"Times,serif\" font-size=\"14.00\">class = yes</text>\n</g>\n<!-- 31&#45;&gt;39 -->\n<g id=\"edge39\" class=\"edge\">\n<title>31&#45;&gt;39</title>\n<path fill=\"none\" stroke=\"black\" d=\"M2122.26,-341.91C2128.34,-333.01 2134.84,-323.51 2141.11,-314.33\"/>\n<polygon fill=\"black\" stroke=\"black\" points=\"2144.04,-316.25 2146.79,-306.02 2138.26,-312.3 2144.04,-316.25\"/>\n</g>\n<!-- 33 -->\n<g id=\"node34\" class=\"node\">\n<title>33</title>\n<polygon fill=\"#ea995e\" stroke=\"black\" points=\"1840.5,-187 1742.5,-187 1742.5,-104 1840.5,-104 1840.5,-187\"/>\n<text text-anchor=\"middle\" x=\"1791.5\" y=\"-171.8\" font-family=\"Times,serif\" font-size=\"14.00\">age &lt;= 24.5</text>\n<text text-anchor=\"middle\" x=\"1791.5\" y=\"-156.8\" font-family=\"Times,serif\" font-size=\"14.00\">gini = 0.268</text>\n<text text-anchor=\"middle\" x=\"1791.5\" y=\"-141.8\" font-family=\"Times,serif\" font-size=\"14.00\">samples = 44</text>\n<text text-anchor=\"middle\" x=\"1791.5\" y=\"-126.8\" font-family=\"Times,serif\" font-size=\"14.00\">value = [37, 7]</text>\n<text text-anchor=\"middle\" x=\"1791.5\" y=\"-111.8\" font-family=\"Times,serif\" font-size=\"14.00\">class = no</text>\n</g>\n<!-- 32&#45;&gt;33 -->\n<g id=\"edge33\" class=\"edge\">\n<title>32&#45;&gt;33</title>\n<path fill=\"none\" stroke=\"black\" d=\"M1906.44,-222.91C1887.92,-210.6 1867.65,-197.12 1849.35,-184.96\"/>\n<polygon fill=\"black\" stroke=\"black\" points=\"1850.81,-181.72 1840.54,-179.1 1846.93,-187.55 1850.81,-181.72\"/>\n</g>\n<!-- 36 -->\n<g id=\"node37\" class=\"node\">\n<title>36</title>\n<polygon fill=\"#bddef6\" stroke=\"black\" points=\"2029,-187 1906,-187 1906,-104 2029,-104 2029,-187\"/>\n<text text-anchor=\"middle\" x=\"1967.5\" y=\"-171.8\" font-family=\"Times,serif\" font-size=\"14.00\">duration &lt;= 1701.0</text>\n<text text-anchor=\"middle\" x=\"1967.5\" y=\"-156.8\" font-family=\"Times,serif\" font-size=\"14.00\">gini = 0.48</text>\n<text text-anchor=\"middle\" x=\"1967.5\" y=\"-141.8\" font-family=\"Times,serif\" font-size=\"14.00\">samples = 5</text>\n<text text-anchor=\"middle\" x=\"1967.5\" y=\"-126.8\" font-family=\"Times,serif\" font-size=\"14.00\">value = [2, 3]</text>\n<text text-anchor=\"middle\" x=\"1967.5\" y=\"-111.8\" font-family=\"Times,serif\" font-size=\"14.00\">class = yes</text>\n</g>\n<!-- 32&#45;&gt;36 -->\n<g id=\"edge36\" class=\"edge\">\n<title>32&#45;&gt;36</title>\n<path fill=\"none\" stroke=\"black\" d=\"M1967.5,-222.91C1967.5,-214.65 1967.5,-205.86 1967.5,-197.3\"/>\n<polygon fill=\"black\" stroke=\"black\" points=\"1971,-197.02 1967.5,-187.02 1964,-197.02 1971,-197.02\"/>\n</g>\n<!-- 34 -->\n<g id=\"node35\" class=\"node\">\n<title>34</title>\n<polygon fill=\"#399de5\" stroke=\"black\" points=\"1724.5,-68 1632.5,-68 1632.5,0 1724.5,0 1724.5,-68\"/>\n<text text-anchor=\"middle\" x=\"1678.5\" y=\"-52.8\" font-family=\"Times,serif\" font-size=\"14.00\">gini = 0.0</text>\n<text text-anchor=\"middle\" x=\"1678.5\" y=\"-37.8\" font-family=\"Times,serif\" font-size=\"14.00\">samples = 1</text>\n<text text-anchor=\"middle\" x=\"1678.5\" y=\"-22.8\" font-family=\"Times,serif\" font-size=\"14.00\">value = [0, 1]</text>\n<text text-anchor=\"middle\" x=\"1678.5\" y=\"-7.8\" font-family=\"Times,serif\" font-size=\"14.00\">class = yes</text>\n</g>\n<!-- 33&#45;&gt;34 -->\n<g id=\"edge34\" class=\"edge\">\n<title>33&#45;&gt;34</title>\n<path fill=\"none\" stroke=\"black\" d=\"M1749.42,-103.73C1739.82,-94.42 1729.63,-84.54 1720.05,-75.26\"/>\n<polygon fill=\"black\" stroke=\"black\" points=\"1722.48,-72.75 1712.86,-68.3 1717.61,-77.77 1722.48,-72.75\"/>\n</g>\n<!-- 35 -->\n<g id=\"node36\" class=\"node\">\n<title>35</title>\n<polygon fill=\"#e99559\" stroke=\"black\" points=\"1840.5,-68 1742.5,-68 1742.5,0 1840.5,0 1840.5,-68\"/>\n<text text-anchor=\"middle\" x=\"1791.5\" y=\"-52.8\" font-family=\"Times,serif\" font-size=\"14.00\">gini = 0.24</text>\n<text text-anchor=\"middle\" x=\"1791.5\" y=\"-37.8\" font-family=\"Times,serif\" font-size=\"14.00\">samples = 43</text>\n<text text-anchor=\"middle\" x=\"1791.5\" y=\"-22.8\" font-family=\"Times,serif\" font-size=\"14.00\">value = [37, 6]</text>\n<text text-anchor=\"middle\" x=\"1791.5\" y=\"-7.8\" font-family=\"Times,serif\" font-size=\"14.00\">class = no</text>\n</g>\n<!-- 33&#45;&gt;35 -->\n<g id=\"edge35\" class=\"edge\">\n<title>33&#45;&gt;35</title>\n<path fill=\"none\" stroke=\"black\" d=\"M1791.5,-103.73C1791.5,-95.52 1791.5,-86.86 1791.5,-78.56\"/>\n<polygon fill=\"black\" stroke=\"black\" points=\"1795,-78.3 1791.5,-68.3 1788,-78.3 1795,-78.3\"/>\n</g>\n<!-- 37 -->\n<g id=\"node38\" class=\"node\">\n<title>37</title>\n<polygon fill=\"#399de5\" stroke=\"black\" points=\"1950.5,-68 1858.5,-68 1858.5,0 1950.5,0 1950.5,-68\"/>\n<text text-anchor=\"middle\" x=\"1904.5\" y=\"-52.8\" font-family=\"Times,serif\" font-size=\"14.00\">gini = 0.0</text>\n<text text-anchor=\"middle\" x=\"1904.5\" y=\"-37.8\" font-family=\"Times,serif\" font-size=\"14.00\">samples = 2</text>\n<text text-anchor=\"middle\" x=\"1904.5\" y=\"-22.8\" font-family=\"Times,serif\" font-size=\"14.00\">value = [0, 2]</text>\n<text text-anchor=\"middle\" x=\"1904.5\" y=\"-7.8\" font-family=\"Times,serif\" font-size=\"14.00\">class = yes</text>\n</g>\n<!-- 36&#45;&gt;37 -->\n<g id=\"edge37\" class=\"edge\">\n<title>36&#45;&gt;37</title>\n<path fill=\"none\" stroke=\"black\" d=\"M1944.04,-103.73C1939.06,-95.06 1933.78,-85.9 1928.77,-77.18\"/>\n<polygon fill=\"black\" stroke=\"black\" points=\"1931.68,-75.22 1923.66,-68.3 1925.61,-78.71 1931.68,-75.22\"/>\n</g>\n<!-- 38 -->\n<g id=\"node39\" class=\"node\">\n<title>38</title>\n<polygon fill=\"#f2c09c\" stroke=\"black\" points=\"2060.5,-68 1968.5,-68 1968.5,0 2060.5,0 2060.5,-68\"/>\n<text text-anchor=\"middle\" x=\"2014.5\" y=\"-52.8\" font-family=\"Times,serif\" font-size=\"14.00\">gini = 0.444</text>\n<text text-anchor=\"middle\" x=\"2014.5\" y=\"-37.8\" font-family=\"Times,serif\" font-size=\"14.00\">samples = 3</text>\n<text text-anchor=\"middle\" x=\"2014.5\" y=\"-22.8\" font-family=\"Times,serif\" font-size=\"14.00\">value = [2, 1]</text>\n<text text-anchor=\"middle\" x=\"2014.5\" y=\"-7.8\" font-family=\"Times,serif\" font-size=\"14.00\">class = no</text>\n</g>\n<!-- 36&#45;&gt;38 -->\n<g id=\"edge38\" class=\"edge\">\n<title>36&#45;&gt;38</title>\n<path fill=\"none\" stroke=\"black\" d=\"M1985,-103.73C1988.64,-95.24 1992.49,-86.28 1996.16,-77.73\"/>\n<polygon fill=\"black\" stroke=\"black\" points=\"1999.48,-78.87 2000.21,-68.3 1993.05,-76.11 1999.48,-78.87\"/>\n</g>\n<!-- 40 -->\n<g id=\"node41\" class=\"node\">\n<title>40</title>\n<polygon fill=\"#48a5e7\" stroke=\"black\" points=\"2232.5,-187 2116.5,-187 2116.5,-104 2232.5,-104 2232.5,-187\"/>\n<text text-anchor=\"middle\" x=\"2174.5\" y=\"-171.8\" font-family=\"Times,serif\" font-size=\"14.00\">duration &lt;= 742.5</text>\n<text text-anchor=\"middle\" x=\"2174.5\" y=\"-156.8\" font-family=\"Times,serif\" font-size=\"14.00\">gini = 0.133</text>\n<text text-anchor=\"middle\" x=\"2174.5\" y=\"-141.8\" font-family=\"Times,serif\" font-size=\"14.00\">samples = 14</text>\n<text text-anchor=\"middle\" x=\"2174.5\" y=\"-126.8\" font-family=\"Times,serif\" font-size=\"14.00\">value = [1, 13]</text>\n<text text-anchor=\"middle\" x=\"2174.5\" y=\"-111.8\" font-family=\"Times,serif\" font-size=\"14.00\">class = yes</text>\n</g>\n<!-- 39&#45;&gt;40 -->\n<g id=\"edge40\" class=\"edge\">\n<title>39&#45;&gt;40</title>\n<path fill=\"none\" stroke=\"black\" d=\"M2174.5,-222.91C2174.5,-214.65 2174.5,-205.86 2174.5,-197.3\"/>\n<polygon fill=\"black\" stroke=\"black\" points=\"2178,-197.02 2174.5,-187.02 2171,-197.02 2178,-197.02\"/>\n</g>\n<!-- 43 -->\n<g id=\"node44\" class=\"node\">\n<title>43</title>\n<polygon fill=\"#f8dcc8\" stroke=\"black\" points=\"2406,-187 2301,-187 2301,-104 2406,-104 2406,-187\"/>\n<text text-anchor=\"middle\" x=\"2353.5\" y=\"-171.8\" font-family=\"Times,serif\" font-size=\"14.00\">age &lt;= 51.5</text>\n<text text-anchor=\"middle\" x=\"2353.5\" y=\"-156.8\" font-family=\"Times,serif\" font-size=\"14.00\">gini = 0.487</text>\n<text text-anchor=\"middle\" x=\"2353.5\" y=\"-141.8\" font-family=\"Times,serif\" font-size=\"14.00\">samples = 31</text>\n<text text-anchor=\"middle\" x=\"2353.5\" y=\"-126.8\" font-family=\"Times,serif\" font-size=\"14.00\">value = [18, 13]</text>\n<text text-anchor=\"middle\" x=\"2353.5\" y=\"-111.8\" font-family=\"Times,serif\" font-size=\"14.00\">class = no</text>\n</g>\n<!-- 39&#45;&gt;43 -->\n<g id=\"edge43\" class=\"edge\">\n<title>39&#45;&gt;43</title>\n<path fill=\"none\" stroke=\"black\" d=\"M2227.24,-229.03C2247.63,-215.7 2271.11,-200.35 2292.24,-186.54\"/>\n<polygon fill=\"black\" stroke=\"black\" points=\"2294.37,-189.33 2300.83,-180.93 2290.54,-183.47 2294.37,-189.33\"/>\n</g>\n<!-- 41 -->\n<g id=\"node42\" class=\"node\">\n<title>41</title>\n<polygon fill=\"#9ccef2\" stroke=\"black\" points=\"2170.5,-68 2078.5,-68 2078.5,0 2170.5,0 2170.5,-68\"/>\n<text text-anchor=\"middle\" x=\"2124.5\" y=\"-52.8\" font-family=\"Times,serif\" font-size=\"14.00\">gini = 0.444</text>\n<text text-anchor=\"middle\" x=\"2124.5\" y=\"-37.8\" font-family=\"Times,serif\" font-size=\"14.00\">samples = 3</text>\n<text text-anchor=\"middle\" x=\"2124.5\" y=\"-22.8\" font-family=\"Times,serif\" font-size=\"14.00\">value = [1, 2]</text>\n<text text-anchor=\"middle\" x=\"2124.5\" y=\"-7.8\" font-family=\"Times,serif\" font-size=\"14.00\">class = yes</text>\n</g>\n<!-- 40&#45;&gt;41 -->\n<g id=\"edge41\" class=\"edge\">\n<title>40&#45;&gt;41</title>\n<path fill=\"none\" stroke=\"black\" d=\"M2155.88,-103.73C2151.97,-95.15 2147.83,-86.09 2143.89,-77.46\"/>\n<polygon fill=\"black\" stroke=\"black\" points=\"2147.04,-75.94 2139.71,-68.3 2140.68,-78.85 2147.04,-75.94\"/>\n</g>\n<!-- 42 -->\n<g id=\"node43\" class=\"node\">\n<title>42</title>\n<polygon fill=\"#399de5\" stroke=\"black\" points=\"2286.5,-68 2188.5,-68 2188.5,0 2286.5,0 2286.5,-68\"/>\n<text text-anchor=\"middle\" x=\"2237.5\" y=\"-52.8\" font-family=\"Times,serif\" font-size=\"14.00\">gini = 0.0</text>\n<text text-anchor=\"middle\" x=\"2237.5\" y=\"-37.8\" font-family=\"Times,serif\" font-size=\"14.00\">samples = 11</text>\n<text text-anchor=\"middle\" x=\"2237.5\" y=\"-22.8\" font-family=\"Times,serif\" font-size=\"14.00\">value = [0, 11]</text>\n<text text-anchor=\"middle\" x=\"2237.5\" y=\"-7.8\" font-family=\"Times,serif\" font-size=\"14.00\">class = yes</text>\n</g>\n<!-- 40&#45;&gt;42 -->\n<g id=\"edge42\" class=\"edge\">\n<title>40&#45;&gt;42</title>\n<path fill=\"none\" stroke=\"black\" d=\"M2197.96,-103.73C2202.94,-95.06 2208.22,-85.9 2213.23,-77.18\"/>\n<polygon fill=\"black\" stroke=\"black\" points=\"2216.39,-78.71 2218.34,-68.3 2210.32,-75.22 2216.39,-78.71\"/>\n</g>\n<!-- 44 -->\n<g id=\"node45\" class=\"node\">\n<title>44</title>\n<polygon fill=\"#e88e4d\" stroke=\"black\" points=\"2402.5,-68 2304.5,-68 2304.5,0 2402.5,0 2402.5,-68\"/>\n<text text-anchor=\"middle\" x=\"2353.5\" y=\"-52.8\" font-family=\"Times,serif\" font-size=\"14.00\">gini = 0.165</text>\n<text text-anchor=\"middle\" x=\"2353.5\" y=\"-37.8\" font-family=\"Times,serif\" font-size=\"14.00\">samples = 11</text>\n<text text-anchor=\"middle\" x=\"2353.5\" y=\"-22.8\" font-family=\"Times,serif\" font-size=\"14.00\">value = [10, 1]</text>\n<text text-anchor=\"middle\" x=\"2353.5\" y=\"-7.8\" font-family=\"Times,serif\" font-size=\"14.00\">class = no</text>\n</g>\n<!-- 43&#45;&gt;44 -->\n<g id=\"edge44\" class=\"edge\">\n<title>43&#45;&gt;44</title>\n<path fill=\"none\" stroke=\"black\" d=\"M2353.5,-103.73C2353.5,-95.52 2353.5,-86.86 2353.5,-78.56\"/>\n<polygon fill=\"black\" stroke=\"black\" points=\"2357,-78.3 2353.5,-68.3 2350,-78.3 2357,-78.3\"/>\n</g>\n<!-- 45 -->\n<g id=\"node46\" class=\"node\">\n<title>45</title>\n<polygon fill=\"#bddef6\" stroke=\"black\" points=\"2518.5,-68 2420.5,-68 2420.5,0 2518.5,0 2518.5,-68\"/>\n<text text-anchor=\"middle\" x=\"2469.5\" y=\"-52.8\" font-family=\"Times,serif\" font-size=\"14.00\">gini = 0.48</text>\n<text text-anchor=\"middle\" x=\"2469.5\" y=\"-37.8\" font-family=\"Times,serif\" font-size=\"14.00\">samples = 20</text>\n<text text-anchor=\"middle\" x=\"2469.5\" y=\"-22.8\" font-family=\"Times,serif\" font-size=\"14.00\">value = [8, 12]</text>\n<text text-anchor=\"middle\" x=\"2469.5\" y=\"-7.8\" font-family=\"Times,serif\" font-size=\"14.00\">class = yes</text>\n</g>\n<!-- 43&#45;&gt;45 -->\n<g id=\"edge45\" class=\"edge\">\n<title>43&#45;&gt;45</title>\n<path fill=\"none\" stroke=\"black\" d=\"M2396.69,-103.73C2406.55,-94.42 2417.02,-84.54 2426.85,-75.26\"/>\n<polygon fill=\"black\" stroke=\"black\" points=\"2429.35,-77.71 2434.22,-68.3 2424.55,-72.62 2429.35,-77.71\"/>\n</g>\n<!-- 47 -->\n<g id=\"node48\" class=\"node\">\n<title>47</title>\n<polygon fill=\"#c6e3f8\" stroke=\"black\" points=\"2814.5,-306 2698.5,-306 2698.5,-223 2814.5,-223 2814.5,-306\"/>\n<text text-anchor=\"middle\" x=\"2756.5\" y=\"-290.8\" font-family=\"Times,serif\" font-size=\"14.00\">month_jan &lt;= 0.5</text>\n<text text-anchor=\"middle\" x=\"2756.5\" y=\"-275.8\" font-family=\"Times,serif\" font-size=\"14.00\">gini = 0.486</text>\n<text text-anchor=\"middle\" x=\"2756.5\" y=\"-260.8\" font-family=\"Times,serif\" font-size=\"14.00\">samples = 161</text>\n<text text-anchor=\"middle\" x=\"2756.5\" y=\"-245.8\" font-family=\"Times,serif\" font-size=\"14.00\">value = [67, 94]</text>\n<text text-anchor=\"middle\" x=\"2756.5\" y=\"-230.8\" font-family=\"Times,serif\" font-size=\"14.00\">class = yes</text>\n</g>\n<!-- 46&#45;&gt;47 -->\n<g id=\"edge47\" class=\"edge\">\n<title>46&#45;&gt;47</title>\n<path fill=\"none\" stroke=\"black\" d=\"M2756.5,-341.91C2756.5,-333.65 2756.5,-324.86 2756.5,-316.3\"/>\n<polygon fill=\"black\" stroke=\"black\" points=\"2760,-316.02 2756.5,-306.02 2753,-316.02 2760,-316.02\"/>\n</g>\n<!-- 54 -->\n<g id=\"node55\" class=\"node\">\n<title>54</title>\n<polygon fill=\"#eeae80\" stroke=\"black\" points=\"3009.5,-306 2893.5,-306 2893.5,-223 3009.5,-223 3009.5,-306\"/>\n<text text-anchor=\"middle\" x=\"2951.5\" y=\"-290.8\" font-family=\"Times,serif\" font-size=\"14.00\">duration &lt;= 787.0</text>\n<text text-anchor=\"middle\" x=\"2951.5\" y=\"-275.8\" font-family=\"Times,serif\" font-size=\"14.00\">gini = 0.388</text>\n<text text-anchor=\"middle\" x=\"2951.5\" y=\"-260.8\" font-family=\"Times,serif\" font-size=\"14.00\">samples = 19</text>\n<text text-anchor=\"middle\" x=\"2951.5\" y=\"-245.8\" font-family=\"Times,serif\" font-size=\"14.00\">value = [14, 5]</text>\n<text text-anchor=\"middle\" x=\"2951.5\" y=\"-230.8\" font-family=\"Times,serif\" font-size=\"14.00\">class = no</text>\n</g>\n<!-- 46&#45;&gt;54 -->\n<g id=\"edge54\" class=\"edge\">\n<title>46&#45;&gt;54</title>\n<path fill=\"none\" stroke=\"black\" d=\"M2816.6,-346.44C2838.13,-333.52 2862.54,-318.88 2884.62,-305.63\"/>\n<polygon fill=\"black\" stroke=\"black\" points=\"2886.5,-308.58 2893.27,-300.44 2882.9,-302.58 2886.5,-308.58\"/>\n</g>\n<!-- 48 -->\n<g id=\"node49\" class=\"node\">\n<title>48</title>\n<polygon fill=\"#bddef6\" stroke=\"black\" points=\"2753.5,-187 2637.5,-187 2637.5,-104 2753.5,-104 2753.5,-187\"/>\n<text text-anchor=\"middle\" x=\"2695.5\" y=\"-171.8\" font-family=\"Times,serif\" font-size=\"14.00\">duration &lt;= 794.0</text>\n<text text-anchor=\"middle\" x=\"2695.5\" y=\"-156.8\" font-family=\"Times,serif\" font-size=\"14.00\">gini = 0.48</text>\n<text text-anchor=\"middle\" x=\"2695.5\" y=\"-141.8\" font-family=\"Times,serif\" font-size=\"14.00\">samples = 155</text>\n<text text-anchor=\"middle\" x=\"2695.5\" y=\"-126.8\" font-family=\"Times,serif\" font-size=\"14.00\">value = [62, 93]</text>\n<text text-anchor=\"middle\" x=\"2695.5\" y=\"-111.8\" font-family=\"Times,serif\" font-size=\"14.00\">class = yes</text>\n</g>\n<!-- 47&#45;&gt;48 -->\n<g id=\"edge48\" class=\"edge\">\n<title>47&#45;&gt;48</title>\n<path fill=\"none\" stroke=\"black\" d=\"M2735.34,-222.91C2730.79,-214.2 2725.95,-204.9 2721.25,-195.89\"/>\n<polygon fill=\"black\" stroke=\"black\" points=\"2724.35,-194.27 2716.63,-187.02 2718.15,-197.51 2724.35,-194.27\"/>\n</g>\n<!-- 51 -->\n<g id=\"node52\" class=\"node\">\n<title>51</title>\n<polygon fill=\"#ea9a61\" stroke=\"black\" points=\"2887.5,-187 2771.5,-187 2771.5,-104 2887.5,-104 2887.5,-187\"/>\n<text text-anchor=\"middle\" x=\"2829.5\" y=\"-171.8\" font-family=\"Times,serif\" font-size=\"14.00\">duration &lt;= 761.0</text>\n<text text-anchor=\"middle\" x=\"2829.5\" y=\"-156.8\" font-family=\"Times,serif\" font-size=\"14.00\">gini = 0.278</text>\n<text text-anchor=\"middle\" x=\"2829.5\" y=\"-141.8\" font-family=\"Times,serif\" font-size=\"14.00\">samples = 6</text>\n<text text-anchor=\"middle\" x=\"2829.5\" y=\"-126.8\" font-family=\"Times,serif\" font-size=\"14.00\">value = [5, 1]</text>\n<text text-anchor=\"middle\" x=\"2829.5\" y=\"-111.8\" font-family=\"Times,serif\" font-size=\"14.00\">class = no</text>\n</g>\n<!-- 47&#45;&gt;51 -->\n<g id=\"edge51\" class=\"edge\">\n<title>47&#45;&gt;51</title>\n<path fill=\"none\" stroke=\"black\" d=\"M2781.83,-222.91C2787.32,-214.1 2793.19,-204.7 2798.86,-195.61\"/>\n<polygon fill=\"black\" stroke=\"black\" points=\"2801.89,-197.36 2804.22,-187.02 2795.95,-193.65 2801.89,-197.36\"/>\n</g>\n<!-- 49 -->\n<g id=\"node50\" class=\"node\">\n<title>49</title>\n<polygon fill=\"#ecf6fd\" stroke=\"black\" points=\"2642,-68 2537,-68 2537,0 2642,0 2642,-68\"/>\n<text text-anchor=\"middle\" x=\"2589.5\" y=\"-52.8\" font-family=\"Times,serif\" font-size=\"14.00\">gini = 0.499</text>\n<text text-anchor=\"middle\" x=\"2589.5\" y=\"-37.8\" font-family=\"Times,serif\" font-size=\"14.00\">samples = 80</text>\n<text text-anchor=\"middle\" x=\"2589.5\" y=\"-22.8\" font-family=\"Times,serif\" font-size=\"14.00\">value = [38, 42]</text>\n<text text-anchor=\"middle\" x=\"2589.5\" y=\"-7.8\" font-family=\"Times,serif\" font-size=\"14.00\">class = yes</text>\n</g>\n<!-- 48&#45;&gt;49 -->\n<g id=\"edge49\" class=\"edge\">\n<title>48&#45;&gt;49</title>\n<path fill=\"none\" stroke=\"black\" d=\"M2656.03,-103.73C2647.11,-94.51 2637.65,-84.74 2628.74,-75.53\"/>\n<polygon fill=\"black\" stroke=\"black\" points=\"2631.21,-73.05 2621.74,-68.3 2626.18,-77.92 2631.21,-73.05\"/>\n</g>\n<!-- 50 -->\n<g id=\"node51\" class=\"node\">\n<title>50</title>\n<polygon fill=\"#96cbf1\" stroke=\"black\" points=\"2765,-68 2660,-68 2660,0 2765,0 2765,-68\"/>\n<text text-anchor=\"middle\" x=\"2712.5\" y=\"-52.8\" font-family=\"Times,serif\" font-size=\"14.00\">gini = 0.435</text>\n<text text-anchor=\"middle\" x=\"2712.5\" y=\"-37.8\" font-family=\"Times,serif\" font-size=\"14.00\">samples = 75</text>\n<text text-anchor=\"middle\" x=\"2712.5\" y=\"-22.8\" font-family=\"Times,serif\" font-size=\"14.00\">value = [24, 51]</text>\n<text text-anchor=\"middle\" x=\"2712.5\" y=\"-7.8\" font-family=\"Times,serif\" font-size=\"14.00\">class = yes</text>\n</g>\n<!-- 48&#45;&gt;50 -->\n<g id=\"edge50\" class=\"edge\">\n<title>48&#45;&gt;50</title>\n<path fill=\"none\" stroke=\"black\" d=\"M2701.83,-103.73C2703.12,-95.43 2704.48,-86.67 2705.78,-78.28\"/>\n<polygon fill=\"black\" stroke=\"black\" points=\"2709.25,-78.72 2707.33,-68.3 2702.34,-77.64 2709.25,-78.72\"/>\n</g>\n<!-- 52 -->\n<g id=\"node53\" class=\"node\">\n<title>52</title>\n<polygon fill=\"#ffffff\" stroke=\"black\" points=\"2875.5,-68 2783.5,-68 2783.5,0 2875.5,0 2875.5,-68\"/>\n<text text-anchor=\"middle\" x=\"2829.5\" y=\"-52.8\" font-family=\"Times,serif\" font-size=\"14.00\">gini = 0.5</text>\n<text text-anchor=\"middle\" x=\"2829.5\" y=\"-37.8\" font-family=\"Times,serif\" font-size=\"14.00\">samples = 2</text>\n<text text-anchor=\"middle\" x=\"2829.5\" y=\"-22.8\" font-family=\"Times,serif\" font-size=\"14.00\">value = [1, 1]</text>\n<text text-anchor=\"middle\" x=\"2829.5\" y=\"-7.8\" font-family=\"Times,serif\" font-size=\"14.00\">class = no</text>\n</g>\n<!-- 51&#45;&gt;52 -->\n<g id=\"edge52\" class=\"edge\">\n<title>51&#45;&gt;52</title>\n<path fill=\"none\" stroke=\"black\" d=\"M2829.5,-103.73C2829.5,-95.52 2829.5,-86.86 2829.5,-78.56\"/>\n<polygon fill=\"black\" stroke=\"black\" points=\"2833,-78.3 2829.5,-68.3 2826,-78.3 2833,-78.3\"/>\n</g>\n<!-- 53 -->\n<g id=\"node54\" class=\"node\">\n<title>53</title>\n<polygon fill=\"#e58139\" stroke=\"black\" points=\"2985.5,-68 2893.5,-68 2893.5,0 2985.5,0 2985.5,-68\"/>\n<text text-anchor=\"middle\" x=\"2939.5\" y=\"-52.8\" font-family=\"Times,serif\" font-size=\"14.00\">gini = 0.0</text>\n<text text-anchor=\"middle\" x=\"2939.5\" y=\"-37.8\" font-family=\"Times,serif\" font-size=\"14.00\">samples = 4</text>\n<text text-anchor=\"middle\" x=\"2939.5\" y=\"-22.8\" font-family=\"Times,serif\" font-size=\"14.00\">value = [4, 0]</text>\n<text text-anchor=\"middle\" x=\"2939.5\" y=\"-7.8\" font-family=\"Times,serif\" font-size=\"14.00\">class = no</text>\n</g>\n<!-- 51&#45;&gt;53 -->\n<g id=\"edge53\" class=\"edge\">\n<title>51&#45;&gt;53</title>\n<path fill=\"none\" stroke=\"black\" d=\"M2870.46,-103.73C2879.71,-94.51 2889.54,-84.74 2898.78,-75.53\"/>\n<polygon fill=\"black\" stroke=\"black\" points=\"2901.43,-77.84 2906.05,-68.3 2896.49,-72.87 2901.43,-77.84\"/>\n</g>\n<!-- 55 -->\n<g id=\"node56\" class=\"node\">\n<title>55</title>\n<polygon fill=\"#e58139\" stroke=\"black\" points=\"2997.5,-179.5 2905.5,-179.5 2905.5,-111.5 2997.5,-111.5 2997.5,-179.5\"/>\n<text text-anchor=\"middle\" x=\"2951.5\" y=\"-164.3\" font-family=\"Times,serif\" font-size=\"14.00\">gini = 0.0</text>\n<text text-anchor=\"middle\" x=\"2951.5\" y=\"-149.3\" font-family=\"Times,serif\" font-size=\"14.00\">samples = 8</text>\n<text text-anchor=\"middle\" x=\"2951.5\" y=\"-134.3\" font-family=\"Times,serif\" font-size=\"14.00\">value = [8, 0]</text>\n<text text-anchor=\"middle\" x=\"2951.5\" y=\"-119.3\" font-family=\"Times,serif\" font-size=\"14.00\">class = no</text>\n</g>\n<!-- 54&#45;&gt;55 -->\n<g id=\"edge55\" class=\"edge\">\n<title>54&#45;&gt;55</title>\n<path fill=\"none\" stroke=\"black\" d=\"M2951.5,-222.91C2951.5,-212.2 2951.5,-200.62 2951.5,-189.78\"/>\n<polygon fill=\"black\" stroke=\"black\" points=\"2955,-189.67 2951.5,-179.67 2948,-189.67 2955,-189.67\"/>\n</g>\n<!-- 56 -->\n<g id=\"node57\" class=\"node\">\n<title>56</title>\n<polygon fill=\"#fbeade\" stroke=\"black\" points=\"3139,-187 3016,-187 3016,-104 3139,-104 3139,-187\"/>\n<text text-anchor=\"middle\" x=\"3077.5\" y=\"-171.8\" font-family=\"Times,serif\" font-size=\"14.00\">duration &lt;= 1297.5</text>\n<text text-anchor=\"middle\" x=\"3077.5\" y=\"-156.8\" font-family=\"Times,serif\" font-size=\"14.00\">gini = 0.496</text>\n<text text-anchor=\"middle\" x=\"3077.5\" y=\"-141.8\" font-family=\"Times,serif\" font-size=\"14.00\">samples = 11</text>\n<text text-anchor=\"middle\" x=\"3077.5\" y=\"-126.8\" font-family=\"Times,serif\" font-size=\"14.00\">value = [6, 5]</text>\n<text text-anchor=\"middle\" x=\"3077.5\" y=\"-111.8\" font-family=\"Times,serif\" font-size=\"14.00\">class = no</text>\n</g>\n<!-- 54&#45;&gt;56 -->\n<g id=\"edge56\" class=\"edge\">\n<title>54&#45;&gt;56</title>\n<path fill=\"none\" stroke=\"black\" d=\"M2995.22,-222.91C3005.28,-213.56 3016.07,-203.54 3026.42,-193.93\"/>\n<polygon fill=\"black\" stroke=\"black\" points=\"3028.92,-196.39 3033.86,-187.02 3024.15,-191.26 3028.92,-196.39\"/>\n</g>\n<!-- 57 -->\n<g id=\"node58\" class=\"node\">\n<title>57</title>\n<polygon fill=\"#b0d8f5\" stroke=\"black\" points=\"3109.5,-68 3017.5,-68 3017.5,0 3109.5,0 3109.5,-68\"/>\n<text text-anchor=\"middle\" x=\"3063.5\" y=\"-52.8\" font-family=\"Times,serif\" font-size=\"14.00\">gini = 0.469</text>\n<text text-anchor=\"middle\" x=\"3063.5\" y=\"-37.8\" font-family=\"Times,serif\" font-size=\"14.00\">samples = 8</text>\n<text text-anchor=\"middle\" x=\"3063.5\" y=\"-22.8\" font-family=\"Times,serif\" font-size=\"14.00\">value = [3, 5]</text>\n<text text-anchor=\"middle\" x=\"3063.5\" y=\"-7.8\" font-family=\"Times,serif\" font-size=\"14.00\">class = yes</text>\n</g>\n<!-- 56&#45;&gt;57 -->\n<g id=\"edge57\" class=\"edge\">\n<title>56&#45;&gt;57</title>\n<path fill=\"none\" stroke=\"black\" d=\"M3072.29,-103.73C3071.23,-95.43 3070.11,-86.67 3069.03,-78.28\"/>\n<polygon fill=\"black\" stroke=\"black\" points=\"3072.5,-77.77 3067.76,-68.3 3065.55,-78.66 3072.5,-77.77\"/>\n</g>\n<!-- 58 -->\n<g id=\"node59\" class=\"node\">\n<title>58</title>\n<polygon fill=\"#e58139\" stroke=\"black\" points=\"3219.5,-68 3127.5,-68 3127.5,0 3219.5,0 3219.5,-68\"/>\n<text text-anchor=\"middle\" x=\"3173.5\" y=\"-52.8\" font-family=\"Times,serif\" font-size=\"14.00\">gini = 0.0</text>\n<text text-anchor=\"middle\" x=\"3173.5\" y=\"-37.8\" font-family=\"Times,serif\" font-size=\"14.00\">samples = 3</text>\n<text text-anchor=\"middle\" x=\"3173.5\" y=\"-22.8\" font-family=\"Times,serif\" font-size=\"14.00\">value = [3, 0]</text>\n<text text-anchor=\"middle\" x=\"3173.5\" y=\"-7.8\" font-family=\"Times,serif\" font-size=\"14.00\">class = no</text>\n</g>\n<!-- 56&#45;&gt;58 -->\n<g id=\"edge58\" class=\"edge\">\n<title>56&#45;&gt;58</title>\n<path fill=\"none\" stroke=\"black\" d=\"M3113.25,-103.73C3121.16,-94.7 3129.56,-85.12 3137.48,-76.08\"/>\n<polygon fill=\"black\" stroke=\"black\" points=\"3140.35,-78.13 3144.31,-68.3 3135.08,-73.51 3140.35,-78.13\"/>\n</g>\n</g>\n</svg>\n"
          },
          "metadata": {},
          "execution_count": 298
        }
      ],
      "metadata": {
        "id": "t_j8rbNbX6JV",
        "colab": {
          "base_uri": "https://localhost:8080/",
          "height": 953
        },
        "outputId": "eb686424-f2f0-4ef5-f411-743693b429eb"
      }
    },
    {
      "cell_type": "code",
      "execution_count": 299,
      "source": [
        "# Perform prediction on the test set\n",
        "y_pred = clf.predict(X_test)"
      ],
      "outputs": [],
      "metadata": {
        "id": "_ZNmnJCl-9op"
      }
    },
    {
      "cell_type": "code",
      "execution_count": 300,
      "source": [
        "# Get classification report\n",
        "from sklearn.metrics import classification_report\n",
        "from sklearn import metrics\n",
        "\n",
        "print(classification_report(y_test, y_pred))"
      ],
      "outputs": [
        {
          "output_type": "stream",
          "name": "stdout",
          "text": [
            "              precision    recall  f1-score   support\n",
            "\n",
            "          no       0.92      0.96      0.94      1188\n",
            "         yes       0.55      0.38      0.45       169\n",
            "\n",
            "    accuracy                           0.88      1357\n",
            "   macro avg       0.73      0.67      0.69      1357\n",
            "weighted avg       0.87      0.88      0.88      1357\n",
            "\n"
          ]
        }
      ],
      "metadata": {
        "id": "hZekTH02f6fO"
      }
    },
    {
      "cell_type": "markdown",
      "source": [
        "When comparing the Complete vs Selective model for Decision Trees, we can see that the accuracy actually decrease by 1% which is very interesting to see. The selective model had more trouble predicting \"yes\" classes than the Complete model. It is possible that the Decision Tree algorithm has possibly maximized its predicting ability and cannot further improve unless classes are balanced or data is further cleaned."
      ],
      "metadata": {}
    },
    {
      "cell_type": "markdown",
      "source": [
        "## Conclusion & Findings:\n",
        "\n",
        "It was very interesting to see how both machine-learning algorithms react to feature selections when comparing their complete models with their selectives. When comparing the Decision Tree models, I noticed that selecting features does not have a significant impact on how the model performs. The decision tree algorithm is very simple to the point that it would use those additional variables to increase the decision tree size which can lead to an increase of accuracy. However, a more complex decision tree can lead to overfitting very easily, so it is important to prune the tree so that it will not be so sensitive to awkward data.\n",
        "\n",
        "It was also very interesting to see how sensitive the Naive Bayes Model when selecting attributes. We saw a 28% increase when strategically selecting the attributes. It is shown that Naive Bayes works much better when implementing additional methods to properly select attributes. We can customize this model a lot more based on more analysis. We also know that Naive Bayes generally works a lot better with smaller amounts of data as it uses probabilities to properly predict the class. \n",
        "\n",
        "I am curious to see how both models react to data class balancing and further data cleaning methods to see how much of a difference it would make to their performance measures.\n",
        "\n",
        "For the bank marketing dataset, It is clear that the Complete Decision Tree model was the best predictor of whether or not customers would subscribe to a term deposit or not.\n",
        "\n"
      ],
      "metadata": {}
    }
  ]
}